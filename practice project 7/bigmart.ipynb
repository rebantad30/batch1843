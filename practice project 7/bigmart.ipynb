{
 "cells": [
  {
   "cell_type": "markdown",
   "id": "b42a9b6e",
   "metadata": {},
   "source": [
    "# loading the libraries"
   ]
  },
  {
   "cell_type": "code",
   "execution_count": 1,
   "id": "87f06a6e",
   "metadata": {},
   "outputs": [],
   "source": [
    "import numpy as np\n",
    "import pandas as pd\n",
    "import seaborn as sns\n",
    "import warnings\n",
    "warnings.filterwarnings(\"ignore\")\n",
    "import sklearn\n",
    "import matplotlib.pyplot as plt"
   ]
  },
  {
   "cell_type": "markdown",
   "id": "0b426cca",
   "metadata": {},
   "source": [
    "loading the dataset"
   ]
  },
  {
   "cell_type": "code",
   "execution_count": 2,
   "id": "cdf01979",
   "metadata": {},
   "outputs": [],
   "source": [
    "df=pd.read_csv('bigdatamart_train.csv')"
   ]
  },
  {
   "cell_type": "code",
   "execution_count": 3,
   "id": "d7b8eb12",
   "metadata": {},
   "outputs": [
    {
     "data": {
      "text/html": [
       "<div>\n",
       "<style scoped>\n",
       "    .dataframe tbody tr th:only-of-type {\n",
       "        vertical-align: middle;\n",
       "    }\n",
       "\n",
       "    .dataframe tbody tr th {\n",
       "        vertical-align: top;\n",
       "    }\n",
       "\n",
       "    .dataframe thead th {\n",
       "        text-align: right;\n",
       "    }\n",
       "</style>\n",
       "<table border=\"1\" class=\"dataframe\">\n",
       "  <thead>\n",
       "    <tr style=\"text-align: right;\">\n",
       "      <th></th>\n",
       "      <th>Item_Identifier</th>\n",
       "      <th>Item_Weight</th>\n",
       "      <th>Item_Fat_Content</th>\n",
       "      <th>Item_Visibility</th>\n",
       "      <th>Item_Type</th>\n",
       "      <th>Item_MRP</th>\n",
       "      <th>Outlet_Identifier</th>\n",
       "      <th>Outlet_Establishment_Year</th>\n",
       "      <th>Outlet_Size</th>\n",
       "      <th>Outlet_Location_Type</th>\n",
       "      <th>Outlet_Type</th>\n",
       "      <th>Item_Outlet_Sales</th>\n",
       "    </tr>\n",
       "  </thead>\n",
       "  <tbody>\n",
       "    <tr>\n",
       "      <th>0</th>\n",
       "      <td>FDA15</td>\n",
       "      <td>9.30</td>\n",
       "      <td>Low Fat</td>\n",
       "      <td>0.016047</td>\n",
       "      <td>Dairy</td>\n",
       "      <td>249.8092</td>\n",
       "      <td>OUT049</td>\n",
       "      <td>1999</td>\n",
       "      <td>Medium</td>\n",
       "      <td>Tier 1</td>\n",
       "      <td>Supermarket Type1</td>\n",
       "      <td>3735.1380</td>\n",
       "    </tr>\n",
       "    <tr>\n",
       "      <th>1</th>\n",
       "      <td>DRC01</td>\n",
       "      <td>5.92</td>\n",
       "      <td>Regular</td>\n",
       "      <td>0.019278</td>\n",
       "      <td>Soft Drinks</td>\n",
       "      <td>48.2692</td>\n",
       "      <td>OUT018</td>\n",
       "      <td>2009</td>\n",
       "      <td>Medium</td>\n",
       "      <td>Tier 3</td>\n",
       "      <td>Supermarket Type2</td>\n",
       "      <td>443.4228</td>\n",
       "    </tr>\n",
       "    <tr>\n",
       "      <th>2</th>\n",
       "      <td>FDN15</td>\n",
       "      <td>17.50</td>\n",
       "      <td>Low Fat</td>\n",
       "      <td>0.016760</td>\n",
       "      <td>Meat</td>\n",
       "      <td>141.6180</td>\n",
       "      <td>OUT049</td>\n",
       "      <td>1999</td>\n",
       "      <td>Medium</td>\n",
       "      <td>Tier 1</td>\n",
       "      <td>Supermarket Type1</td>\n",
       "      <td>2097.2700</td>\n",
       "    </tr>\n",
       "    <tr>\n",
       "      <th>3</th>\n",
       "      <td>FDX07</td>\n",
       "      <td>19.20</td>\n",
       "      <td>Regular</td>\n",
       "      <td>0.000000</td>\n",
       "      <td>Fruits and Vegetables</td>\n",
       "      <td>182.0950</td>\n",
       "      <td>OUT010</td>\n",
       "      <td>1998</td>\n",
       "      <td>NaN</td>\n",
       "      <td>Tier 3</td>\n",
       "      <td>Grocery Store</td>\n",
       "      <td>732.3800</td>\n",
       "    </tr>\n",
       "    <tr>\n",
       "      <th>4</th>\n",
       "      <td>NCD19</td>\n",
       "      <td>8.93</td>\n",
       "      <td>Low Fat</td>\n",
       "      <td>0.000000</td>\n",
       "      <td>Household</td>\n",
       "      <td>53.8614</td>\n",
       "      <td>OUT013</td>\n",
       "      <td>1987</td>\n",
       "      <td>High</td>\n",
       "      <td>Tier 3</td>\n",
       "      <td>Supermarket Type1</td>\n",
       "      <td>994.7052</td>\n",
       "    </tr>\n",
       "  </tbody>\n",
       "</table>\n",
       "</div>"
      ],
      "text/plain": [
       "  Item_Identifier  Item_Weight Item_Fat_Content  Item_Visibility  \\\n",
       "0           FDA15         9.30          Low Fat         0.016047   \n",
       "1           DRC01         5.92          Regular         0.019278   \n",
       "2           FDN15        17.50          Low Fat         0.016760   \n",
       "3           FDX07        19.20          Regular         0.000000   \n",
       "4           NCD19         8.93          Low Fat         0.000000   \n",
       "\n",
       "               Item_Type  Item_MRP Outlet_Identifier  \\\n",
       "0                  Dairy  249.8092            OUT049   \n",
       "1            Soft Drinks   48.2692            OUT018   \n",
       "2                   Meat  141.6180            OUT049   \n",
       "3  Fruits and Vegetables  182.0950            OUT010   \n",
       "4              Household   53.8614            OUT013   \n",
       "\n",
       "   Outlet_Establishment_Year Outlet_Size Outlet_Location_Type  \\\n",
       "0                       1999      Medium               Tier 1   \n",
       "1                       2009      Medium               Tier 3   \n",
       "2                       1999      Medium               Tier 1   \n",
       "3                       1998         NaN               Tier 3   \n",
       "4                       1987        High               Tier 3   \n",
       "\n",
       "         Outlet_Type  Item_Outlet_Sales  \n",
       "0  Supermarket Type1          3735.1380  \n",
       "1  Supermarket Type2           443.4228  \n",
       "2  Supermarket Type1          2097.2700  \n",
       "3      Grocery Store           732.3800  \n",
       "4  Supermarket Type1           994.7052  "
      ]
     },
     "execution_count": 3,
     "metadata": {},
     "output_type": "execute_result"
    }
   ],
   "source": [
    "df.head()"
   ]
  },
  {
   "cell_type": "markdown",
   "id": "53beb98e",
   "metadata": {},
   "source": [
    "the top 5 rows in the dataset\n",
    "description of the dataframe:\n",
    "The data scientists at BigMart have collected 2013 sales data for 1559 products across 10 stores in different cities. Also, certain attributes of each product and store have been defined. A prdictive model will be built to predict the sales of each product at a particular store. in the dataset, the target variable is the Item_Outlet_Sales and the rest are independent features. "
   ]
  },
  {
   "cell_type": "code",
   "execution_count": 4,
   "id": "381963d0",
   "metadata": {},
   "outputs": [
    {
     "data": {
      "text/html": [
       "<div>\n",
       "<style scoped>\n",
       "    .dataframe tbody tr th:only-of-type {\n",
       "        vertical-align: middle;\n",
       "    }\n",
       "\n",
       "    .dataframe tbody tr th {\n",
       "        vertical-align: top;\n",
       "    }\n",
       "\n",
       "    .dataframe thead th {\n",
       "        text-align: right;\n",
       "    }\n",
       "</style>\n",
       "<table border=\"1\" class=\"dataframe\">\n",
       "  <thead>\n",
       "    <tr style=\"text-align: right;\">\n",
       "      <th></th>\n",
       "      <th>Item_Identifier</th>\n",
       "      <th>Item_Weight</th>\n",
       "      <th>Item_Fat_Content</th>\n",
       "      <th>Item_Visibility</th>\n",
       "      <th>Item_Type</th>\n",
       "      <th>Item_MRP</th>\n",
       "      <th>Outlet_Identifier</th>\n",
       "      <th>Outlet_Establishment_Year</th>\n",
       "      <th>Outlet_Size</th>\n",
       "      <th>Outlet_Location_Type</th>\n",
       "      <th>Outlet_Type</th>\n",
       "      <th>Item_Outlet_Sales</th>\n",
       "    </tr>\n",
       "  </thead>\n",
       "  <tbody>\n",
       "    <tr>\n",
       "      <th>8518</th>\n",
       "      <td>FDF22</td>\n",
       "      <td>6.865</td>\n",
       "      <td>Low Fat</td>\n",
       "      <td>0.056783</td>\n",
       "      <td>Snack Foods</td>\n",
       "      <td>214.5218</td>\n",
       "      <td>OUT013</td>\n",
       "      <td>1987</td>\n",
       "      <td>High</td>\n",
       "      <td>Tier 3</td>\n",
       "      <td>Supermarket Type1</td>\n",
       "      <td>2778.3834</td>\n",
       "    </tr>\n",
       "    <tr>\n",
       "      <th>8519</th>\n",
       "      <td>FDS36</td>\n",
       "      <td>8.380</td>\n",
       "      <td>Regular</td>\n",
       "      <td>0.046982</td>\n",
       "      <td>Baking Goods</td>\n",
       "      <td>108.1570</td>\n",
       "      <td>OUT045</td>\n",
       "      <td>2002</td>\n",
       "      <td>NaN</td>\n",
       "      <td>Tier 2</td>\n",
       "      <td>Supermarket Type1</td>\n",
       "      <td>549.2850</td>\n",
       "    </tr>\n",
       "    <tr>\n",
       "      <th>8520</th>\n",
       "      <td>NCJ29</td>\n",
       "      <td>10.600</td>\n",
       "      <td>Low Fat</td>\n",
       "      <td>0.035186</td>\n",
       "      <td>Health and Hygiene</td>\n",
       "      <td>85.1224</td>\n",
       "      <td>OUT035</td>\n",
       "      <td>2004</td>\n",
       "      <td>Small</td>\n",
       "      <td>Tier 2</td>\n",
       "      <td>Supermarket Type1</td>\n",
       "      <td>1193.1136</td>\n",
       "    </tr>\n",
       "    <tr>\n",
       "      <th>8521</th>\n",
       "      <td>FDN46</td>\n",
       "      <td>7.210</td>\n",
       "      <td>Regular</td>\n",
       "      <td>0.145221</td>\n",
       "      <td>Snack Foods</td>\n",
       "      <td>103.1332</td>\n",
       "      <td>OUT018</td>\n",
       "      <td>2009</td>\n",
       "      <td>Medium</td>\n",
       "      <td>Tier 3</td>\n",
       "      <td>Supermarket Type2</td>\n",
       "      <td>1845.5976</td>\n",
       "    </tr>\n",
       "    <tr>\n",
       "      <th>8522</th>\n",
       "      <td>DRG01</td>\n",
       "      <td>14.800</td>\n",
       "      <td>Low Fat</td>\n",
       "      <td>0.044878</td>\n",
       "      <td>Soft Drinks</td>\n",
       "      <td>75.4670</td>\n",
       "      <td>OUT046</td>\n",
       "      <td>1997</td>\n",
       "      <td>Small</td>\n",
       "      <td>Tier 1</td>\n",
       "      <td>Supermarket Type1</td>\n",
       "      <td>765.6700</td>\n",
       "    </tr>\n",
       "  </tbody>\n",
       "</table>\n",
       "</div>"
      ],
      "text/plain": [
       "     Item_Identifier  Item_Weight Item_Fat_Content  Item_Visibility  \\\n",
       "8518           FDF22        6.865          Low Fat         0.056783   \n",
       "8519           FDS36        8.380          Regular         0.046982   \n",
       "8520           NCJ29       10.600          Low Fat         0.035186   \n",
       "8521           FDN46        7.210          Regular         0.145221   \n",
       "8522           DRG01       14.800          Low Fat         0.044878   \n",
       "\n",
       "               Item_Type  Item_MRP Outlet_Identifier  \\\n",
       "8518         Snack Foods  214.5218            OUT013   \n",
       "8519        Baking Goods  108.1570            OUT045   \n",
       "8520  Health and Hygiene   85.1224            OUT035   \n",
       "8521         Snack Foods  103.1332            OUT018   \n",
       "8522         Soft Drinks   75.4670            OUT046   \n",
       "\n",
       "      Outlet_Establishment_Year Outlet_Size Outlet_Location_Type  \\\n",
       "8518                       1987        High               Tier 3   \n",
       "8519                       2002         NaN               Tier 2   \n",
       "8520                       2004       Small               Tier 2   \n",
       "8521                       2009      Medium               Tier 3   \n",
       "8522                       1997       Small               Tier 1   \n",
       "\n",
       "            Outlet_Type  Item_Outlet_Sales  \n",
       "8518  Supermarket Type1          2778.3834  \n",
       "8519  Supermarket Type1           549.2850  \n",
       "8520  Supermarket Type1          1193.1136  \n",
       "8521  Supermarket Type2          1845.5976  \n",
       "8522  Supermarket Type1           765.6700  "
      ]
     },
     "execution_count": 4,
     "metadata": {},
     "output_type": "execute_result"
    }
   ],
   "source": [
    "df.tail()"
   ]
  },
  {
   "cell_type": "markdown",
   "id": "1f1f3210",
   "metadata": {},
   "source": [
    "the bottom 5 rows in the dataset"
   ]
  },
  {
   "cell_type": "code",
   "execution_count": 5,
   "id": "d81ee521",
   "metadata": {},
   "outputs": [
    {
     "name": "stdout",
     "output_type": "stream",
     "text": [
      "<class 'pandas.core.frame.DataFrame'>\n",
      "RangeIndex: 8523 entries, 0 to 8522\n",
      "Data columns (total 12 columns):\n",
      " #   Column                     Non-Null Count  Dtype  \n",
      "---  ------                     --------------  -----  \n",
      " 0   Item_Identifier            8523 non-null   object \n",
      " 1   Item_Weight                7060 non-null   float64\n",
      " 2   Item_Fat_Content           8523 non-null   object \n",
      " 3   Item_Visibility            8523 non-null   float64\n",
      " 4   Item_Type                  8523 non-null   object \n",
      " 5   Item_MRP                   8523 non-null   float64\n",
      " 6   Outlet_Identifier          8523 non-null   object \n",
      " 7   Outlet_Establishment_Year  8523 non-null   int64  \n",
      " 8   Outlet_Size                6113 non-null   object \n",
      " 9   Outlet_Location_Type       8523 non-null   object \n",
      " 10  Outlet_Type                8523 non-null   object \n",
      " 11  Item_Outlet_Sales          8523 non-null   float64\n",
      "dtypes: float64(4), int64(1), object(7)\n",
      "memory usage: 799.2+ KB\n"
     ]
    }
   ],
   "source": [
    "df.info()"
   ]
  },
  {
   "cell_type": "code",
   "execution_count": 6,
   "id": "9659ee62",
   "metadata": {},
   "outputs": [
    {
     "data": {
      "text/plain": [
       "(8523, 12)"
      ]
     },
     "execution_count": 6,
     "metadata": {},
     "output_type": "execute_result"
    }
   ],
   "source": [
    "df.shape"
   ]
  },
  {
   "cell_type": "code",
   "execution_count": 11,
   "id": "490ba190",
   "metadata": {},
   "outputs": [
    {
     "data": {
      "text/plain": [
       "Item_Identifier               object\n",
       "Item_Weight                  float64\n",
       "Item_Fat_Content              object\n",
       "Item_Visibility              float64\n",
       "Item_Type                     object\n",
       "Item_MRP                     float64\n",
       "Outlet_Identifier             object\n",
       "Outlet_Establishment_Year      int64\n",
       "Outlet_Size                   object\n",
       "Outlet_Location_Type          object\n",
       "Outlet_Type                   object\n",
       "Item_Outlet_Sales            float64\n",
       "dtype: object"
      ]
     },
     "execution_count": 11,
     "metadata": {},
     "output_type": "execute_result"
    }
   ],
   "source": [
    "df.dtypes"
   ]
  },
  {
   "cell_type": "markdown",
   "id": "08a54452",
   "metadata": {},
   "source": [
    "observation: in the dataset, object type columns are Item_Identifier , Item_Fat_Content, Item_Type,Outlet_Identifier  ,  observation: in the dataset, object type columns are Item_Identifier, Item_Fat_Content, Item_Type,Outlet_Identifier, and the rest are of numeric type  "
   ]
  },
  {
   "cell_type": "markdown",
   "id": "afb1eb5a",
   "metadata": {},
   "source": [
    "the dataset has 8523 rows and 12 columns"
   ]
  },
  {
   "cell_type": "code",
   "execution_count": 7,
   "id": "ae686270",
   "metadata": {},
   "outputs": [
    {
     "data": {
      "text/plain": [
       "Item_Identifier                 0\n",
       "Item_Weight                  1463\n",
       "Item_Fat_Content                0\n",
       "Item_Visibility                 0\n",
       "Item_Type                       0\n",
       "Item_MRP                        0\n",
       "Outlet_Identifier               0\n",
       "Outlet_Establishment_Year       0\n",
       "Outlet_Size                  2410\n",
       "Outlet_Location_Type            0\n",
       "Outlet_Type                     0\n",
       "Item_Outlet_Sales               0\n",
       "dtype: int64"
      ]
     },
     "execution_count": 7,
     "metadata": {},
     "output_type": "execute_result"
    }
   ],
   "source": [
    "df.isnull().sum()"
   ]
  },
  {
   "cell_type": "markdown",
   "id": "5aa739d3",
   "metadata": {},
   "source": [
    "in this dataset, the item weight column has 1463 null values and the outlet size column has 2410 null values"
   ]
  },
  {
   "cell_type": "markdown",
   "id": "734ed548",
   "metadata": {},
   "source": [
    "the null values needs to be replaced using the Simple Imputation"
   ]
  },
  {
   "cell_type": "markdown",
   "id": "042ded76",
   "metadata": {},
   "source": [
    "# Imputation"
   ]
  },
  {
   "cell_type": "code",
   "execution_count": 12,
   "id": "733ef0b8",
   "metadata": {},
   "outputs": [],
   "source": [
    "from sklearn.impute import SimpleImputer"
   ]
  },
  {
   "cell_type": "code",
   "execution_count": 14,
   "id": "5aa3182b",
   "metadata": {},
   "outputs": [],
   "source": [
    "imp=SimpleImputer(missing_values=np.NaN,strategy=\"mean\")"
   ]
  },
  {
   "cell_type": "code",
   "execution_count": 15,
   "id": "47cd78a5",
   "metadata": {},
   "outputs": [],
   "source": [
    "df['Item_Weight']=imp.fit_transform(df['Item_Weight'].values.reshape(-1,1))"
   ]
  },
  {
   "cell_type": "code",
   "execution_count": 18,
   "id": "f4d54e40",
   "metadata": {},
   "outputs": [
    {
     "data": {
      "text/plain": [
       "0"
      ]
     },
     "execution_count": 18,
     "metadata": {},
     "output_type": "execute_result"
    }
   ],
   "source": [
    "df['Item_Weight'].isnull().sum()"
   ]
  },
  {
   "cell_type": "markdown",
   "id": "771050b2",
   "metadata": {},
   "source": [
    "thus, the null values have been replaced by the mean value in the column"
   ]
  },
  {
   "cell_type": "code",
   "execution_count": 19,
   "id": "669d3238",
   "metadata": {},
   "outputs": [],
   "source": [
    "impu=SimpleImputer(missing_values=np.NaN,strategy=\"most_frequent\")"
   ]
  },
  {
   "cell_type": "code",
   "execution_count": 20,
   "id": "ec284320",
   "metadata": {},
   "outputs": [],
   "source": [
    "df['Outlet_Size']=impu.fit_transform(df['Outlet_Size'].values.reshape(-1,1))"
   ]
  },
  {
   "cell_type": "code",
   "execution_count": 21,
   "id": "88a445f0",
   "metadata": {},
   "outputs": [
    {
     "data": {
      "text/plain": [
       "0"
      ]
     },
     "execution_count": 21,
     "metadata": {},
     "output_type": "execute_result"
    }
   ],
   "source": [
    "df['Outlet_Size'].isnull().sum()"
   ]
  },
  {
   "cell_type": "markdown",
   "id": "1bce272a",
   "metadata": {},
   "source": [
    "the null values have been replaced by the most frequent values"
   ]
  },
  {
   "cell_type": "code",
   "execution_count": 22,
   "id": "1aa7588f",
   "metadata": {},
   "outputs": [
    {
     "data": {
      "text/plain": [
       "Item_Identifier              0\n",
       "Item_Weight                  0\n",
       "Item_Fat_Content             0\n",
       "Item_Visibility              0\n",
       "Item_Type                    0\n",
       "Item_MRP                     0\n",
       "Outlet_Identifier            0\n",
       "Outlet_Establishment_Year    0\n",
       "Outlet_Size                  0\n",
       "Outlet_Location_Type         0\n",
       "Outlet_Type                  0\n",
       "Item_Outlet_Sales            0\n",
       "dtype: int64"
      ]
     },
     "execution_count": 22,
     "metadata": {},
     "output_type": "execute_result"
    }
   ],
   "source": [
    "df.isnull().sum()"
   ]
  },
  {
   "cell_type": "code",
   "execution_count": 25,
   "id": "6a090d50",
   "metadata": {},
   "outputs": [
    {
     "data": {
      "text/plain": [
       "Item_Identifier               object\n",
       "Item_Weight                  float64\n",
       "Item_Fat_Content              object\n",
       "Item_Visibility              float64\n",
       "Item_Type                     object\n",
       "Item_MRP                     float64\n",
       "Outlet_Identifier             object\n",
       "Outlet_Establishment_Year      int64\n",
       "Outlet_Size                   object\n",
       "Outlet_Location_Type          object\n",
       "Outlet_Type                   object\n",
       "Item_Outlet_Sales            float64\n",
       "dtype: object"
      ]
     },
     "execution_count": 25,
     "metadata": {},
     "output_type": "execute_result"
    }
   ],
   "source": [
    "df.dtypes"
   ]
  },
  {
   "cell_type": "code",
   "execution_count": 30,
   "id": "306a4bf4",
   "metadata": {},
   "outputs": [
    {
     "data": {
      "text/plain": [
       "FDW13    10\n",
       "FDG33    10\n",
       "NCY18     9\n",
       "FDD38     9\n",
       "DRE49     9\n",
       "         ..\n",
       "FDY43     1\n",
       "FDQ60     1\n",
       "FDO33     1\n",
       "DRF48     1\n",
       "FDC23     1\n",
       "Name: Item_Identifier, Length: 1559, dtype: int64"
      ]
     },
     "execution_count": 30,
     "metadata": {},
     "output_type": "execute_result"
    }
   ],
   "source": [
    "df[\"Item_Identifier\"].value_counts()"
   ]
  },
  {
   "cell_type": "code",
   "execution_count": 31,
   "id": "bbdb1336",
   "metadata": {},
   "outputs": [
    {
     "data": {
      "text/plain": [
       "Low Fat    5089\n",
       "Regular    2889\n",
       "LF          316\n",
       "reg         117\n",
       "low fat     112\n",
       "Name: Item_Fat_Content, dtype: int64"
      ]
     },
     "execution_count": 31,
     "metadata": {},
     "output_type": "execute_result"
    }
   ],
   "source": [
    "df[\"Item_Fat_Content\"].value_counts()"
   ]
  },
  {
   "cell_type": "code",
   "execution_count": 32,
   "id": "c8a8679d",
   "metadata": {},
   "outputs": [
    {
     "data": {
      "text/plain": [
       "Fruits and Vegetables    1232\n",
       "Snack Foods              1200\n",
       "Household                 910\n",
       "Frozen Foods              856\n",
       "Dairy                     682\n",
       "Canned                    649\n",
       "Baking Goods              648\n",
       "Health and Hygiene        520\n",
       "Soft Drinks               445\n",
       "Meat                      425\n",
       "Breads                    251\n",
       "Hard Drinks               214\n",
       "Others                    169\n",
       "Starchy Foods             148\n",
       "Breakfast                 110\n",
       "Seafood                    64\n",
       "Name: Item_Type, dtype: int64"
      ]
     },
     "execution_count": 32,
     "metadata": {},
     "output_type": "execute_result"
    }
   ],
   "source": [
    "df[\"Item_Type\"].value_counts()"
   ]
  },
  {
   "cell_type": "code",
   "execution_count": 34,
   "id": "be011334",
   "metadata": {},
   "outputs": [
    {
     "data": {
      "text/plain": [
       "OUT027    935\n",
       "OUT013    932\n",
       "OUT049    930\n",
       "OUT046    930\n",
       "OUT035    930\n",
       "OUT045    929\n",
       "OUT018    928\n",
       "OUT017    926\n",
       "OUT010    555\n",
       "OUT019    528\n",
       "Name: Outlet_Identifier, dtype: int64"
      ]
     },
     "execution_count": 34,
     "metadata": {},
     "output_type": "execute_result"
    }
   ],
   "source": [
    "df[\"Outlet_Identifier\"].value_counts()"
   ]
  },
  {
   "cell_type": "code",
   "execution_count": 35,
   "id": "89720077",
   "metadata": {},
   "outputs": [
    {
     "data": {
      "text/plain": [
       "Medium    5203\n",
       "Small     2388\n",
       "High       932\n",
       "Name: Outlet_Size, dtype: int64"
      ]
     },
     "execution_count": 35,
     "metadata": {},
     "output_type": "execute_result"
    }
   ],
   "source": [
    "df[\"Outlet_Size\"].value_counts()"
   ]
  },
  {
   "cell_type": "code",
   "execution_count": 36,
   "id": "8455fc97",
   "metadata": {},
   "outputs": [
    {
     "data": {
      "text/plain": [
       "Supermarket Type1    5577\n",
       "Grocery Store        1083\n",
       "Supermarket Type3     935\n",
       "Supermarket Type2     928\n",
       "Name: Outlet_Type, dtype: int64"
      ]
     },
     "execution_count": 36,
     "metadata": {},
     "output_type": "execute_result"
    }
   ],
   "source": [
    "df[\"Outlet_Type\"].value_counts()"
   ]
  },
  {
   "cell_type": "code",
   "execution_count": 37,
   "id": "c8dcc306",
   "metadata": {},
   "outputs": [
    {
     "data": {
      "text/plain": [
       "Tier 3    3350\n",
       "Tier 2    2785\n",
       "Tier 1    2388\n",
       "Name: Outlet_Location_Type, dtype: int64"
      ]
     },
     "execution_count": 37,
     "metadata": {},
     "output_type": "execute_result"
    }
   ],
   "source": [
    "df[\"Outlet_Location_Type\"].value_counts()"
   ]
  },
  {
   "cell_type": "markdown",
   "id": "fb47cc0f",
   "metadata": {},
   "source": [
    "# Label Encoder"
   ]
  },
  {
   "cell_type": "markdown",
   "id": "a9e3fcc3",
   "metadata": {},
   "source": [
    "label encoding technique is used to convert object datatype into numeric data type for drawing of useful insights"
   ]
  },
  {
   "cell_type": "code",
   "execution_count": 24,
   "id": "696d8d12",
   "metadata": {},
   "outputs": [],
   "source": [
    "from sklearn.preprocessing import LabelEncoder"
   ]
  },
  {
   "cell_type": "code",
   "execution_count": 38,
   "id": "445d4784",
   "metadata": {},
   "outputs": [],
   "source": [
    "le=LabelEncoder()\n",
    "val=['Item_Fat_Content','Item_Type','Outlet_Identifier','Outlet_Size','Outlet_Type','Outlet_Location_Type']"
   ]
  },
  {
   "cell_type": "code",
   "execution_count": 39,
   "id": "463d3e47",
   "metadata": {},
   "outputs": [],
   "source": [
    "for i in val:\n",
    "    df[i]=le.fit_transform(df[i].astype(str))"
   ]
  },
  {
   "cell_type": "code",
   "execution_count": 119,
   "id": "37ab512f",
   "metadata": {},
   "outputs": [],
   "source": [
    "df[\"Item_Identifier\"]=le.fit_transform(df[\"Item_Identifier\"].astype(str))"
   ]
  },
  {
   "cell_type": "code",
   "execution_count": 120,
   "id": "f51e62b2",
   "metadata": {},
   "outputs": [
    {
     "data": {
      "text/html": [
       "<div>\n",
       "<style scoped>\n",
       "    .dataframe tbody tr th:only-of-type {\n",
       "        vertical-align: middle;\n",
       "    }\n",
       "\n",
       "    .dataframe tbody tr th {\n",
       "        vertical-align: top;\n",
       "    }\n",
       "\n",
       "    .dataframe thead th {\n",
       "        text-align: right;\n",
       "    }\n",
       "</style>\n",
       "<table border=\"1\" class=\"dataframe\">\n",
       "  <thead>\n",
       "    <tr style=\"text-align: right;\">\n",
       "      <th></th>\n",
       "      <th>Item_Identifier</th>\n",
       "      <th>Item_Weight</th>\n",
       "      <th>Item_Fat_Content</th>\n",
       "      <th>Item_Visibility</th>\n",
       "      <th>Item_Type</th>\n",
       "      <th>Item_MRP</th>\n",
       "      <th>Outlet_Identifier</th>\n",
       "      <th>Outlet_Establishment_Year</th>\n",
       "      <th>Outlet_Size</th>\n",
       "      <th>Outlet_Location_Type</th>\n",
       "      <th>Outlet_Type</th>\n",
       "      <th>Item_Outlet_Sales</th>\n",
       "    </tr>\n",
       "  </thead>\n",
       "  <tbody>\n",
       "    <tr>\n",
       "      <th>0</th>\n",
       "      <td>156</td>\n",
       "      <td>9.300</td>\n",
       "      <td>1</td>\n",
       "      <td>0.016047</td>\n",
       "      <td>4</td>\n",
       "      <td>249.8092</td>\n",
       "      <td>9</td>\n",
       "      <td>1999</td>\n",
       "      <td>1</td>\n",
       "      <td>0</td>\n",
       "      <td>1</td>\n",
       "      <td>3735.1380</td>\n",
       "    </tr>\n",
       "    <tr>\n",
       "      <th>1</th>\n",
       "      <td>8</td>\n",
       "      <td>5.920</td>\n",
       "      <td>2</td>\n",
       "      <td>0.019278</td>\n",
       "      <td>14</td>\n",
       "      <td>48.2692</td>\n",
       "      <td>3</td>\n",
       "      <td>2009</td>\n",
       "      <td>1</td>\n",
       "      <td>2</td>\n",
       "      <td>2</td>\n",
       "      <td>443.4228</td>\n",
       "    </tr>\n",
       "    <tr>\n",
       "      <th>2</th>\n",
       "      <td>662</td>\n",
       "      <td>17.500</td>\n",
       "      <td>1</td>\n",
       "      <td>0.016760</td>\n",
       "      <td>10</td>\n",
       "      <td>141.6180</td>\n",
       "      <td>9</td>\n",
       "      <td>1999</td>\n",
       "      <td>1</td>\n",
       "      <td>0</td>\n",
       "      <td>1</td>\n",
       "      <td>2097.2700</td>\n",
       "    </tr>\n",
       "    <tr>\n",
       "      <th>3</th>\n",
       "      <td>1121</td>\n",
       "      <td>19.200</td>\n",
       "      <td>2</td>\n",
       "      <td>0.000000</td>\n",
       "      <td>6</td>\n",
       "      <td>182.0950</td>\n",
       "      <td>0</td>\n",
       "      <td>1998</td>\n",
       "      <td>1</td>\n",
       "      <td>2</td>\n",
       "      <td>0</td>\n",
       "      <td>732.3800</td>\n",
       "    </tr>\n",
       "    <tr>\n",
       "      <th>4</th>\n",
       "      <td>1297</td>\n",
       "      <td>8.930</td>\n",
       "      <td>1</td>\n",
       "      <td>0.000000</td>\n",
       "      <td>9</td>\n",
       "      <td>53.8614</td>\n",
       "      <td>1</td>\n",
       "      <td>1987</td>\n",
       "      <td>0</td>\n",
       "      <td>2</td>\n",
       "      <td>1</td>\n",
       "      <td>994.7052</td>\n",
       "    </tr>\n",
       "    <tr>\n",
       "      <th>...</th>\n",
       "      <td>...</td>\n",
       "      <td>...</td>\n",
       "      <td>...</td>\n",
       "      <td>...</td>\n",
       "      <td>...</td>\n",
       "      <td>...</td>\n",
       "      <td>...</td>\n",
       "      <td>...</td>\n",
       "      <td>...</td>\n",
       "      <td>...</td>\n",
       "      <td>...</td>\n",
       "      <td>...</td>\n",
       "    </tr>\n",
       "    <tr>\n",
       "      <th>8518</th>\n",
       "      <td>370</td>\n",
       "      <td>6.865</td>\n",
       "      <td>1</td>\n",
       "      <td>0.056783</td>\n",
       "      <td>13</td>\n",
       "      <td>214.5218</td>\n",
       "      <td>1</td>\n",
       "      <td>1987</td>\n",
       "      <td>0</td>\n",
       "      <td>2</td>\n",
       "      <td>1</td>\n",
       "      <td>2778.3834</td>\n",
       "    </tr>\n",
       "    <tr>\n",
       "      <th>8519</th>\n",
       "      <td>897</td>\n",
       "      <td>8.380</td>\n",
       "      <td>2</td>\n",
       "      <td>0.046982</td>\n",
       "      <td>0</td>\n",
       "      <td>108.1570</td>\n",
       "      <td>7</td>\n",
       "      <td>2002</td>\n",
       "      <td>1</td>\n",
       "      <td>1</td>\n",
       "      <td>1</td>\n",
       "      <td>549.2850</td>\n",
       "    </tr>\n",
       "    <tr>\n",
       "      <th>8520</th>\n",
       "      <td>1357</td>\n",
       "      <td>10.600</td>\n",
       "      <td>1</td>\n",
       "      <td>0.035186</td>\n",
       "      <td>8</td>\n",
       "      <td>85.1224</td>\n",
       "      <td>6</td>\n",
       "      <td>2004</td>\n",
       "      <td>2</td>\n",
       "      <td>1</td>\n",
       "      <td>1</td>\n",
       "      <td>1193.1136</td>\n",
       "    </tr>\n",
       "    <tr>\n",
       "      <th>8521</th>\n",
       "      <td>681</td>\n",
       "      <td>7.210</td>\n",
       "      <td>2</td>\n",
       "      <td>0.145221</td>\n",
       "      <td>13</td>\n",
       "      <td>103.1332</td>\n",
       "      <td>3</td>\n",
       "      <td>2009</td>\n",
       "      <td>1</td>\n",
       "      <td>2</td>\n",
       "      <td>2</td>\n",
       "      <td>1845.5976</td>\n",
       "    </tr>\n",
       "    <tr>\n",
       "      <th>8522</th>\n",
       "      <td>50</td>\n",
       "      <td>14.800</td>\n",
       "      <td>1</td>\n",
       "      <td>0.044878</td>\n",
       "      <td>14</td>\n",
       "      <td>75.4670</td>\n",
       "      <td>8</td>\n",
       "      <td>1997</td>\n",
       "      <td>2</td>\n",
       "      <td>0</td>\n",
       "      <td>1</td>\n",
       "      <td>765.6700</td>\n",
       "    </tr>\n",
       "  </tbody>\n",
       "</table>\n",
       "<p>8523 rows × 12 columns</p>\n",
       "</div>"
      ],
      "text/plain": [
       "      Item_Identifier  Item_Weight  Item_Fat_Content  Item_Visibility  \\\n",
       "0                 156        9.300                 1         0.016047   \n",
       "1                   8        5.920                 2         0.019278   \n",
       "2                 662       17.500                 1         0.016760   \n",
       "3                1121       19.200                 2         0.000000   \n",
       "4                1297        8.930                 1         0.000000   \n",
       "...               ...          ...               ...              ...   \n",
       "8518              370        6.865                 1         0.056783   \n",
       "8519              897        8.380                 2         0.046982   \n",
       "8520             1357       10.600                 1         0.035186   \n",
       "8521              681        7.210                 2         0.145221   \n",
       "8522               50       14.800                 1         0.044878   \n",
       "\n",
       "      Item_Type  Item_MRP  Outlet_Identifier  Outlet_Establishment_Year  \\\n",
       "0             4  249.8092                  9                       1999   \n",
       "1            14   48.2692                  3                       2009   \n",
       "2            10  141.6180                  9                       1999   \n",
       "3             6  182.0950                  0                       1998   \n",
       "4             9   53.8614                  1                       1987   \n",
       "...         ...       ...                ...                        ...   \n",
       "8518         13  214.5218                  1                       1987   \n",
       "8519          0  108.1570                  7                       2002   \n",
       "8520          8   85.1224                  6                       2004   \n",
       "8521         13  103.1332                  3                       2009   \n",
       "8522         14   75.4670                  8                       1997   \n",
       "\n",
       "      Outlet_Size  Outlet_Location_Type  Outlet_Type  Item_Outlet_Sales  \n",
       "0               1                     0            1          3735.1380  \n",
       "1               1                     2            2           443.4228  \n",
       "2               1                     0            1          2097.2700  \n",
       "3               1                     2            0           732.3800  \n",
       "4               0                     2            1           994.7052  \n",
       "...           ...                   ...          ...                ...  \n",
       "8518            0                     2            1          2778.3834  \n",
       "8519            1                     1            1           549.2850  \n",
       "8520            2                     1            1          1193.1136  \n",
       "8521            1                     2            2          1845.5976  \n",
       "8522            2                     0            1           765.6700  \n",
       "\n",
       "[8523 rows x 12 columns]"
      ]
     },
     "execution_count": 120,
     "metadata": {},
     "output_type": "execute_result"
    }
   ],
   "source": [
    "df"
   ]
  },
  {
   "cell_type": "markdown",
   "id": "d818413d",
   "metadata": {},
   "source": [
    "# Descriptive statistics"
   ]
  },
  {
   "cell_type": "code",
   "execution_count": 41,
   "id": "1fea90ac",
   "metadata": {},
   "outputs": [
    {
     "data": {
      "text/html": [
       "<div>\n",
       "<style scoped>\n",
       "    .dataframe tbody tr th:only-of-type {\n",
       "        vertical-align: middle;\n",
       "    }\n",
       "\n",
       "    .dataframe tbody tr th {\n",
       "        vertical-align: top;\n",
       "    }\n",
       "\n",
       "    .dataframe thead th {\n",
       "        text-align: right;\n",
       "    }\n",
       "</style>\n",
       "<table border=\"1\" class=\"dataframe\">\n",
       "  <thead>\n",
       "    <tr style=\"text-align: right;\">\n",
       "      <th></th>\n",
       "      <th>Item_Weight</th>\n",
       "      <th>Item_Fat_Content</th>\n",
       "      <th>Item_Visibility</th>\n",
       "      <th>Item_Type</th>\n",
       "      <th>Item_MRP</th>\n",
       "      <th>Outlet_Identifier</th>\n",
       "      <th>Outlet_Establishment_Year</th>\n",
       "      <th>Outlet_Size</th>\n",
       "      <th>Outlet_Location_Type</th>\n",
       "      <th>Outlet_Type</th>\n",
       "      <th>Item_Outlet_Sales</th>\n",
       "    </tr>\n",
       "  </thead>\n",
       "  <tbody>\n",
       "    <tr>\n",
       "      <th>count</th>\n",
       "      <td>8523.000000</td>\n",
       "      <td>8523.000000</td>\n",
       "      <td>8523.000000</td>\n",
       "      <td>8523.000000</td>\n",
       "      <td>8523.000000</td>\n",
       "      <td>8523.000000</td>\n",
       "      <td>8523.000000</td>\n",
       "      <td>8523.000000</td>\n",
       "      <td>8523.000000</td>\n",
       "      <td>8523.000000</td>\n",
       "      <td>8523.000000</td>\n",
       "    </tr>\n",
       "    <tr>\n",
       "      <th>mean</th>\n",
       "      <td>12.857645</td>\n",
       "      <td>1.369354</td>\n",
       "      <td>0.066132</td>\n",
       "      <td>7.226681</td>\n",
       "      <td>140.992782</td>\n",
       "      <td>4.722281</td>\n",
       "      <td>1997.831867</td>\n",
       "      <td>1.170832</td>\n",
       "      <td>1.112871</td>\n",
       "      <td>1.201220</td>\n",
       "      <td>2181.288914</td>\n",
       "    </tr>\n",
       "    <tr>\n",
       "      <th>std</th>\n",
       "      <td>4.226124</td>\n",
       "      <td>0.644810</td>\n",
       "      <td>0.051598</td>\n",
       "      <td>4.209990</td>\n",
       "      <td>62.275067</td>\n",
       "      <td>2.837201</td>\n",
       "      <td>8.371760</td>\n",
       "      <td>0.600327</td>\n",
       "      <td>0.812757</td>\n",
       "      <td>0.796459</td>\n",
       "      <td>1706.499616</td>\n",
       "    </tr>\n",
       "    <tr>\n",
       "      <th>min</th>\n",
       "      <td>4.555000</td>\n",
       "      <td>0.000000</td>\n",
       "      <td>0.000000</td>\n",
       "      <td>0.000000</td>\n",
       "      <td>31.290000</td>\n",
       "      <td>0.000000</td>\n",
       "      <td>1985.000000</td>\n",
       "      <td>0.000000</td>\n",
       "      <td>0.000000</td>\n",
       "      <td>0.000000</td>\n",
       "      <td>33.290000</td>\n",
       "    </tr>\n",
       "    <tr>\n",
       "      <th>25%</th>\n",
       "      <td>9.310000</td>\n",
       "      <td>1.000000</td>\n",
       "      <td>0.026989</td>\n",
       "      <td>4.000000</td>\n",
       "      <td>93.826500</td>\n",
       "      <td>2.000000</td>\n",
       "      <td>1987.000000</td>\n",
       "      <td>1.000000</td>\n",
       "      <td>0.000000</td>\n",
       "      <td>1.000000</td>\n",
       "      <td>834.247400</td>\n",
       "    </tr>\n",
       "    <tr>\n",
       "      <th>50%</th>\n",
       "      <td>12.857645</td>\n",
       "      <td>1.000000</td>\n",
       "      <td>0.053931</td>\n",
       "      <td>6.000000</td>\n",
       "      <td>143.012800</td>\n",
       "      <td>5.000000</td>\n",
       "      <td>1999.000000</td>\n",
       "      <td>1.000000</td>\n",
       "      <td>1.000000</td>\n",
       "      <td>1.000000</td>\n",
       "      <td>1794.331000</td>\n",
       "    </tr>\n",
       "    <tr>\n",
       "      <th>75%</th>\n",
       "      <td>16.000000</td>\n",
       "      <td>2.000000</td>\n",
       "      <td>0.094585</td>\n",
       "      <td>10.000000</td>\n",
       "      <td>185.643700</td>\n",
       "      <td>7.000000</td>\n",
       "      <td>2004.000000</td>\n",
       "      <td>2.000000</td>\n",
       "      <td>2.000000</td>\n",
       "      <td>1.000000</td>\n",
       "      <td>3101.296400</td>\n",
       "    </tr>\n",
       "    <tr>\n",
       "      <th>max</th>\n",
       "      <td>21.350000</td>\n",
       "      <td>4.000000</td>\n",
       "      <td>0.328391</td>\n",
       "      <td>15.000000</td>\n",
       "      <td>266.888400</td>\n",
       "      <td>9.000000</td>\n",
       "      <td>2009.000000</td>\n",
       "      <td>2.000000</td>\n",
       "      <td>2.000000</td>\n",
       "      <td>3.000000</td>\n",
       "      <td>13086.964800</td>\n",
       "    </tr>\n",
       "  </tbody>\n",
       "</table>\n",
       "</div>"
      ],
      "text/plain": [
       "       Item_Weight  Item_Fat_Content  Item_Visibility    Item_Type  \\\n",
       "count  8523.000000       8523.000000      8523.000000  8523.000000   \n",
       "mean     12.857645          1.369354         0.066132     7.226681   \n",
       "std       4.226124          0.644810         0.051598     4.209990   \n",
       "min       4.555000          0.000000         0.000000     0.000000   \n",
       "25%       9.310000          1.000000         0.026989     4.000000   \n",
       "50%      12.857645          1.000000         0.053931     6.000000   \n",
       "75%      16.000000          2.000000         0.094585    10.000000   \n",
       "max      21.350000          4.000000         0.328391    15.000000   \n",
       "\n",
       "          Item_MRP  Outlet_Identifier  Outlet_Establishment_Year  Outlet_Size  \\\n",
       "count  8523.000000        8523.000000                8523.000000  8523.000000   \n",
       "mean    140.992782           4.722281                1997.831867     1.170832   \n",
       "std      62.275067           2.837201                   8.371760     0.600327   \n",
       "min      31.290000           0.000000                1985.000000     0.000000   \n",
       "25%      93.826500           2.000000                1987.000000     1.000000   \n",
       "50%     143.012800           5.000000                1999.000000     1.000000   \n",
       "75%     185.643700           7.000000                2004.000000     2.000000   \n",
       "max     266.888400           9.000000                2009.000000     2.000000   \n",
       "\n",
       "       Outlet_Location_Type  Outlet_Type  Item_Outlet_Sales  \n",
       "count           8523.000000  8523.000000        8523.000000  \n",
       "mean               1.112871     1.201220        2181.288914  \n",
       "std                0.812757     0.796459        1706.499616  \n",
       "min                0.000000     0.000000          33.290000  \n",
       "25%                0.000000     1.000000         834.247400  \n",
       "50%                1.000000     1.000000        1794.331000  \n",
       "75%                2.000000     1.000000        3101.296400  \n",
       "max                2.000000     3.000000       13086.964800  "
      ]
     },
     "execution_count": 41,
     "metadata": {},
     "output_type": "execute_result"
    }
   ],
   "source": [
    "df.describe()"
   ]
  },
  {
   "cell_type": "markdown",
   "id": "7086cc01",
   "metadata": {},
   "source": [
    "observation: no skewness is present in any of the columns"
   ]
  },
  {
   "cell_type": "markdown",
   "id": "e2bd1bf6",
   "metadata": {},
   "source": [
    "to check for correlation between the columns"
   ]
  },
  {
   "cell_type": "code",
   "execution_count": 43,
   "id": "c0558bb9",
   "metadata": {},
   "outputs": [
    {
     "data": {
      "image/png": "[encoded data removed]",
      "text/plain": [
       "<Figure size 1008x576 with 2 Axes>"
      ]
     },
     "metadata": {
      "needs_background": "light"
     },
     "output_type": "display_data"
    }
   ],
   "source": [
    "plt.figure(figsize=(14,8))\n",
    "sns.heatmap(df.corr(),annot=True,linewidth=0.2,fmt=\"0.2f\")\n",
    "plt.show()"
   ]
  },
  {
   "cell_type": "code",
   "execution_count": 44,
   "id": "b38c245e",
   "metadata": {},
   "outputs": [
    {
     "data": {
      "text/plain": [
       "Item_Visibility             -0.128625\n",
       "Outlet_Size                 -0.086182\n",
       "Outlet_Establishment_Year   -0.049135\n",
       "Item_Fat_Content             0.009800\n",
       "Item_Weight                  0.011550\n",
       "Item_Type                    0.017048\n",
       "Outlet_Location_Type         0.089367\n",
       "Outlet_Identifier            0.162325\n",
       "Outlet_Type                  0.401522\n",
       "Item_MRP                     0.567574\n",
       "Item_Outlet_Sales            1.000000\n",
       "Name: Item_Outlet_Sales, dtype: float64"
      ]
     },
     "execution_count": 44,
     "metadata": {},
     "output_type": "execute_result"
    }
   ],
   "source": [
    "df.corr()['Item_Outlet_Sales'].sort_values()"
   ]
  },
  {
   "cell_type": "markdown",
   "id": "9eaa908d",
   "metadata": {},
   "source": [
    "the correlation of the independent features with the target column is between +/-0.5\n",
    "since, Outlet_Establishment_Year has correlation close to 0, it can be dropped.   "
   ]
  },
  {
   "cell_type": "code",
   "execution_count": 113,
   "id": "93364a36",
   "metadata": {},
   "outputs": [],
   "source": [
    "# conversion of item_identifier to categorical type\n",
    "df.Item_Identifier = df.Item_Identifier.astype('category')"
   ]
  },
  {
   "cell_type": "code",
   "execution_count": 122,
   "id": "17284407",
   "metadata": {},
   "outputs": [],
   "source": [
    "x=df.drop([\"Item_Outlet_Sales\",],axis=1)\n",
    "y=df[\"Item_Outlet_Sales\"]"
   ]
  },
  {
   "cell_type": "markdown",
   "id": "b2035267",
   "metadata": {},
   "source": [
    "## univariate and bivariate analysis"
   ]
  },
  {
   "cell_type": "code",
   "execution_count": 82,
   "id": "52a28b36",
   "metadata": {},
   "outputs": [
    {
     "data": {
      "text/plain": [
       "<AxesSubplot:xlabel='Item_Fat_Content', ylabel='count'>"
      ]
     },
     "execution_count": 82,
     "metadata": {},
     "output_type": "execute_result"
    },
    {
     "data": {
      "image/png": "[encoded data removed]",
      "text/plain": [
       "<Figure size 432x288 with 1 Axes>"
      ]
     },
     "metadata": {
      "needs_background": "light"
     },
     "output_type": "display_data"
    }
   ],
   "source": [
    "sns.countplot(df[\"Item_Fat_Content\"])"
   ]
  },
  {
   "cell_type": "markdown",
   "id": "c70c94ae",
   "metadata": {},
   "source": [
    "observation: it can be identified that there are 4 different types of Item_Fat_content and the majority is of type 1 and 2"
   ]
  },
  {
   "cell_type": "code",
   "execution_count": 83,
   "id": "a65cb014",
   "metadata": {},
   "outputs": [
    {
     "data": {
      "text/plain": [
       "<AxesSubplot:xlabel='Item_Type', ylabel='count'>"
      ]
     },
     "execution_count": 83,
     "metadata": {},
     "output_type": "execute_result"
    },
    {
     "data": {
      "image/png": "[encoded data removed]",
      "text/plain": [
       "<Figure size 432x288 with 1 Axes>"
      ]
     },
     "metadata": {
      "needs_background": "light"
     },
     "output_type": "display_data"
    }
   ],
   "source": [
    "sns.countplot(df[\"Item_Type\"])"
   ]
  },
  {
   "cell_type": "markdown",
   "id": "32bd8744",
   "metadata": {},
   "source": [
    "observation: it can be identified that there are 15 different types of Item_Type"
   ]
  },
  {
   "cell_type": "code",
   "execution_count": 85,
   "id": "4a1fd990",
   "metadata": {},
   "outputs": [
    {
     "data": {
      "text/plain": [
       "<AxesSubplot:xlabel='Outlet_Identifier', ylabel='count'>"
      ]
     },
     "execution_count": 85,
     "metadata": {},
     "output_type": "execute_result"
    },
    {
     "data": {
      "image/png": "[encoded data removed]",
      "text/plain": [
       "<Figure size 432x288 with 1 Axes>"
      ]
     },
     "metadata": {
      "needs_background": "light"
     },
     "output_type": "display_data"
    }
   ],
   "source": [
    "sns.countplot(df[\"Outlet_Identifier\"])"
   ]
  },
  {
   "cell_type": "markdown",
   "id": "7c1343ea",
   "metadata": {},
   "source": [
    "observation: it can be identified that there are 9 different types of Outlet_identifier"
   ]
  },
  {
   "cell_type": "code",
   "execution_count": 86,
   "id": "04f52751",
   "metadata": {},
   "outputs": [
    {
     "data": {
      "text/plain": [
       "<AxesSubplot:xlabel='Outlet_Size', ylabel='count'>"
      ]
     },
     "execution_count": 86,
     "metadata": {},
     "output_type": "execute_result"
    },
    {
     "data": {
      "image/png": "[encoded data removed]",
      "text/plain": [
       "<Figure size 432x288 with 1 Axes>"
      ]
     },
     "metadata": {
      "needs_background": "light"
     },
     "output_type": "display_data"
    }
   ],
   "source": [
    "sns.countplot(df[\"Outlet_Size\"])"
   ]
  },
  {
   "cell_type": "markdown",
   "id": "61385537",
   "metadata": {},
   "source": [
    "observation: it can be identified that there are 3 different types of Outlet_size and the majority is of type 1 "
   ]
  },
  {
   "cell_type": "code",
   "execution_count": 87,
   "id": "5f5a47a3",
   "metadata": {},
   "outputs": [
    {
     "data": {
      "text/plain": [
       "<AxesSubplot:xlabel='Outlet_Location_Type', ylabel='count'>"
      ]
     },
     "execution_count": 87,
     "metadata": {},
     "output_type": "execute_result"
    },
    {
     "data": {
      "image/png": "[encoded data removed]",
      "text/plain": [
       "<Figure size 432x288 with 1 Axes>"
      ]
     },
     "metadata": {
      "needs_background": "light"
     },
     "output_type": "display_data"
    }
   ],
   "source": [
    "sns.countplot(df[\"Outlet_Location_Type\"])"
   ]
  },
  {
   "cell_type": "markdown",
   "id": "0fd1f68b",
   "metadata": {},
   "source": [
    "observation: it can be identified that there are 3 different types of outlet_location_type "
   ]
  },
  {
   "cell_type": "code",
   "execution_count": 88,
   "id": "4b211341",
   "metadata": {},
   "outputs": [
    {
     "data": {
      "text/plain": [
       "<AxesSubplot:xlabel='Outlet_Type', ylabel='count'>"
      ]
     },
     "execution_count": 88,
     "metadata": {},
     "output_type": "execute_result"
    },
    {
     "data": {
      "image/png": "[encoded data removed]",
      "text/plain": [
       "<Figure size 432x288 with 1 Axes>"
      ]
     },
     "metadata": {
      "needs_background": "light"
     },
     "output_type": "display_data"
    }
   ],
   "source": [
    "sns.countplot(df[\"Outlet_Type\"])"
   ]
  },
  {
   "cell_type": "markdown",
   "id": "bb2a035b",
   "metadata": {},
   "source": [
    "observation: it can be identified that there are 4 different types of outlet type and the majority is of type 1 "
   ]
  },
  {
   "cell_type": "code",
   "execution_count": 98,
   "id": "9650a7bb",
   "metadata": {
    "scrolled": true
   },
   "outputs": [
    {
     "data": {
      "text/plain": [
       "<AxesSubplot:xlabel='Item_Weight', ylabel='Item_Outlet_Sales'>"
      ]
     },
     "execution_count": 98,
     "metadata": {},
     "output_type": "execute_result"
    },
    {
     "data": {
      "image/png": "[encoded data removed]",
      "text/plain": [
       "<Figure size 432x288 with 1 Axes>"
      ]
     },
     "metadata": {
      "needs_background": "light"
     },
     "output_type": "display_data"
    }
   ],
   "source": [
    "sns.scatterplot(data=df,x=\"Item_Weight\",y=\"Item_Outlet_Sales\")"
   ]
  },
  {
   "cell_type": "markdown",
   "id": "30e87dd0",
   "metadata": {},
   "source": [
    "observation: items with itemweight between 5 to 20 kg have outlet sales between 0 to 8000 but the maximum sales of 12000 is for the item weight of 13."
   ]
  },
  {
   "cell_type": "code",
   "execution_count": 99,
   "id": "f3935921",
   "metadata": {},
   "outputs": [
    {
     "data": {
      "text/plain": [
       "<AxesSubplot:xlabel='Item_Fat_Content', ylabel='Item_Outlet_Sales'>"
      ]
     },
     "execution_count": 99,
     "metadata": {},
     "output_type": "execute_result"
    },
    {
     "data": {
      "image/png": "[encoded data removed]",
      "text/plain": [
       "<Figure size 432x288 with 1 Axes>"
      ]
     },
     "metadata": {
      "needs_background": "light"
     },
     "output_type": "display_data"
    }
   ],
   "source": [
    "sns.scatterplot(data=df,x=\"Item_Fat_Content\",y=\"Item_Outlet_Sales\")"
   ]
  },
  {
   "cell_type": "markdown",
   "id": "201a332f",
   "metadata": {},
   "source": [
    "observation: item with fat content 0 has outlet sales of close to 8000, item with fat content 1 has outlet sales of close to 12000, item with fat content of 2 units has outlet sales of close to 11000, item with fat content 3 units has outlet sales of close to 7000 and item with fat content 4 units has outlet sales of close to 6000"
   ]
  },
  {
   "cell_type": "code",
   "execution_count": 101,
   "id": "aeff6473",
   "metadata": {},
   "outputs": [
    {
     "data": {
      "text/plain": [
       "<AxesSubplot:xlabel='Item_Visibility', ylabel='Item_Outlet_Sales'>"
      ]
     },
     "execution_count": 101,
     "metadata": {},
     "output_type": "execute_result"
    },
    {
     "data": {
      "image/png": "[encoded data removed]",
      "text/plain": [
       "<Figure size 432x288 with 1 Axes>"
      ]
     },
     "metadata": {
      "needs_background": "light"
     },
     "output_type": "display_data"
    }
   ],
   "source": [
    "sns.scatterplot(data=df,x=\"Item_Visibility\",y=\"Item_Outlet_Sales\")"
   ]
  },
  {
   "cell_type": "markdown",
   "id": "376a919b",
   "metadata": {},
   "source": [
    "observation: items of visibility between 0 to 019 have the maximum outlet sales, while item with item_visibility more than 0.20 have sales less than 2000. "
   ]
  },
  {
   "cell_type": "code",
   "execution_count": 102,
   "id": "b91e7782",
   "metadata": {},
   "outputs": [
    {
     "data": {
      "text/plain": [
       "<AxesSubplot:xlabel='Item_Type', ylabel='Item_Outlet_Sales'>"
      ]
     },
     "execution_count": 102,
     "metadata": {},
     "output_type": "execute_result"
    },
    {
     "data": {
      "image/png": "[encoded data removed]",
      "text/plain": [
       "<Figure size 432x288 with 1 Axes>"
      ]
     },
     "metadata": {
      "needs_background": "light"
     },
     "output_type": "display_data"
    }
   ],
   "source": [
    "sns.scatterplot(data=df,x=\"Item_Type\",y=\"Item_Outlet_Sales\")"
   ]
  },
  {
   "cell_type": "markdown",
   "id": "88920314",
   "metadata": {},
   "source": [
    "observation: \n",
    "item type 0 has maximum sales of 8000\n",
    "item type 1 has maximum sales of 7000\n",
    "item type 2 has maximum sales of 8250\n",
    "item type 3 has maximum sales of 8300\n",
    "item type 4 has maximum sales of 10500\n",
    "item type 5 has maximum sales of 10000\n",
    "item type 6 has maximum sales of 12000\n",
    "item type 7 has maximum sales of 7000\n",
    "item type 8 has maximum sales of 9000\n",
    "item type 9 has maximum sales of 13000\n",
    "item type 10 has maximum sales of 9000\n",
    "item type 11 has maximum sales of 6000\n",
    "item type 12 has maximum sales of 7000\n",
    "item type 13 has maximum sales of 11000\n",
    "item type 14 has maximum sales of 10000\n",
    "item type 15 has maximum sales of 8000\n"
   ]
  },
  {
   "cell_type": "code",
   "execution_count": 103,
   "id": "e0e839ab",
   "metadata": {},
   "outputs": [
    {
     "data": {
      "text/plain": [
       "<AxesSubplot:xlabel='Item_MRP', ylabel='Item_Outlet_Sales'>"
      ]
     },
     "execution_count": 103,
     "metadata": {},
     "output_type": "execute_result"
    },
    {
     "data": {
      "image/png": "[encoded data removed]",
      "text/plain": [
       "<Figure size 432x288 with 1 Axes>"
      ]
     },
     "metadata": {
      "needs_background": "light"
     },
     "output_type": "display_data"
    }
   ],
   "source": [
    "sns.scatterplot(data=df,x=\"Item_MRP\",y=\"Item_Outlet_Sales\")"
   ]
  },
  {
   "cell_type": "markdown",
   "id": "9979ab05",
   "metadata": {},
   "source": [
    "observation: the above graph denotes that with incraese in MRP of the item the outlet sales incraeses"
   ]
  },
  {
   "cell_type": "code",
   "execution_count": 104,
   "id": "e325fb8d",
   "metadata": {},
   "outputs": [
    {
     "data": {
      "text/plain": [
       "<AxesSubplot:xlabel='Outlet_Identifier', ylabel='Item_Outlet_Sales'>"
      ]
     },
     "execution_count": 104,
     "metadata": {},
     "output_type": "execute_result"
    },
    {
     "data": {
      "image/png": "[encoded data removed]",
      "text/plain": [
       "<Figure size 432x288 with 1 Axes>"
      ]
     },
     "metadata": {
      "needs_background": "light"
     },
     "output_type": "display_data"
    }
   ],
   "source": [
    "sns.scatterplot(data=df,x=\"Outlet_Identifier\",y=\"Item_Outlet_Sales\")"
   ]
  },
  {
   "cell_type": "markdown",
   "id": "810c52b0",
   "metadata": {},
   "source": [
    "observation: outlet identifier 0 has maximum sales of 2000\n",
    "outlet identifier 1 has maximum sales of 10000\n",
    "outlet identifier 2 has maximum sales of 9750\n",
    "outlet identifier 3 has maximum sales of 7000\n",
    "outlet identifier 4 has maximum sales of 2000\n",
    "outlet identifier 5 has maximum sales of 13000\n",
    "outlet identifier 6 has maximum sales of 8000\n",
    "outlet identifier 7 has maximum sales of 9000\n",
    "outlet identifier 8 has maximum sales of 10000\n",
    "outlet identifier  9 has maximum sales of 7000\n",
    "\n"
   ]
  },
  {
   "cell_type": "code",
   "execution_count": 106,
   "id": "b72db6e0",
   "metadata": {},
   "outputs": [
    {
     "data": {
      "text/plain": [
       "<AxesSubplot:xlabel='Outlet_Size', ylabel='Item_Outlet_Sales'>"
      ]
     },
     "execution_count": 106,
     "metadata": {},
     "output_type": "execute_result"
    },
    {
     "data": {
      "image/png": "[encoded data removed]",
      "text/plain": [
       "<Figure size 432x288 with 1 Axes>"
      ]
     },
     "metadata": {
      "needs_background": "light"
     },
     "output_type": "display_data"
    }
   ],
   "source": [
    "sns.scatterplot(data=df,x=\"Outlet_Size\",y=\"Item_Outlet_Sales\")"
   ]
  },
  {
   "cell_type": "markdown",
   "id": "e83ceaa0",
   "metadata": {},
   "source": [
    "observation: outlet size 0 has outlet sales of 10250,outlet size 1 has outlet sales of 13000,outlet size 2 has outlet sales of 10000"
   ]
  },
  {
   "cell_type": "code",
   "execution_count": 107,
   "id": "4ad7b4e4",
   "metadata": {},
   "outputs": [
    {
     "data": {
      "text/plain": [
       "<AxesSubplot:xlabel='Outlet_Type', ylabel='Item_Outlet_Sales'>"
      ]
     },
     "execution_count": 107,
     "metadata": {},
     "output_type": "execute_result"
    },
    {
     "data": {
      "image/png": "[encoded data removed]",
      "text/plain": [
       "<Figure size 432x288 with 1 Axes>"
      ]
     },
     "metadata": {
      "needs_background": "light"
     },
     "output_type": "display_data"
    }
   ],
   "source": [
    "sns.scatterplot(data=df,x=\"Outlet_Type\",y=\"Item_Outlet_Sales\")"
   ]
  },
  {
   "cell_type": "markdown",
   "id": "2b7e0448",
   "metadata": {},
   "source": [
    "observation: outlet type of 0 has sales of nearly 2000,  \n",
    "type 2 has item outlet sales of 11000,\n",
    "type 3 has item outlet sales of 7000,\n",
    "type 4 has item outlet sales of 13000,  "
   ]
  },
  {
   "cell_type": "code",
   "execution_count": 121,
   "id": "1f6619fb",
   "metadata": {},
   "outputs": [
    {
     "data": {
      "text/html": [
       "<div>\n",
       "<style scoped>\n",
       "    .dataframe tbody tr th:only-of-type {\n",
       "        vertical-align: middle;\n",
       "    }\n",
       "\n",
       "    .dataframe tbody tr th {\n",
       "        vertical-align: top;\n",
       "    }\n",
       "\n",
       "    .dataframe thead th {\n",
       "        text-align: right;\n",
       "    }\n",
       "</style>\n",
       "<table border=\"1\" class=\"dataframe\">\n",
       "  <thead>\n",
       "    <tr style=\"text-align: right;\">\n",
       "      <th></th>\n",
       "      <th>Item_Identifier</th>\n",
       "      <th>Item_Weight</th>\n",
       "      <th>Item_Fat_Content</th>\n",
       "      <th>Item_Visibility</th>\n",
       "      <th>Item_Type</th>\n",
       "      <th>Item_MRP</th>\n",
       "      <th>Outlet_Identifier</th>\n",
       "      <th>Outlet_Establishment_Year</th>\n",
       "      <th>Outlet_Size</th>\n",
       "      <th>Outlet_Location_Type</th>\n",
       "      <th>Outlet_Type</th>\n",
       "    </tr>\n",
       "  </thead>\n",
       "  <tbody>\n",
       "    <tr>\n",
       "      <th>0</th>\n",
       "      <td>FDA15</td>\n",
       "      <td>9.300</td>\n",
       "      <td>1</td>\n",
       "      <td>0.016047</td>\n",
       "      <td>4</td>\n",
       "      <td>249.8092</td>\n",
       "      <td>9</td>\n",
       "      <td>1999</td>\n",
       "      <td>1</td>\n",
       "      <td>0</td>\n",
       "      <td>1</td>\n",
       "    </tr>\n",
       "    <tr>\n",
       "      <th>1</th>\n",
       "      <td>DRC01</td>\n",
       "      <td>5.920</td>\n",
       "      <td>2</td>\n",
       "      <td>0.019278</td>\n",
       "      <td>14</td>\n",
       "      <td>48.2692</td>\n",
       "      <td>3</td>\n",
       "      <td>2009</td>\n",
       "      <td>1</td>\n",
       "      <td>2</td>\n",
       "      <td>2</td>\n",
       "    </tr>\n",
       "    <tr>\n",
       "      <th>2</th>\n",
       "      <td>FDN15</td>\n",
       "      <td>17.500</td>\n",
       "      <td>1</td>\n",
       "      <td>0.016760</td>\n",
       "      <td>10</td>\n",
       "      <td>141.6180</td>\n",
       "      <td>9</td>\n",
       "      <td>1999</td>\n",
       "      <td>1</td>\n",
       "      <td>0</td>\n",
       "      <td>1</td>\n",
       "    </tr>\n",
       "    <tr>\n",
       "      <th>3</th>\n",
       "      <td>FDX07</td>\n",
       "      <td>19.200</td>\n",
       "      <td>2</td>\n",
       "      <td>0.000000</td>\n",
       "      <td>6</td>\n",
       "      <td>182.0950</td>\n",
       "      <td>0</td>\n",
       "      <td>1998</td>\n",
       "      <td>1</td>\n",
       "      <td>2</td>\n",
       "      <td>0</td>\n",
       "    </tr>\n",
       "    <tr>\n",
       "      <th>4</th>\n",
       "      <td>NCD19</td>\n",
       "      <td>8.930</td>\n",
       "      <td>1</td>\n",
       "      <td>0.000000</td>\n",
       "      <td>9</td>\n",
       "      <td>53.8614</td>\n",
       "      <td>1</td>\n",
       "      <td>1987</td>\n",
       "      <td>0</td>\n",
       "      <td>2</td>\n",
       "      <td>1</td>\n",
       "    </tr>\n",
       "    <tr>\n",
       "      <th>...</th>\n",
       "      <td>...</td>\n",
       "      <td>...</td>\n",
       "      <td>...</td>\n",
       "      <td>...</td>\n",
       "      <td>...</td>\n",
       "      <td>...</td>\n",
       "      <td>...</td>\n",
       "      <td>...</td>\n",
       "      <td>...</td>\n",
       "      <td>...</td>\n",
       "      <td>...</td>\n",
       "    </tr>\n",
       "    <tr>\n",
       "      <th>8518</th>\n",
       "      <td>FDF22</td>\n",
       "      <td>6.865</td>\n",
       "      <td>1</td>\n",
       "      <td>0.056783</td>\n",
       "      <td>13</td>\n",
       "      <td>214.5218</td>\n",
       "      <td>1</td>\n",
       "      <td>1987</td>\n",
       "      <td>0</td>\n",
       "      <td>2</td>\n",
       "      <td>1</td>\n",
       "    </tr>\n",
       "    <tr>\n",
       "      <th>8519</th>\n",
       "      <td>FDS36</td>\n",
       "      <td>8.380</td>\n",
       "      <td>2</td>\n",
       "      <td>0.046982</td>\n",
       "      <td>0</td>\n",
       "      <td>108.1570</td>\n",
       "      <td>7</td>\n",
       "      <td>2002</td>\n",
       "      <td>1</td>\n",
       "      <td>1</td>\n",
       "      <td>1</td>\n",
       "    </tr>\n",
       "    <tr>\n",
       "      <th>8520</th>\n",
       "      <td>NCJ29</td>\n",
       "      <td>10.600</td>\n",
       "      <td>1</td>\n",
       "      <td>0.035186</td>\n",
       "      <td>8</td>\n",
       "      <td>85.1224</td>\n",
       "      <td>6</td>\n",
       "      <td>2004</td>\n",
       "      <td>2</td>\n",
       "      <td>1</td>\n",
       "      <td>1</td>\n",
       "    </tr>\n",
       "    <tr>\n",
       "      <th>8521</th>\n",
       "      <td>FDN46</td>\n",
       "      <td>7.210</td>\n",
       "      <td>2</td>\n",
       "      <td>0.145221</td>\n",
       "      <td>13</td>\n",
       "      <td>103.1332</td>\n",
       "      <td>3</td>\n",
       "      <td>2009</td>\n",
       "      <td>1</td>\n",
       "      <td>2</td>\n",
       "      <td>2</td>\n",
       "    </tr>\n",
       "    <tr>\n",
       "      <th>8522</th>\n",
       "      <td>DRG01</td>\n",
       "      <td>14.800</td>\n",
       "      <td>1</td>\n",
       "      <td>0.044878</td>\n",
       "      <td>14</td>\n",
       "      <td>75.4670</td>\n",
       "      <td>8</td>\n",
       "      <td>1997</td>\n",
       "      <td>2</td>\n",
       "      <td>0</td>\n",
       "      <td>1</td>\n",
       "    </tr>\n",
       "  </tbody>\n",
       "</table>\n",
       "<p>8523 rows × 11 columns</p>\n",
       "</div>"
      ],
      "text/plain": [
       "     Item_Identifier  Item_Weight  Item_Fat_Content  Item_Visibility  \\\n",
       "0              FDA15        9.300                 1         0.016047   \n",
       "1              DRC01        5.920                 2         0.019278   \n",
       "2              FDN15       17.500                 1         0.016760   \n",
       "3              FDX07       19.200                 2         0.000000   \n",
       "4              NCD19        8.930                 1         0.000000   \n",
       "...              ...          ...               ...              ...   \n",
       "8518           FDF22        6.865                 1         0.056783   \n",
       "8519           FDS36        8.380                 2         0.046982   \n",
       "8520           NCJ29       10.600                 1         0.035186   \n",
       "8521           FDN46        7.210                 2         0.145221   \n",
       "8522           DRG01       14.800                 1         0.044878   \n",
       "\n",
       "      Item_Type  Item_MRP  Outlet_Identifier  Outlet_Establishment_Year  \\\n",
       "0             4  249.8092                  9                       1999   \n",
       "1            14   48.2692                  3                       2009   \n",
       "2            10  141.6180                  9                       1999   \n",
       "3             6  182.0950                  0                       1998   \n",
       "4             9   53.8614                  1                       1987   \n",
       "...         ...       ...                ...                        ...   \n",
       "8518         13  214.5218                  1                       1987   \n",
       "8519          0  108.1570                  7                       2002   \n",
       "8520          8   85.1224                  6                       2004   \n",
       "8521         13  103.1332                  3                       2009   \n",
       "8522         14   75.4670                  8                       1997   \n",
       "\n",
       "      Outlet_Size  Outlet_Location_Type  Outlet_Type  \n",
       "0               1                     0            1  \n",
       "1               1                     2            2  \n",
       "2               1                     0            1  \n",
       "3               1                     2            0  \n",
       "4               0                     2            1  \n",
       "...           ...                   ...          ...  \n",
       "8518            0                     2            1  \n",
       "8519            1                     1            1  \n",
       "8520            2                     1            1  \n",
       "8521            1                     2            2  \n",
       "8522            2                     0            1  \n",
       "\n",
       "[8523 rows x 11 columns]"
      ]
     },
     "execution_count": 121,
     "metadata": {},
     "output_type": "execute_result"
    }
   ],
   "source": [
    "x"
   ]
  },
  {
   "cell_type": "code",
   "execution_count": 124,
   "id": "5969bc3f",
   "metadata": {},
   "outputs": [
    {
     "data": {
      "text/plain": [
       "(array([  49,   81,   83,  108,  130,  145,  151,  174,  199,  276,  304,\n",
       "         333,  339,  373,  396,  434,  456,  472,  489,  502,  521,  532,\n",
       "         615,  661,  694,  727,  753,  753,  809,  838,  854,  891,  935,\n",
       "         991,  997, 1009, 1010, 1034, 1090, 1124, 1133, 1138, 1159, 1183,\n",
       "        1209, 1254, 1272, 1291, 1311, 1324, 1372, 1433, 1434, 1450, 1496,\n",
       "        1501, 1506, 1512, 1542, 1549, 1560, 1575, 1576, 1615, 1617, 1644,\n",
       "        1651, 1684, 1723, 1753, 1769, 1805, 1827, 1841, 1859, 1998, 2062,\n",
       "        2088, 2109, 2111, 2122, 2143, 2168, 2173, 2216, 2223, 2238, 2251,\n",
       "        2293, 2324, 2331, 2438, 2439, 2445, 2516, 2535, 2552, 2569, 2586,\n",
       "        2613, 2660, 2678, 2728, 2776, 2855, 2895, 2905, 2971, 2973, 3011,\n",
       "        3017, 3083, 3087, 3098, 3154, 3206, 3225, 3234, 3241, 3242, 3243,\n",
       "        3286, 3335, 3367, 3399, 3407, 3458, 3474, 3480, 3488, 3491, 3497,\n",
       "        3509, 3540, 3545, 3582, 3602, 3667, 3709, 3720, 3750, 3757, 3767,\n",
       "        3884, 3993, 4006, 4019, 4083, 4163, 4219, 4245, 4289, 4290, 4346,\n",
       "        4349, 4382, 4393, 4408, 4415, 4463, 4530, 4656, 4674, 4676, 4680,\n",
       "        4681, 4772, 4789, 4865, 4888, 4941, 4961, 4991, 5031, 5047, 5054,\n",
       "        5065, 5133, 5146, 5150, 5177, 5185, 5202, 5223, 5287, 5315, 5374,\n",
       "        5401, 5417, 5467, 5500, 5539, 5550, 5577, 5611, 5619, 5633, 5732,\n",
       "        5734, 5752, 5784, 5795, 5799, 5812, 5837, 5880, 5891, 5946, 5977,\n",
       "        6000, 6008, 6012, 6132, 6134, 6176, 6179, 6268, 6334, 6344, 6357,\n",
       "        6370, 6409, 6462, 6468, 6486, 6536, 6537, 6540, 6541, 6576, 6606,\n",
       "        6622, 6674, 6729, 6786, 6803, 6843, 6886, 6903, 6993, 7001, 7005,\n",
       "        7016, 7076, 7088, 7107, 7121, 7146, 7147, 7188, 7191, 7200, 7215,\n",
       "        7236, 7250, 7256, 7278, 7302, 7308, 7318, 7343, 7353, 7388, 7496,\n",
       "        7499, 7535, 7558, 7560, 7562, 7603, 7609, 7690, 7693, 7703, 7712,\n",
       "        7722, 7744, 7745, 7751, 7752, 7816, 7826, 7866, 7910, 7930, 7944,\n",
       "        7949, 8004, 8039, 8085, 8143, 8194, 8201, 8215, 8233, 8245, 8273,\n",
       "        8345, 8387, 8432, 8447, 8517], dtype=int64),\n",
       " array([ 3,  2,  3,  3, 11, 11,  2,  3,  2, 11, 11, 11,  2, 11,  2,  3, 11,\n",
       "        11,  2,  3,  3,  3,  2, 11, 11,  2,  2, 11, 11,  2,  3,  2, 11, 11,\n",
       "        11, 11,  2,  2,  2,  2,  2, 11,  3,  2,  2, 11,  3,  3,  3,  3,  2,\n",
       "         2,  3, 11,  3,  3, 11,  2,  2,  2,  3,  3,  2,  2,  2,  3,  3,  2,\n",
       "         2,  2,  2,  3,  3,  3, 11, 11,  2,  3, 11,  2,  3,  2,  2,  2, 11,\n",
       "         2, 11,  3, 11,  3,  2,  2,  3,  3, 11, 11,  2,  2,  3,  3,  2,  2,\n",
       "         3, 11,  3,  3,  2,  2,  2,  2,  3, 11, 11, 11, 11,  3,  2, 11,  2,\n",
       "         2,  2, 11,  2,  2,  3, 11,  3,  3,  2,  3,  2,  3,  2,  3,  2,  2,\n",
       "         2, 11, 11, 11,  3, 11,  3,  3,  3,  3,  2,  2,  2,  3,  2, 11,  2,\n",
       "        11, 11,  3,  2,  3,  2,  2,  3,  3,  3, 11,  2, 11, 11,  3,  2, 11,\n",
       "         3, 11, 11,  3,  2,  2, 11,  2,  2,  3, 11, 11,  2, 11,  3, 11,  3,\n",
       "         2,  2,  2, 11,  2, 11,  2,  2, 11,  2,  3,  3, 11,  2,  3, 11, 11,\n",
       "         3,  3,  3,  3, 11, 11,  3,  3,  2, 11,  2,  3,  2, 11,  2,  2,  2,\n",
       "        11,  2,  2,  2,  3, 11,  2, 11,  3, 11,  3,  3,  2,  3,  2,  2, 11,\n",
       "         3, 11,  2,  3, 11, 11,  3,  3,  3,  2,  2, 11, 11,  2,  3, 11,  3,\n",
       "        11,  3, 11,  2,  2, 11,  2,  3,  2,  3,  2,  3, 11, 11,  3, 11, 11,\n",
       "         2,  2,  2,  2,  3,  2,  2, 11, 11, 11,  3,  2, 11,  2,  3,  2, 11,\n",
       "         2,  2,  3, 11,  3,  2, 11,  3,  3,  2,  3, 11,  2], dtype=int64))"
      ]
     },
     "execution_count": 124,
     "metadata": {},
     "output_type": "execute_result"
    }
   ],
   "source": [
    "from scipy.stats import zscore\n",
    "z=np.abs(zscore(df))\n",
    "np.where(z>3)"
   ]
  },
  {
   "cell_type": "code",
   "execution_count": 126,
   "id": "7393dc60",
   "metadata": {},
   "outputs": [],
   "source": [
    "df_traindata=df[(z<3).all(axis=1)]"
   ]
  },
  {
   "cell_type": "code",
   "execution_count": 127,
   "id": "898b15bd",
   "metadata": {},
   "outputs": [
    {
     "data": {
      "text/plain": [
       "(8523, 12)"
      ]
     },
     "execution_count": 127,
     "metadata": {},
     "output_type": "execute_result"
    }
   ],
   "source": [
    "df.shape"
   ]
  },
  {
   "cell_type": "code",
   "execution_count": 128,
   "id": "7065310d",
   "metadata": {},
   "outputs": [
    {
     "data": {
      "text/plain": [
       "(8222, 12)"
      ]
     },
     "execution_count": 128,
     "metadata": {},
     "output_type": "execute_result"
    }
   ],
   "source": [
    "df_traindata.shape"
   ]
  },
  {
   "cell_type": "code",
   "execution_count": 129,
   "id": "c8a95cbf",
   "metadata": {},
   "outputs": [
    {
     "data": {
      "text/plain": [
       "Index(['Item_Identifier', 'Item_Weight', 'Item_Fat_Content', 'Item_Visibility',\n",
       "       'Item_Type', 'Item_MRP', 'Outlet_Identifier',\n",
       "       'Outlet_Establishment_Year', 'Outlet_Size', 'Outlet_Location_Type',\n",
       "       'Outlet_Type', 'Item_Outlet_Sales'],\n",
       "      dtype='object')"
      ]
     },
     "execution_count": 129,
     "metadata": {},
     "output_type": "execute_result"
    }
   ],
   "source": [
    "df_traindata.columns"
   ]
  },
  {
   "cell_type": "code",
   "execution_count": 162,
   "id": "125e3ed3",
   "metadata": {},
   "outputs": [],
   "source": [
    "trainx=df_traindata.drop([\"Item_Outlet_Sales\",],axis=1)\n",
    "trainy=df_traindata[\"Item_Outlet_Sales\"]"
   ]
  },
  {
   "cell_type": "markdown",
   "id": "99d0620e",
   "metadata": {},
   "source": [
    "## scaling of data"
   ]
  },
  {
   "cell_type": "code",
   "execution_count": 166,
   "id": "085aeb5b",
   "metadata": {},
   "outputs": [],
   "source": [
    "from sklearn.preprocessing import StandardScaler\n",
    "sc=StandardScaler()"
   ]
  },
  {
   "cell_type": "code",
   "execution_count": 167,
   "id": "91c253d4",
   "metadata": {},
   "outputs": [
    {
     "data": {
      "text/plain": [
       "6.728133370670899e-17"
      ]
     },
     "execution_count": 167,
     "metadata": {},
     "output_type": "execute_result"
    }
   ],
   "source": [
    "dfx=sc.fit_transform(df_traindata)\n",
    "dfx.mean()"
   ]
  },
  {
   "cell_type": "code",
   "execution_count": 169,
   "id": "4934a501",
   "metadata": {},
   "outputs": [],
   "source": [
    "dfxx=pd.DataFrame(data=dfx,columns=df_traindata.columns)"
   ]
  },
  {
   "cell_type": "code",
   "execution_count": 170,
   "id": "1275e95f",
   "metadata": {},
   "outputs": [],
   "source": [
    "x=dfxx.drop([\"Item_Outlet_Sales\",],axis=1)\n",
    "y=dfxx[\"Item_Outlet_Sales\"]"
   ]
  },
  {
   "cell_type": "code",
   "execution_count": null,
   "id": "123ff5e4",
   "metadata": {},
   "outputs": [],
   "source": []
  },
  {
   "cell_type": "markdown",
   "id": "bf953771",
   "metadata": {},
   "source": [
    "# EDA of test dataset"
   ]
  },
  {
   "cell_type": "markdown",
   "id": "312e1bb0",
   "metadata": {},
   "source": [
    "## loading the dataset"
   ]
  },
  {
   "cell_type": "code",
   "execution_count": 131,
   "id": "d3310e30",
   "metadata": {},
   "outputs": [],
   "source": [
    "df_testset=pd.read_csv(\"bigmart_test.csv\")"
   ]
  },
  {
   "cell_type": "code",
   "execution_count": 132,
   "id": "b2c5be4c",
   "metadata": {},
   "outputs": [
    {
     "data": {
      "text/html": [
       "<div>\n",
       "<style scoped>\n",
       "    .dataframe tbody tr th:only-of-type {\n",
       "        vertical-align: middle;\n",
       "    }\n",
       "\n",
       "    .dataframe tbody tr th {\n",
       "        vertical-align: top;\n",
       "    }\n",
       "\n",
       "    .dataframe thead th {\n",
       "        text-align: right;\n",
       "    }\n",
       "</style>\n",
       "<table border=\"1\" class=\"dataframe\">\n",
       "  <thead>\n",
       "    <tr style=\"text-align: right;\">\n",
       "      <th></th>\n",
       "      <th>Item_Identifier</th>\n",
       "      <th>Item_Weight</th>\n",
       "      <th>Item_Fat_Content</th>\n",
       "      <th>Item_Visibility</th>\n",
       "      <th>Item_Type</th>\n",
       "      <th>Item_MRP</th>\n",
       "      <th>Outlet_Identifier</th>\n",
       "      <th>Outlet_Establishment_Year</th>\n",
       "      <th>Outlet_Size</th>\n",
       "      <th>Outlet_Location_Type</th>\n",
       "      <th>Outlet_Type</th>\n",
       "    </tr>\n",
       "  </thead>\n",
       "  <tbody>\n",
       "    <tr>\n",
       "      <th>0</th>\n",
       "      <td>FDW58</td>\n",
       "      <td>20.750</td>\n",
       "      <td>Low Fat</td>\n",
       "      <td>0.007565</td>\n",
       "      <td>Snack Foods</td>\n",
       "      <td>107.8622</td>\n",
       "      <td>OUT049</td>\n",
       "      <td>1999</td>\n",
       "      <td>Medium</td>\n",
       "      <td>Tier 1</td>\n",
       "      <td>Supermarket Type1</td>\n",
       "    </tr>\n",
       "    <tr>\n",
       "      <th>1</th>\n",
       "      <td>FDW14</td>\n",
       "      <td>8.300</td>\n",
       "      <td>reg</td>\n",
       "      <td>0.038428</td>\n",
       "      <td>Dairy</td>\n",
       "      <td>87.3198</td>\n",
       "      <td>OUT017</td>\n",
       "      <td>2007</td>\n",
       "      <td>NaN</td>\n",
       "      <td>Tier 2</td>\n",
       "      <td>Supermarket Type1</td>\n",
       "    </tr>\n",
       "    <tr>\n",
       "      <th>2</th>\n",
       "      <td>NCN55</td>\n",
       "      <td>14.600</td>\n",
       "      <td>Low Fat</td>\n",
       "      <td>0.099575</td>\n",
       "      <td>Others</td>\n",
       "      <td>241.7538</td>\n",
       "      <td>OUT010</td>\n",
       "      <td>1998</td>\n",
       "      <td>NaN</td>\n",
       "      <td>Tier 3</td>\n",
       "      <td>Grocery Store</td>\n",
       "    </tr>\n",
       "    <tr>\n",
       "      <th>3</th>\n",
       "      <td>FDQ58</td>\n",
       "      <td>7.315</td>\n",
       "      <td>Low Fat</td>\n",
       "      <td>0.015388</td>\n",
       "      <td>Snack Foods</td>\n",
       "      <td>155.0340</td>\n",
       "      <td>OUT017</td>\n",
       "      <td>2007</td>\n",
       "      <td>NaN</td>\n",
       "      <td>Tier 2</td>\n",
       "      <td>Supermarket Type1</td>\n",
       "    </tr>\n",
       "    <tr>\n",
       "      <th>4</th>\n",
       "      <td>FDY38</td>\n",
       "      <td>NaN</td>\n",
       "      <td>Regular</td>\n",
       "      <td>0.118599</td>\n",
       "      <td>Dairy</td>\n",
       "      <td>234.2300</td>\n",
       "      <td>OUT027</td>\n",
       "      <td>1985</td>\n",
       "      <td>Medium</td>\n",
       "      <td>Tier 3</td>\n",
       "      <td>Supermarket Type3</td>\n",
       "    </tr>\n",
       "    <tr>\n",
       "      <th>...</th>\n",
       "      <td>...</td>\n",
       "      <td>...</td>\n",
       "      <td>...</td>\n",
       "      <td>...</td>\n",
       "      <td>...</td>\n",
       "      <td>...</td>\n",
       "      <td>...</td>\n",
       "      <td>...</td>\n",
       "      <td>...</td>\n",
       "      <td>...</td>\n",
       "      <td>...</td>\n",
       "    </tr>\n",
       "    <tr>\n",
       "      <th>5676</th>\n",
       "      <td>FDB58</td>\n",
       "      <td>10.500</td>\n",
       "      <td>Regular</td>\n",
       "      <td>0.013496</td>\n",
       "      <td>Snack Foods</td>\n",
       "      <td>141.3154</td>\n",
       "      <td>OUT046</td>\n",
       "      <td>1997</td>\n",
       "      <td>Small</td>\n",
       "      <td>Tier 1</td>\n",
       "      <td>Supermarket Type1</td>\n",
       "    </tr>\n",
       "    <tr>\n",
       "      <th>5677</th>\n",
       "      <td>FDD47</td>\n",
       "      <td>7.600</td>\n",
       "      <td>Regular</td>\n",
       "      <td>0.142991</td>\n",
       "      <td>Starchy Foods</td>\n",
       "      <td>169.1448</td>\n",
       "      <td>OUT018</td>\n",
       "      <td>2009</td>\n",
       "      <td>Medium</td>\n",
       "      <td>Tier 3</td>\n",
       "      <td>Supermarket Type2</td>\n",
       "    </tr>\n",
       "    <tr>\n",
       "      <th>5678</th>\n",
       "      <td>NCO17</td>\n",
       "      <td>10.000</td>\n",
       "      <td>Low Fat</td>\n",
       "      <td>0.073529</td>\n",
       "      <td>Health and Hygiene</td>\n",
       "      <td>118.7440</td>\n",
       "      <td>OUT045</td>\n",
       "      <td>2002</td>\n",
       "      <td>NaN</td>\n",
       "      <td>Tier 2</td>\n",
       "      <td>Supermarket Type1</td>\n",
       "    </tr>\n",
       "    <tr>\n",
       "      <th>5679</th>\n",
       "      <td>FDJ26</td>\n",
       "      <td>15.300</td>\n",
       "      <td>Regular</td>\n",
       "      <td>0.000000</td>\n",
       "      <td>Canned</td>\n",
       "      <td>214.6218</td>\n",
       "      <td>OUT017</td>\n",
       "      <td>2007</td>\n",
       "      <td>NaN</td>\n",
       "      <td>Tier 2</td>\n",
       "      <td>Supermarket Type1</td>\n",
       "    </tr>\n",
       "    <tr>\n",
       "      <th>5680</th>\n",
       "      <td>FDU37</td>\n",
       "      <td>9.500</td>\n",
       "      <td>Regular</td>\n",
       "      <td>0.104720</td>\n",
       "      <td>Canned</td>\n",
       "      <td>79.7960</td>\n",
       "      <td>OUT045</td>\n",
       "      <td>2002</td>\n",
       "      <td>NaN</td>\n",
       "      <td>Tier 2</td>\n",
       "      <td>Supermarket Type1</td>\n",
       "    </tr>\n",
       "  </tbody>\n",
       "</table>\n",
       "<p>5681 rows × 11 columns</p>\n",
       "</div>"
      ],
      "text/plain": [
       "     Item_Identifier  Item_Weight Item_Fat_Content  Item_Visibility  \\\n",
       "0              FDW58       20.750          Low Fat         0.007565   \n",
       "1              FDW14        8.300              reg         0.038428   \n",
       "2              NCN55       14.600          Low Fat         0.099575   \n",
       "3              FDQ58        7.315          Low Fat         0.015388   \n",
       "4              FDY38          NaN          Regular         0.118599   \n",
       "...              ...          ...              ...              ...   \n",
       "5676           FDB58       10.500          Regular         0.013496   \n",
       "5677           FDD47        7.600          Regular         0.142991   \n",
       "5678           NCO17       10.000          Low Fat         0.073529   \n",
       "5679           FDJ26       15.300          Regular         0.000000   \n",
       "5680           FDU37        9.500          Regular         0.104720   \n",
       "\n",
       "               Item_Type  Item_MRP Outlet_Identifier  \\\n",
       "0            Snack Foods  107.8622            OUT049   \n",
       "1                  Dairy   87.3198            OUT017   \n",
       "2                 Others  241.7538            OUT010   \n",
       "3            Snack Foods  155.0340            OUT017   \n",
       "4                  Dairy  234.2300            OUT027   \n",
       "...                  ...       ...               ...   \n",
       "5676         Snack Foods  141.3154            OUT046   \n",
       "5677       Starchy Foods  169.1448            OUT018   \n",
       "5678  Health and Hygiene  118.7440            OUT045   \n",
       "5679              Canned  214.6218            OUT017   \n",
       "5680              Canned   79.7960            OUT045   \n",
       "\n",
       "      Outlet_Establishment_Year Outlet_Size Outlet_Location_Type  \\\n",
       "0                          1999      Medium               Tier 1   \n",
       "1                          2007         NaN               Tier 2   \n",
       "2                          1998         NaN               Tier 3   \n",
       "3                          2007         NaN               Tier 2   \n",
       "4                          1985      Medium               Tier 3   \n",
       "...                         ...         ...                  ...   \n",
       "5676                       1997       Small               Tier 1   \n",
       "5677                       2009      Medium               Tier 3   \n",
       "5678                       2002         NaN               Tier 2   \n",
       "5679                       2007         NaN               Tier 2   \n",
       "5680                       2002         NaN               Tier 2   \n",
       "\n",
       "            Outlet_Type  \n",
       "0     Supermarket Type1  \n",
       "1     Supermarket Type1  \n",
       "2         Grocery Store  \n",
       "3     Supermarket Type1  \n",
       "4     Supermarket Type3  \n",
       "...                 ...  \n",
       "5676  Supermarket Type1  \n",
       "5677  Supermarket Type2  \n",
       "5678  Supermarket Type1  \n",
       "5679  Supermarket Type1  \n",
       "5680  Supermarket Type1  \n",
       "\n",
       "[5681 rows x 11 columns]"
      ]
     },
     "execution_count": 132,
     "metadata": {},
     "output_type": "execute_result"
    }
   ],
   "source": [
    "df_testset"
   ]
  },
  {
   "cell_type": "code",
   "execution_count": 134,
   "id": "9e13969d",
   "metadata": {},
   "outputs": [
    {
     "data": {
      "text/plain": [
       "(5681, 11)"
      ]
     },
     "execution_count": 134,
     "metadata": {},
     "output_type": "execute_result"
    }
   ],
   "source": [
    "df_testset.shape"
   ]
  },
  {
   "cell_type": "code",
   "execution_count": 136,
   "id": "b1c47e1b",
   "metadata": {},
   "outputs": [
    {
     "data": {
      "text/plain": [
       "Item_Identifier                 0\n",
       "Item_Weight                   976\n",
       "Item_Fat_Content                0\n",
       "Item_Visibility                 0\n",
       "Item_Type                       0\n",
       "Item_MRP                        0\n",
       "Outlet_Identifier               0\n",
       "Outlet_Establishment_Year       0\n",
       "Outlet_Size                  1606\n",
       "Outlet_Location_Type            0\n",
       "Outlet_Type                     0\n",
       "dtype: int64"
      ]
     },
     "execution_count": 136,
     "metadata": {},
     "output_type": "execute_result"
    }
   ],
   "source": [
    "df_testset.isnull().sum()"
   ]
  },
  {
   "cell_type": "markdown",
   "id": "7d737380",
   "metadata": {},
   "source": [
    "the null values in the item_weight and outlet_size needs to be replaced"
   ]
  },
  {
   "cell_type": "markdown",
   "id": "97493486",
   "metadata": {},
   "source": [
    "## imputation"
   ]
  },
  {
   "cell_type": "code",
   "execution_count": 137,
   "id": "5d9803fd",
   "metadata": {},
   "outputs": [],
   "source": [
    "df_testset['Item_Weight']=imp.fit_transform(df_testset['Item_Weight'].values.reshape(-1,1))"
   ]
  },
  {
   "cell_type": "code",
   "execution_count": 138,
   "id": "2f735c5b",
   "metadata": {},
   "outputs": [],
   "source": [
    "df_testset['Outlet_Size']=impu.fit_transform(df_testset['Outlet_Size'].values.reshape(-1,1))"
   ]
  },
  {
   "cell_type": "code",
   "execution_count": 139,
   "id": "b6bdb4fa",
   "metadata": {},
   "outputs": [
    {
     "data": {
      "text/plain": [
       "Item_Identifier              0\n",
       "Item_Weight                  0\n",
       "Item_Fat_Content             0\n",
       "Item_Visibility              0\n",
       "Item_Type                    0\n",
       "Item_MRP                     0\n",
       "Outlet_Identifier            0\n",
       "Outlet_Establishment_Year    0\n",
       "Outlet_Size                  0\n",
       "Outlet_Location_Type         0\n",
       "Outlet_Type                  0\n",
       "dtype: int64"
      ]
     },
     "execution_count": 139,
     "metadata": {},
     "output_type": "execute_result"
    }
   ],
   "source": [
    "df_testset.isnull().sum()"
   ]
  },
  {
   "cell_type": "markdown",
   "id": "4f1766f3",
   "metadata": {},
   "source": [
    "## label encoding"
   ]
  },
  {
   "cell_type": "code",
   "execution_count": 140,
   "id": "7d30ee69",
   "metadata": {},
   "outputs": [],
   "source": [
    "val1=['Item_Identifier','Item_Fat_Content','Item_Type','Outlet_Identifier','Outlet_Size','Outlet_Type','Outlet_Location_Type']"
   ]
  },
  {
   "cell_type": "code",
   "execution_count": 141,
   "id": "c625f37f",
   "metadata": {},
   "outputs": [],
   "source": [
    "for i in val1:\n",
    "    df_testset[i]=le.fit_transform(df_testset[i].astype(str))"
   ]
  },
  {
   "cell_type": "code",
   "execution_count": 154,
   "id": "c4bb255d",
   "metadata": {},
   "outputs": [
    {
     "data": {
      "text/plain": [
       "(8222, 12)"
      ]
     },
     "execution_count": 154,
     "metadata": {},
     "output_type": "execute_result"
    }
   ],
   "source": [
    "df_traindata.shape"
   ]
  },
  {
   "cell_type": "code",
   "execution_count": 156,
   "id": "0fd91c7f",
   "metadata": {},
   "outputs": [
    {
     "data": {
      "text/plain": [
       "(5681, 11)"
      ]
     },
     "execution_count": 156,
     "metadata": {},
     "output_type": "execute_result"
    }
   ],
   "source": [
    "df_testset.shape"
   ]
  },
  {
   "cell_type": "markdown",
   "id": "aec53ae9",
   "metadata": {},
   "source": [
    "# training of model"
   ]
  },
  {
   "cell_type": "code",
   "execution_count": 159,
   "id": "a8b15cbb",
   "metadata": {},
   "outputs": [],
   "source": [
    "from sklearn.model_selection import train_test_split\n",
    "from sklearn.metrics import mean_squared_error,mean_absolute_error,r2_score"
   ]
  },
  {
   "cell_type": "code",
   "execution_count": 171,
   "id": "847409f7",
   "metadata": {},
   "outputs": [],
   "source": [
    "def model_selection(instance):\n",
    "    for i in range(0,100):\n",
    "        x_train,x_test, y_train,y_test=train_test_split(x,y,random_state=i,test_size=0.20)\n",
    "        instance.fit(x_train,y_train)\n",
    "        pred_train=instance.predict(x_train)\n",
    "        pred_test=instance.predict(x_test)\n",
    "        print(f\" training accuracy is {r2_score(y_train,pred_train)}\")\n",
    "        print(f\" testing accuracy is {r2_score(y_test,pred_test)}\")\n",
    "        print(\"\\n\")"
   ]
  },
  {
   "cell_type": "code",
   "execution_count": 172,
   "id": "80769a5c",
   "metadata": {},
   "outputs": [
    {
     "name": "stdout",
     "output_type": "stream",
     "text": [
      " training accuracy is 0.497880089203944\n",
      " testing accuracy is 0.5021232220345797\n",
      "\n",
      "\n",
      " training accuracy is 0.5007202510030107\n",
      " testing accuracy is 0.490386026563685\n",
      "\n",
      "\n",
      " training accuracy is 0.49836715438777135\n",
      " testing accuracy is 0.5004885805634234\n",
      "\n",
      "\n",
      " training accuracy is 0.5014902046820955\n",
      " testing accuracy is 0.4880772629174702\n",
      "\n",
      "\n",
      " training accuracy is 0.4928184268998149\n",
      " testing accuracy is 0.519302357116527\n",
      "\n",
      "\n",
      " training accuracy is 0.5040393508548457\n",
      " testing accuracy is 0.4765010514929733\n",
      "\n",
      "\n",
      " training accuracy is 0.48904721441111876\n",
      " testing accuracy is 0.5362821261531714\n",
      "\n",
      "\n",
      " training accuracy is 0.5023303077869632\n",
      " testing accuracy is 0.4826196798397926\n",
      "\n",
      "\n",
      " training accuracy is 0.49851086078370654\n",
      " testing accuracy is 0.49923833609746215\n",
      "\n",
      "\n",
      " training accuracy is 0.49660850918734467\n",
      " testing accuracy is 0.5068971860788202\n",
      "\n",
      "\n",
      " training accuracy is 0.49850839260112234\n",
      " testing accuracy is 0.4996122443139135\n",
      "\n",
      "\n",
      " training accuracy is 0.4986246170166415\n",
      " testing accuracy is 0.49904190690527406\n",
      "\n",
      "\n",
      " training accuracy is 0.49775318140586655\n",
      " testing accuracy is 0.5027822874745722\n",
      "\n",
      "\n",
      " training accuracy is 0.5012615212409874\n",
      " testing accuracy is 0.4879204816662348\n",
      "\n",
      "\n",
      " training accuracy is 0.4985471604624657\n",
      " testing accuracy is 0.4977607805787231\n",
      "\n",
      "\n",
      " training accuracy is 0.49801741314344283\n",
      " testing accuracy is 0.5011733702372203\n",
      "\n",
      "\n",
      " training accuracy is 0.49562122045414003\n",
      " testing accuracy is 0.5103697257429909\n",
      "\n",
      "\n",
      " training accuracy is 0.49973432632367365\n",
      " testing accuracy is 0.4937646671741971\n",
      "\n",
      "\n",
      " training accuracy is 0.4945918663998169\n",
      " testing accuracy is 0.5157647811018792\n",
      "\n",
      "\n",
      " training accuracy is 0.49101678449313213\n",
      " testing accuracy is 0.5292193983974471\n",
      "\n",
      "\n",
      " training accuracy is 0.49331628529048965\n",
      " testing accuracy is 0.5184456558213462\n",
      "\n",
      "\n",
      " training accuracy is 0.4947796286594902\n",
      " testing accuracy is 0.5146274673298907\n",
      "\n",
      "\n",
      " training accuracy is 0.5036215338864224\n",
      " testing accuracy is 0.47817424699378797\n",
      "\n",
      "\n",
      " training accuracy is 0.4981798284340464\n",
      " testing accuracy is 0.5014925513254875\n",
      "\n",
      "\n",
      " training accuracy is 0.5038428136889673\n",
      " testing accuracy is 0.47526232982698935\n",
      "\n",
      "\n",
      " training accuracy is 0.5023619143887598\n",
      " testing accuracy is 0.48419473770629673\n",
      "\n",
      "\n",
      " training accuracy is 0.49881322989227983\n",
      " testing accuracy is 0.498039510664372\n",
      "\n",
      "\n",
      " training accuracy is 0.49790679222389933\n",
      " testing accuracy is 0.5010843286849749\n",
      "\n",
      "\n",
      " training accuracy is 0.5008101658850518\n",
      " testing accuracy is 0.49021210486464273\n",
      "\n",
      "\n",
      " training accuracy is 0.5036677076208094\n",
      " testing accuracy is 0.4794486350888235\n",
      "\n",
      "\n",
      " training accuracy is 0.4985072534160827\n",
      " testing accuracy is 0.4994041170936012\n",
      "\n",
      "\n",
      " training accuracy is 0.4990759404575077\n",
      " testing accuracy is 0.49638681928497386\n",
      "\n",
      "\n",
      " training accuracy is 0.4966169612117459\n",
      " testing accuracy is 0.5075986577416667\n",
      "\n",
      "\n",
      " training accuracy is 0.5025858815854725\n",
      " testing accuracy is 0.4834761779696293\n",
      "\n",
      "\n",
      " training accuracy is 0.4965492926401821\n",
      " testing accuracy is 0.5069021627418645\n",
      "\n",
      "\n",
      " training accuracy is 0.49849549236931257\n",
      " testing accuracy is 0.49941229470128246\n",
      "\n",
      "\n",
      " training accuracy is 0.5038609439293722\n",
      " testing accuracy is 0.47527595869171213\n",
      "\n",
      "\n",
      " training accuracy is 0.50137900315312\n",
      " testing accuracy is 0.4871660418203273\n",
      "\n",
      "\n",
      " training accuracy is 0.4976915925106451\n",
      " testing accuracy is 0.5019066429591768\n",
      "\n",
      "\n",
      " training accuracy is 0.49495819617424175\n",
      " testing accuracy is 0.5141403096089332\n",
      "\n",
      "\n",
      " training accuracy is 0.494660071465469\n",
      " testing accuracy is 0.5143389515751522\n",
      "\n",
      "\n",
      " training accuracy is 0.49830250393734354\n",
      " testing accuracy is 0.499343729384089\n",
      "\n",
      "\n",
      " training accuracy is 0.49370547543933097\n",
      " testing accuracy is 0.518932756216782\n",
      "\n",
      "\n",
      " training accuracy is 0.4964017003612866\n",
      " testing accuracy is 0.5078781768518984\n",
      "\n",
      "\n",
      " training accuracy is 0.49625317762566834\n",
      " testing accuracy is 0.5080368133405442\n",
      "\n",
      "\n",
      " training accuracy is 0.5001596686778054\n",
      " testing accuracy is 0.49325324067814447\n",
      "\n",
      "\n",
      " training accuracy is 0.502391008992964\n",
      " testing accuracy is 0.4836232367620201\n",
      "\n",
      "\n",
      " training accuracy is 0.5047278287388115\n",
      " testing accuracy is 0.4729446926352723\n",
      "\n",
      "\n",
      " training accuracy is 0.4949116983035542\n",
      " testing accuracy is 0.5127636909093416\n",
      "\n",
      "\n",
      " training accuracy is 0.4959180522895934\n",
      " testing accuracy is 0.5111152859059847\n",
      "\n",
      "\n",
      " training accuracy is 0.5031748618093599\n",
      " testing accuracy is 0.4808577234071193\n",
      "\n",
      "\n",
      " training accuracy is 0.5013425284170339\n",
      " testing accuracy is 0.48820503109458147\n",
      "\n",
      "\n",
      " training accuracy is 0.49424755687406174\n",
      " testing accuracy is 0.5165880253997932\n",
      "\n",
      "\n",
      " training accuracy is 0.5040275311011899\n",
      " testing accuracy is 0.47806878512867457\n",
      "\n",
      "\n",
      " training accuracy is 0.49838958626550045\n",
      " testing accuracy is 0.5001285702610705\n",
      "\n",
      "\n",
      " training accuracy is 0.4992814609802233\n",
      " testing accuracy is 0.49707207383599195\n",
      "\n",
      "\n",
      " training accuracy is 0.4970010603988477\n",
      " testing accuracy is 0.5052177199815738\n",
      "\n",
      "\n",
      " training accuracy is 0.4961609605127377\n",
      " testing accuracy is 0.5089739661956012\n",
      "\n",
      "\n",
      " training accuracy is 0.5003612880748909\n",
      " testing accuracy is 0.49260579196594945\n",
      "\n",
      "\n",
      " training accuracy is 0.49615450095911995\n",
      " testing accuracy is 0.508501458906665\n",
      "\n",
      "\n",
      " training accuracy is 0.49820396727112737\n",
      " testing accuracy is 0.50101024874413\n",
      "\n",
      "\n",
      " training accuracy is 0.5022893843170421\n",
      " testing accuracy is 0.4840518256762033\n",
      "\n",
      "\n",
      " training accuracy is 0.5010582903386482\n",
      " testing accuracy is 0.48928356816792096\n",
      "\n",
      "\n",
      " training accuracy is 0.4996843977346217\n",
      " testing accuracy is 0.49480815552934865\n",
      "\n",
      "\n",
      " training accuracy is 0.5021803412610473\n",
      " testing accuracy is 0.4848056010597013\n",
      "\n",
      "\n",
      " training accuracy is 0.5039444170921319\n",
      " testing accuracy is 0.4770905832288391\n",
      "\n",
      "\n",
      " training accuracy is 0.4996881911119948\n",
      " testing accuracy is 0.49463350407053996\n",
      "\n",
      "\n",
      " training accuracy is 0.5006430711587238\n",
      " testing accuracy is 0.49013075391522243\n",
      "\n",
      "\n",
      " training accuracy is 0.5026229558106341\n",
      " testing accuracy is 0.48389749961037043\n",
      "\n",
      "\n",
      " training accuracy is 0.5009387916430441\n",
      " testing accuracy is 0.48964073571894395\n",
      "\n",
      "\n",
      " training accuracy is 0.49386471516899355\n",
      " testing accuracy is 0.5177226384100695\n",
      "\n",
      "\n",
      " training accuracy is 0.49594380021539264\n",
      " testing accuracy is 0.5097853641184159\n",
      "\n",
      "\n",
      " training accuracy is 0.5071168634148535\n",
      " testing accuracy is 0.4662993321157751\n",
      "\n",
      "\n",
      " training accuracy is 0.4978632215117479\n",
      " testing accuracy is 0.5025908947370656\n",
      "\n",
      "\n",
      " training accuracy is 0.5045289213164839\n",
      " testing accuracy is 0.46823036420152486\n",
      "\n",
      "\n",
      " training accuracy is 0.4957554041652209\n",
      " testing accuracy is 0.5106001814336527\n",
      "\n",
      "\n",
      " training accuracy is 0.5006517116140083\n",
      " testing accuracy is 0.4917801324139235\n",
      "\n",
      "\n",
      " training accuracy is 0.5040864137163017\n",
      " testing accuracy is 0.4764588559501205\n",
      "\n",
      "\n",
      " training accuracy is 0.5011562017805224\n",
      " testing accuracy is 0.488499753607642\n",
      "\n",
      "\n",
      " training accuracy is 0.4961760326248049\n",
      " testing accuracy is 0.5082154340747482\n",
      "\n",
      "\n",
      " training accuracy is 0.49752272742597103\n",
      " testing accuracy is 0.5034216656376272\n",
      "\n",
      "\n",
      " training accuracy is 0.5021520718380128\n",
      " testing accuracy is 0.48507137514232146\n",
      "\n",
      "\n",
      " training accuracy is 0.5017250550847481\n",
      " testing accuracy is 0.487106236520334\n",
      "\n",
      "\n",
      " training accuracy is 0.5049197620165474\n",
      " testing accuracy is 0.47471660614792976\n",
      "\n",
      "\n",
      " training accuracy is 0.5041750582441069\n",
      " testing accuracy is 0.47596435751960064\n",
      "\n",
      "\n",
      " training accuracy is 0.4978357591087079\n",
      " testing accuracy is 0.5017031604382584\n",
      "\n",
      "\n",
      " training accuracy is 0.49630818452583114\n",
      " testing accuracy is 0.5091056007632013\n",
      "\n",
      "\n",
      " training accuracy is 0.5044187147410142\n",
      " testing accuracy is 0.47608941621028145\n",
      "\n",
      "\n",
      " training accuracy is 0.49347190295243826\n",
      " testing accuracy is 0.5206351433059193\n",
      "\n",
      "\n",
      " training accuracy is 0.49876904563291646\n",
      " testing accuracy is 0.4987316182869692\n",
      "\n",
      "\n",
      " training accuracy is 0.5016186334009991\n",
      " testing accuracy is 0.4869485547680711\n",
      "\n",
      "\n",
      " training accuracy is 0.4997957776840325\n",
      " testing accuracy is 0.49519803902967563\n",
      "\n",
      "\n",
      " training accuracy is 0.4974240087227948\n",
      " testing accuracy is 0.5027600292235315\n",
      "\n",
      "\n",
      " training accuracy is 0.492389410922749\n",
      " testing accuracy is 0.5226698634567807\n",
      "\n",
      "\n",
      " training accuracy is 0.5040527802962101\n",
      " testing accuracy is 0.476125569370351\n",
      "\n",
      "\n",
      " training accuracy is 0.4970128682467517\n",
      " testing accuracy is 0.504866984108739\n",
      "\n",
      "\n",
      " training accuracy is 0.49703881868474764\n",
      " testing accuracy is 0.5046014917895588\n",
      "\n",
      "\n",
      " training accuracy is 0.4995735733114909\n",
      " testing accuracy is 0.49545765987554746\n",
      "\n",
      "\n",
      " training accuracy is 0.5049613133502169\n",
      " testing accuracy is 0.4731988725287001\n",
      "\n",
      "\n",
      " training accuracy is 0.5013821352663372\n",
      " testing accuracy is 0.4860472240844603\n",
      "\n",
      "\n"
     ]
    }
   ],
   "source": [
    "from sklearn.linear_model import LinearRegression\n",
    "lm=LinearRegression()\n",
    "model_selection(lm)"
   ]
  },
  {
   "cell_type": "code",
   "execution_count": 173,
   "id": "27bae221",
   "metadata": {},
   "outputs": [
    {
     "name": "stdout",
     "output_type": "stream",
     "text": [
      " training accuracy is 0.6709288379087841\n",
      " testing accuracy is 0.4956710873125755\n",
      "\n",
      "\n",
      " training accuracy is 0.6662896025762453\n",
      " testing accuracy is 0.48471772311084604\n",
      "\n",
      "\n",
      " training accuracy is 0.668113931980695\n",
      " testing accuracy is 0.496991483804606\n",
      "\n",
      "\n",
      " training accuracy is 0.6635759031819344\n",
      " testing accuracy is 0.4761731781482563\n",
      "\n",
      "\n",
      " training accuracy is 0.6539397607401585\n",
      " testing accuracy is 0.5128788587796544\n",
      "\n",
      "\n",
      " training accuracy is 0.6612695397646517\n",
      " testing accuracy is 0.4853172165364579\n",
      "\n",
      "\n",
      " training accuracy is 0.6576699987822163\n",
      " testing accuracy is 0.5255287869908891\n",
      "\n",
      "\n",
      " training accuracy is 0.6676008737090274\n",
      " testing accuracy is 0.46301918189482905\n",
      "\n",
      "\n",
      " training accuracy is 0.666331320035843\n",
      " testing accuracy is 0.4922600986576331\n",
      "\n",
      "\n",
      " training accuracy is 0.6659088976901855\n",
      " testing accuracy is 0.49591425729088157\n",
      "\n",
      "\n",
      " training accuracy is 0.6626921188322911\n",
      " testing accuracy is 0.5055991865330548\n",
      "\n",
      "\n",
      " training accuracy is 0.6622790978660766\n",
      " testing accuracy is 0.49102890174499414\n",
      "\n",
      "\n",
      " training accuracy is 0.6612057067092776\n",
      " testing accuracy is 0.5145281350786657\n",
      "\n",
      "\n",
      " training accuracy is 0.6672146887420654\n",
      " testing accuracy is 0.4813650951386341\n",
      "\n",
      "\n",
      " training accuracy is 0.6647401042129342\n",
      " testing accuracy is 0.4904961085797849\n",
      "\n",
      "\n",
      " training accuracy is 0.6647297382554453\n",
      " testing accuracy is 0.4832593608440592\n",
      "\n",
      "\n",
      " training accuracy is 0.6580991892638399\n",
      " testing accuracy is 0.504091413978135\n",
      "\n",
      "\n",
      " training accuracy is 0.658151689156002\n",
      " testing accuracy is 0.5115463913942955\n",
      "\n",
      "\n",
      " training accuracy is 0.6515457105543851\n",
      " testing accuracy is 0.5270666959120236\n",
      "\n",
      "\n",
      " training accuracy is 0.655802600313686\n",
      " testing accuracy is 0.5406669146799471\n",
      "\n",
      "\n",
      " training accuracy is 0.6594041141047373\n",
      " testing accuracy is 0.5084829980773684\n",
      "\n",
      "\n",
      " training accuracy is 0.656482631117145\n",
      " testing accuracy is 0.5172963983123313\n",
      "\n",
      "\n",
      " training accuracy is 0.6631977622461096\n",
      " testing accuracy is 0.4927957197798237\n",
      "\n",
      "\n",
      " training accuracy is 0.6668443870171574\n",
      " testing accuracy is 0.49118535040100975\n",
      "\n",
      "\n",
      " training accuracy is 0.6682614793747164\n",
      " testing accuracy is 0.4639470069056657\n",
      "\n",
      "\n",
      " training accuracy is 0.6671785976349818\n",
      " testing accuracy is 0.48791870829161477\n",
      "\n",
      "\n",
      " training accuracy is 0.6583162627668038\n",
      " testing accuracy is 0.4882396661239383\n",
      "\n",
      "\n",
      " training accuracy is 0.6592725359128648\n",
      " testing accuracy is 0.4912712689357156\n",
      "\n",
      "\n",
      " training accuracy is 0.6621685330966501\n",
      " testing accuracy is 0.5018272854621433\n",
      "\n",
      "\n",
      " training accuracy is 0.6611036748440537\n",
      " testing accuracy is 0.47936786465858694\n",
      "\n",
      "\n",
      " training accuracy is 0.6640136072116292\n",
      " testing accuracy is 0.48329241582989435\n",
      "\n",
      "\n",
      " training accuracy is 0.6562368653064393\n",
      " testing accuracy is 0.5074173317164244\n",
      "\n",
      "\n",
      " training accuracy is 0.6617276967650418\n",
      " testing accuracy is 0.5129827834196394\n",
      "\n",
      "\n",
      " training accuracy is 0.6701232597751906\n",
      " testing accuracy is 0.4642324582544697\n",
      "\n",
      "\n",
      " training accuracy is 0.6635168935020385\n",
      " testing accuracy is 0.5004099053426168\n",
      "\n",
      "\n",
      " training accuracy is 0.6648683056524602\n",
      " testing accuracy is 0.4685019233954426\n",
      "\n",
      "\n",
      " training accuracy is 0.6630235927029355\n",
      " testing accuracy is 0.4986323208892355\n",
      "\n",
      "\n",
      " training accuracy is 0.6609041210676491\n",
      " testing accuracy is 0.4926124181416218\n",
      "\n",
      "\n",
      " training accuracy is 0.6644895155852937\n",
      " testing accuracy is 0.49283826600699765\n",
      "\n",
      "\n",
      " training accuracy is 0.6651795205343531\n",
      " testing accuracy is 0.478552525694791\n",
      "\n",
      "\n",
      " training accuracy is 0.6624030506914838\n",
      " testing accuracy is 0.5058238734306391\n",
      "\n",
      "\n",
      " training accuracy is 0.6692608462090397\n",
      " testing accuracy is 0.47330373581008367\n",
      "\n",
      "\n",
      " training accuracy is 0.6625907319576465\n",
      " testing accuracy is 0.4721371756176077\n",
      "\n",
      "\n",
      " training accuracy is 0.6637690859258336\n",
      " testing accuracy is 0.476308736754782\n",
      "\n",
      "\n",
      " training accuracy is 0.6651421764078702\n",
      " testing accuracy is 0.48936383001227923\n",
      "\n",
      "\n",
      " training accuracy is 0.6576372135349651\n",
      " testing accuracy is 0.5234315385284428\n",
      "\n",
      "\n",
      " training accuracy is 0.6629153827129377\n",
      " testing accuracy is 0.480043170210532\n",
      "\n",
      "\n",
      " training accuracy is 0.668329624420207\n",
      " testing accuracy is 0.47247895797670814\n",
      "\n",
      "\n",
      " training accuracy is 0.6581448153761968\n",
      " testing accuracy is 0.5134774706904489\n",
      "\n",
      "\n",
      " training accuracy is 0.6598262173508588\n",
      " testing accuracy is 0.5025110799654973\n",
      "\n",
      "\n",
      " training accuracy is 0.6691742124579793\n",
      " testing accuracy is 0.4741880223346402\n",
      "\n",
      "\n",
      " training accuracy is 0.6650997476075711\n",
      " testing accuracy is 0.46270403105694546\n",
      "\n",
      "\n",
      " training accuracy is 0.6574500562728383\n",
      " testing accuracy is 0.5220861075703256\n",
      "\n",
      "\n",
      " training accuracy is 0.667944899641303\n",
      " testing accuracy is 0.4773792850100401\n",
      "\n",
      "\n",
      " training accuracy is 0.6555539981898082\n",
      " testing accuracy is 0.5105672649340346\n",
      "\n",
      "\n",
      " training accuracy is 0.6641297841187337\n",
      " testing accuracy is 0.5145110897729317\n",
      "\n",
      "\n",
      " training accuracy is 0.6686672150438402\n",
      " testing accuracy is 0.48129321392418045\n",
      "\n",
      "\n",
      " training accuracy is 0.6659308771893713\n",
      " testing accuracy is 0.48411452151406764\n",
      "\n",
      "\n",
      " training accuracy is 0.6614323747446131\n",
      " testing accuracy is 0.49647161032687703\n",
      "\n",
      "\n",
      " training accuracy is 0.6614648939877418\n",
      " testing accuracy is 0.5018018420374342\n",
      "\n",
      "\n",
      " training accuracy is 0.6653301459681655\n",
      " testing accuracy is 0.4694899432093209\n",
      "\n",
      "\n",
      " training accuracy is 0.6726578338207901\n",
      " testing accuracy is 0.47087075279448065\n",
      "\n",
      "\n",
      " training accuracy is 0.6658319452110273\n",
      " testing accuracy is 0.49003300840552977\n",
      "\n",
      "\n",
      " training accuracy is 0.6596554524234188\n",
      " testing accuracy is 0.511170112306853\n",
      "\n",
      "\n",
      " training accuracy is 0.6649406056030469\n",
      " testing accuracy is 0.4800853934761089\n",
      "\n",
      "\n",
      " training accuracy is 0.6685426499774343\n",
      " testing accuracy is 0.4702024924769185\n",
      "\n",
      "\n",
      " training accuracy is 0.6602388833810333\n",
      " testing accuracy is 0.4896379753129755\n",
      "\n",
      "\n",
      " training accuracy is 0.6625312147378795\n",
      " testing accuracy is 0.4985375744701708\n",
      "\n",
      "\n",
      " training accuracy is 0.6626798781918063\n",
      " testing accuracy is 0.48972455867398557\n",
      "\n",
      "\n",
      " training accuracy is 0.663190121000113\n",
      " testing accuracy is 0.4875588064681081\n",
      "\n",
      "\n",
      " training accuracy is 0.6565996484317094\n",
      " testing accuracy is 0.5022910739435787\n",
      "\n",
      "\n",
      " training accuracy is 0.661262061610455\n",
      " testing accuracy is 0.4954903907326802\n",
      "\n",
      "\n",
      " training accuracy is 0.6725863398102856\n",
      " testing accuracy is 0.45989112372547414\n",
      "\n",
      "\n",
      " training accuracy is 0.6588872953658866\n",
      " testing accuracy is 0.5078471428056679\n",
      "\n",
      "\n",
      " training accuracy is 0.6621138241696886\n",
      " testing accuracy is 0.4898066213877168\n",
      "\n",
      "\n",
      " training accuracy is 0.6631973031534781\n",
      " testing accuracy is 0.5096224703733137\n",
      "\n",
      "\n",
      " training accuracy is 0.6617936638477611\n",
      " testing accuracy is 0.507149619547564\n",
      "\n",
      "\n",
      " training accuracy is 0.6672077223581293\n",
      " testing accuracy is 0.49383846030284406\n",
      "\n",
      "\n",
      " training accuracy is 0.6574546560330057\n",
      " testing accuracy is 0.4980557579083872\n",
      "\n",
      "\n",
      " training accuracy is 0.6629657900849912\n",
      " testing accuracy is 0.4949703121084127\n",
      "\n",
      "\n",
      " training accuracy is 0.6563978435227003\n",
      " testing accuracy is 0.5135997584020333\n",
      "\n",
      "\n",
      " training accuracy is 0.6622185234769985\n",
      " testing accuracy is 0.4883414878309271\n",
      "\n",
      "\n",
      " training accuracy is 0.6694544891415362\n",
      " testing accuracy is 0.4636490615811457\n",
      "\n",
      "\n",
      " training accuracy is 0.6671955908524196\n",
      " testing accuracy is 0.4663142577327397\n",
      "\n",
      "\n",
      " training accuracy is 0.664840031100389\n",
      " testing accuracy is 0.4775920840473953\n",
      "\n",
      "\n",
      " training accuracy is 0.660185209228648\n",
      " testing accuracy is 0.5021929721316455\n",
      "\n",
      "\n",
      " training accuracy is 0.6560102956197835\n",
      " testing accuracy is 0.5118188694121475\n",
      "\n",
      "\n",
      " training accuracy is 0.6648560589709458\n",
      " testing accuracy is 0.48409172225388053\n",
      "\n",
      "\n",
      " training accuracy is 0.6546130085292882\n",
      " testing accuracy is 0.5350312019850594\n",
      "\n",
      "\n",
      " training accuracy is 0.6606785386471956\n",
      " testing accuracy is 0.4927790873374188\n",
      "\n",
      "\n",
      " training accuracy is 0.6634212627355203\n",
      " testing accuracy is 0.4812856361896368\n",
      "\n",
      "\n",
      " training accuracy is 0.6585253816010822\n",
      " testing accuracy is 0.5069199096141932\n",
      "\n",
      "\n",
      " training accuracy is 0.6612710671145083\n",
      " testing accuracy is 0.49072363489339643\n",
      "\n",
      "\n",
      " training accuracy is 0.6545966603660776\n",
      " testing accuracy is 0.5317321939390935\n",
      "\n",
      "\n",
      " training accuracy is 0.6653213280049086\n",
      " testing accuracy is 0.4770574750969372\n",
      "\n",
      "\n",
      " training accuracy is 0.6603168717763808\n",
      " testing accuracy is 0.4987283345561899\n",
      "\n",
      "\n",
      " training accuracy is 0.6669147159262915\n",
      " testing accuracy is 0.4852944045412607\n",
      "\n",
      "\n",
      " training accuracy is 0.6656160834670133\n",
      " testing accuracy is 0.4916779236329246\n",
      "\n",
      "\n",
      " training accuracy is 0.6607162186570257\n",
      " testing accuracy is 0.5095864962181846\n",
      "\n",
      "\n"
     ]
    },
    {
     "name": "stdout",
     "output_type": "stream",
     "text": [
      " training accuracy is 0.6616911411888808\n",
      " testing accuracy is 0.509599901312167\n",
      "\n",
      "\n"
     ]
    }
   ],
   "source": [
    "from sklearn.neighbors import KNeighborsRegressor\n",
    "knr=KNeighborsRegressor()\n",
    "model_selection(knr)"
   ]
  },
  {
   "cell_type": "code",
   "execution_count": 181,
   "id": "733ff6bc",
   "metadata": {},
   "outputs": [
    {
     "name": "stdout",
     "output_type": "stream",
     "text": [
      " training accuracy is 0.4978799067858205\n",
      " testing accuracy is 0.5021196168981057\n",
      "\n",
      "\n",
      " training accuracy is 0.5007200609801461\n",
      " testing accuracy is 0.4903886879997007\n",
      "\n",
      "\n",
      " training accuracy is 0.49836697547147\n",
      " testing accuracy is 0.5005002454195981\n",
      "\n",
      "\n",
      " training accuracy is 0.501490029538652\n",
      " testing accuracy is 0.48805848704533483\n",
      "\n",
      "\n",
      " training accuracy is 0.4928182417539064\n",
      " testing accuracy is 0.5192931981168791\n",
      "\n",
      "\n",
      " training accuracy is 0.5040391616365789\n",
      " testing accuracy is 0.47651623270764065\n",
      "\n",
      "\n",
      " training accuracy is 0.4890470276937393\n",
      " testing accuracy is 0.5362972360801583\n",
      "\n",
      "\n",
      " training accuracy is 0.5023301369253078\n",
      " testing accuracy is 0.48264661970662914\n",
      "\n",
      "\n",
      " training accuracy is 0.4985106746696425\n",
      " testing accuracy is 0.49923744373344825\n",
      "\n",
      "\n",
      " training accuracy is 0.4966083182498857\n",
      " testing accuracy is 0.5069043255170558\n",
      "\n",
      "\n",
      " training accuracy is 0.4985082071896463\n",
      " testing accuracy is 0.4996218694717963\n",
      "\n",
      "\n",
      " training accuracy is 0.4986244336946152\n",
      " testing accuracy is 0.4990439227155079\n",
      "\n",
      "\n",
      " training accuracy is 0.4977529937887901\n",
      " testing accuracy is 0.5028126905947845\n",
      "\n",
      "\n",
      " training accuracy is 0.5012613377673418\n",
      " testing accuracy is 0.4879427547420353\n",
      "\n",
      "\n",
      " training accuracy is 0.4985469813007093\n",
      " testing accuracy is 0.49778275130621796\n",
      "\n",
      "\n",
      " training accuracy is 0.49801723054709846\n",
      " testing accuracy is 0.5011613228017304\n",
      "\n",
      "\n",
      " training accuracy is 0.4956210311974385\n",
      " testing accuracy is 0.5103629505646161\n",
      "\n",
      "\n",
      " training accuracy is 0.49973414541225825\n",
      " testing accuracy is 0.4937411801145074\n",
      "\n",
      "\n",
      " training accuracy is 0.4945916830008916\n",
      " testing accuracy is 0.5157523680301385\n",
      "\n",
      "\n",
      " training accuracy is 0.49101659621534577\n",
      " testing accuracy is 0.5292058336487339\n",
      "\n",
      "\n",
      " training accuracy is 0.4933161022664462\n",
      " testing accuracy is 0.5184669522412966\n",
      "\n",
      "\n",
      " training accuracy is 0.49477944957514175\n",
      " testing accuracy is 0.5146135125224963\n",
      "\n",
      "\n",
      " training accuracy is 0.5036213500373865\n",
      " testing accuracy is 0.478196615399491\n",
      "\n",
      "\n",
      " training accuracy is 0.49817964101917755\n",
      " testing accuracy is 0.501510386893752\n",
      "\n",
      "\n",
      " training accuracy is 0.5038426327682891\n",
      " testing accuracy is 0.47528930445154327\n",
      "\n",
      "\n",
      " training accuracy is 0.5023617330555361\n",
      " testing accuracy is 0.48419326772156934\n",
      "\n",
      "\n",
      " training accuracy is 0.4988130489964512\n",
      " testing accuracy is 0.4980547313640852\n",
      "\n",
      "\n",
      " training accuracy is 0.49790661123806346\n",
      " testing accuracy is 0.5011025468099133\n",
      "\n",
      "\n",
      " training accuracy is 0.5008099812719247\n",
      " testing accuracy is 0.4902250862506875\n",
      "\n",
      "\n",
      " training accuracy is 0.5036675260473334\n",
      " testing accuracy is 0.4794487068795207\n",
      "\n",
      "\n",
      " training accuracy is 0.49850706370312503\n",
      " testing accuracy is 0.49941943768338626\n",
      "\n",
      "\n",
      " training accuracy is 0.49907576092859074\n",
      " testing accuracy is 0.4964069223840303\n",
      "\n",
      "\n",
      " training accuracy is 0.4966167793895493\n",
      " testing accuracy is 0.5075905112446684\n",
      "\n",
      "\n",
      " training accuracy is 0.5025856977961102\n",
      " testing accuracy is 0.48349190342512627\n",
      "\n",
      "\n",
      " training accuracy is 0.49654910603690405\n",
      " testing accuracy is 0.5069024027958058\n",
      "\n",
      "\n",
      " training accuracy is 0.49849530761501215\n",
      " testing accuracy is 0.49942491637797715\n",
      "\n",
      "\n",
      " training accuracy is 0.5038607625779723\n",
      " testing accuracy is 0.47531133630570255\n",
      "\n",
      "\n",
      " training accuracy is 0.5013788204445022\n",
      " testing accuracy is 0.4871916682419084\n",
      "\n",
      "\n",
      " training accuracy is 0.49769141305674014\n",
      " testing accuracy is 0.5019143053753614\n",
      "\n",
      "\n",
      " training accuracy is 0.4949580126994192\n",
      " testing accuracy is 0.5141501484777742\n",
      "\n",
      "\n",
      " training accuracy is 0.49465988320743826\n",
      " testing accuracy is 0.5143381958359483\n",
      "\n",
      "\n",
      " training accuracy is 0.4983023186623452\n",
      " testing accuracy is 0.499350160773814\n",
      "\n",
      "\n",
      " training accuracy is 0.49370529288294973\n",
      " testing accuracy is 0.5189287024035949\n",
      "\n",
      "\n",
      " training accuracy is 0.49640151663079424\n",
      " testing accuracy is 0.5078785212891778\n",
      "\n",
      "\n",
      " training accuracy is 0.4962529957145805\n",
      " testing accuracy is 0.5080176419225731\n",
      "\n",
      "\n",
      " training accuracy is 0.5001594837638443\n",
      " testing accuracy is 0.4932574358011462\n",
      "\n",
      "\n",
      " training accuracy is 0.502390825463389\n",
      " testing accuracy is 0.483613152871998\n",
      "\n",
      "\n",
      " training accuracy is 0.5047276423788583\n",
      " testing accuracy is 0.4729809038447771\n",
      "\n",
      "\n",
      " training accuracy is 0.49491151074491957\n",
      " testing accuracy is 0.5127732517916503\n",
      "\n",
      "\n",
      " training accuracy is 0.495917870962546\n",
      " testing accuracy is 0.511133392564296\n",
      "\n",
      "\n",
      " training accuracy is 0.5031746779066648\n",
      " testing accuracy is 0.48085020390757494\n",
      "\n",
      "\n",
      " training accuracy is 0.5013423476093652\n",
      " testing accuracy is 0.488196263601847\n",
      "\n",
      "\n",
      " training accuracy is 0.4942473707576611\n",
      " testing accuracy is 0.5165839263004182\n",
      "\n",
      "\n",
      " training accuracy is 0.5040273441066178\n",
      " testing accuracy is 0.4780803450534882\n",
      "\n",
      "\n",
      " training accuracy is 0.49838940081581473\n",
      " testing accuracy is 0.5001528910481181\n",
      "\n",
      "\n",
      " training accuracy is 0.49928128077461664\n",
      " testing accuracy is 0.4970719670295334\n",
      "\n",
      "\n",
      " training accuracy is 0.49700087598192844\n",
      " testing accuracy is 0.5052426916497004\n",
      "\n",
      "\n",
      " training accuracy is 0.49616078026899213\n",
      " testing accuracy is 0.5090074272635077\n",
      "\n",
      "\n",
      " training accuracy is 0.5003611103162888\n",
      " testing accuracy is 0.4926223069186565\n",
      "\n",
      "\n",
      " training accuracy is 0.49615431759993833\n",
      " testing accuracy is 0.5085089788717332\n",
      "\n",
      "\n",
      " training accuracy is 0.49820377873370225\n",
      " testing accuracy is 0.5010227458215718\n",
      "\n",
      "\n",
      " training accuracy is 0.5022892087599873\n",
      " testing accuracy is 0.48406131105006345\n",
      "\n",
      "\n",
      " training accuracy is 0.5010581090640411\n",
      " testing accuracy is 0.4893085418439591\n",
      "\n",
      "\n",
      " training accuracy is 0.4996842149531646\n",
      " testing accuracy is 0.4948178493618234\n",
      "\n",
      "\n",
      " training accuracy is 0.5021801597277382\n",
      " testing accuracy is 0.4848469627208071\n",
      "\n",
      "\n",
      " training accuracy is 0.5039442348960508\n",
      " testing accuracy is 0.47711034271241426\n",
      "\n",
      "\n",
      " training accuracy is 0.49968800306374284\n",
      " testing accuracy is 0.4946353643047512\n",
      "\n",
      "\n",
      " training accuracy is 0.50064289154561\n",
      " testing accuracy is 0.4901563505570522\n",
      "\n",
      "\n",
      " training accuracy is 0.5026227694130296\n",
      " testing accuracy is 0.4838979879073828\n",
      "\n",
      "\n",
      " training accuracy is 0.5009386097346384\n",
      " testing accuracy is 0.4896503881185926\n",
      "\n",
      "\n",
      " training accuracy is 0.4938645313404022\n",
      " testing accuracy is 0.5177062875662939\n",
      "\n",
      "\n",
      " training accuracy is 0.49594361443694945\n",
      " testing accuracy is 0.5097849854177259\n",
      "\n",
      "\n",
      " training accuracy is 0.507116681455973\n",
      " testing accuracy is 0.4662957837063454\n",
      "\n",
      "\n",
      " training accuracy is 0.49786303622177364\n",
      " testing accuracy is 0.5026066876632607\n",
      "\n",
      "\n",
      " training accuracy is 0.5045287426930024\n",
      " testing accuracy is 0.46825416662981145\n",
      "\n",
      "\n",
      " training accuracy is 0.495755224329248\n",
      " testing accuracy is 0.5106163093634604\n",
      "\n",
      "\n",
      " training accuracy is 0.500651525984203\n",
      " testing accuracy is 0.4917844722558026\n",
      "\n",
      "\n",
      " training accuracy is 0.5040862348866456\n",
      " testing accuracy is 0.4764994942557348\n",
      "\n",
      "\n",
      " training accuracy is 0.5011560160679536\n",
      " testing accuracy is 0.4884926798813418\n",
      "\n",
      "\n",
      " training accuracy is 0.4961758497268799\n",
      " testing accuracy is 0.5082429948834892\n",
      "\n",
      "\n",
      " training accuracy is 0.4975225424845531\n",
      " testing accuracy is 0.5034004711287183\n",
      "\n",
      "\n",
      " training accuracy is 0.5021518871756034\n",
      " testing accuracy is 0.48506624315676783\n",
      "\n",
      "\n",
      " training accuracy is 0.5017248666974471\n",
      " testing accuracy is 0.4871082032027745\n",
      "\n",
      "\n",
      " training accuracy is 0.5049195772539155\n",
      " testing accuracy is 0.4747317804106821\n",
      "\n",
      "\n",
      " training accuracy is 0.5041748761844387\n",
      " testing accuracy is 0.47598658286545537\n",
      "\n",
      "\n",
      " training accuracy is 0.49783557238372866\n",
      " testing accuracy is 0.5016958347876574\n",
      "\n",
      "\n",
      " training accuracy is 0.49630801558737814\n",
      " testing accuracy is 0.5091292569789001\n",
      "\n",
      "\n",
      " training accuracy is 0.5044185253898529\n",
      " testing accuracy is 0.4760890051418457\n",
      "\n",
      "\n",
      " training accuracy is 0.493471722404639\n",
      " testing accuracy is 0.5206545123305983\n",
      "\n",
      "\n",
      " training accuracy is 0.49876886857042013\n",
      " testing accuracy is 0.49875292027330065\n",
      "\n",
      "\n",
      " training accuracy is 0.50161844987361\n",
      " testing accuracy is 0.48696394601839843\n",
      "\n",
      "\n",
      " training accuracy is 0.4997955867993785\n",
      " testing accuracy is 0.4952158365454502\n",
      "\n",
      "\n",
      " training accuracy is 0.49742382494536375\n",
      " testing accuracy is 0.5027695910276497\n",
      "\n",
      "\n",
      " training accuracy is 0.4923892393056034\n",
      " testing accuracy is 0.5226714242697643\n",
      "\n",
      "\n",
      " training accuracy is 0.5040526003257464\n",
      " testing accuracy is 0.47615242670010816\n",
      "\n",
      "\n",
      " training accuracy is 0.49701268516718466\n",
      " testing accuracy is 0.5048581477384484\n",
      "\n",
      "\n",
      " training accuracy is 0.49703863642372814\n",
      " testing accuracy is 0.5046316848105823\n",
      "\n",
      "\n",
      " training accuracy is 0.4995733804768666\n",
      " testing accuracy is 0.49547529578062377\n",
      "\n",
      "\n",
      " training accuracy is 0.504961128435429\n",
      " testing accuracy is 0.47322842191211534\n",
      "\n",
      "\n",
      " training accuracy is 0.5013819534224773\n",
      " testing accuracy is 0.48605842925494214\n",
      "\n",
      "\n"
     ]
    }
   ],
   "source": [
    "from sklearn.linear_model import Lasso,Ridge\n",
    "ls=Lasso(alpha=0.0001)\n",
    "model_selection(ls)"
   ]
  },
  {
   "cell_type": "code",
   "execution_count": 177,
   "id": "fb155b2a",
   "metadata": {},
   "outputs": [
    {
     "name": "stdout",
     "output_type": "stream",
     "text": [
      " training accuracy is 0.49788008920392124\n",
      " testing accuracy is 0.5021232219139351\n",
      "\n",
      "\n",
      " training accuracy is 0.5007202510029891\n",
      " testing accuracy is 0.49038603060690744\n",
      "\n",
      "\n",
      " training accuracy is 0.4983671543877495\n",
      " testing accuracy is 0.5004885806031616\n",
      "\n",
      "\n",
      " training accuracy is 0.5014902046820753\n",
      " testing accuracy is 0.48807725557957493\n",
      "\n",
      "\n",
      " training accuracy is 0.49281842689979105\n",
      " testing accuracy is 0.5193023492576991\n",
      "\n",
      "\n",
      " training accuracy is 0.5040393508548255\n",
      " testing accuracy is 0.4765010522439904\n",
      "\n",
      "\n",
      " training accuracy is 0.48904721441109433\n",
      " testing accuracy is 0.5362821270333611\n",
      "\n",
      "\n",
      " training accuracy is 0.5023303077869405\n",
      " testing accuracy is 0.48261969027026586\n",
      "\n",
      "\n",
      " training accuracy is 0.49851086078368456\n",
      " testing accuracy is 0.4992383335027455\n",
      "\n",
      "\n",
      " training accuracy is 0.49660850918732213\n",
      " testing accuracy is 0.5068971824755146\n",
      "\n",
      "\n",
      " training accuracy is 0.498508392601101\n",
      " testing accuracy is 0.4996122439131119\n",
      "\n",
      "\n",
      " training accuracy is 0.49862461701662064\n",
      " testing accuracy is 0.4990419042363087\n",
      "\n",
      "\n",
      " training accuracy is 0.49775318140584335\n",
      " testing accuracy is 0.5027822911903903\n",
      "\n",
      "\n",
      " training accuracy is 0.5012615212409652\n",
      " testing accuracy is 0.4879204861148999\n",
      "\n",
      "\n",
      " training accuracy is 0.49854716046244285\n",
      " testing accuracy is 0.497760783235365\n",
      "\n",
      "\n",
      " training accuracy is 0.49801741314342074\n",
      " testing accuracy is 0.5011733698939106\n",
      "\n",
      "\n",
      " training accuracy is 0.49562122045411616\n",
      " testing accuracy is 0.5103697246715747\n",
      "\n",
      "\n",
      " training accuracy is 0.4997343263236532\n",
      " testing accuracy is 0.49376466396778773\n",
      "\n",
      "\n",
      " training accuracy is 0.49459186639979646\n",
      " testing accuracy is 0.5157647726190888\n",
      "\n",
      "\n",
      " training accuracy is 0.4910167844931115\n",
      " testing accuracy is 0.5292193887683195\n",
      "\n",
      "\n",
      " training accuracy is 0.4933162852904659\n",
      " testing accuracy is 0.5184456529238897\n",
      "\n",
      "\n",
      " training accuracy is 0.49477962865946923\n",
      " testing accuracy is 0.5146274609174555\n",
      "\n",
      "\n",
      " training accuracy is 0.5036215338863992\n",
      " testing accuracy is 0.4781742517279157\n",
      "\n",
      "\n",
      " training accuracy is 0.49817982843402364\n",
      " testing accuracy is 0.5014925555895492\n",
      "\n",
      "\n",
      " training accuracy is 0.5038428136889449\n",
      " testing accuracy is 0.4752623393626654\n",
      "\n",
      "\n",
      " training accuracy is 0.5023619143887388\n",
      " testing accuracy is 0.48419473768005616\n",
      "\n",
      "\n",
      " training accuracy is 0.49881322989225607\n",
      " testing accuracy is 0.49803951147355474\n",
      "\n",
      "\n",
      " training accuracy is 0.4979067922238761\n",
      " testing accuracy is 0.5010843319060467\n",
      "\n",
      "\n",
      " training accuracy is 0.500810165885031\n",
      " testing accuracy is 0.4902120995174094\n",
      "\n",
      "\n",
      " training accuracy is 0.5036677076207876\n",
      " testing accuracy is 0.4794486339080589\n",
      "\n",
      "\n",
      " training accuracy is 0.49850725341605895\n",
      " testing accuracy is 0.4994041226024689\n",
      "\n",
      "\n",
      " training accuracy is 0.49907594045748516\n",
      " testing accuracy is 0.49638682403793355\n",
      "\n",
      "\n",
      " training accuracy is 0.4966169612117234\n",
      " testing accuracy is 0.5075986546110978\n",
      "\n",
      "\n",
      " training accuracy is 0.5025858815854511\n",
      " testing accuracy is 0.48347617923688446\n",
      "\n",
      "\n",
      " training accuracy is 0.49654929264016023\n",
      " testing accuracy is 0.506902156342498\n",
      "\n",
      "\n",
      " training accuracy is 0.49849549236929\n",
      " testing accuracy is 0.4994122949572052\n",
      "\n",
      "\n",
      " training accuracy is 0.50386094392935\n",
      " testing accuracy is 0.4752759702184993\n",
      "\n",
      "\n",
      " training accuracy is 0.5013790031530961\n",
      " testing accuracy is 0.487166047339302\n",
      "\n",
      "\n",
      " training accuracy is 0.4976915925106218\n",
      " testing accuracy is 0.5019066495303626\n",
      "\n",
      "\n",
      " training accuracy is 0.4949581961742192\n",
      " testing accuracy is 0.5141403074401683\n",
      "\n",
      "\n",
      " training accuracy is 0.49466007146544555\n",
      " testing accuracy is 0.5143389516911709\n",
      "\n",
      "\n",
      " training accuracy is 0.49830250393732123\n",
      " testing accuracy is 0.4993437288903382\n",
      "\n",
      "\n",
      " training accuracy is 0.4937054754393091\n",
      " testing accuracy is 0.5189327572732279\n",
      "\n",
      "\n",
      " training accuracy is 0.49640170036126585\n",
      " testing accuracy is 0.507878167307785\n",
      "\n",
      "\n",
      " training accuracy is 0.4962531776256478\n",
      " testing accuracy is 0.5080368058754836\n",
      "\n",
      "\n",
      " training accuracy is 0.5001596686777818\n",
      " testing accuracy is 0.4932532407266045\n",
      "\n",
      "\n",
      " training accuracy is 0.5023910089929414\n",
      " testing accuracy is 0.4836232369035658\n",
      "\n",
      "\n",
      " training accuracy is 0.5047278287387891\n",
      " testing accuracy is 0.4729447010599722\n",
      "\n",
      "\n",
      " training accuracy is 0.49491169830353166\n",
      " testing accuracy is 0.5127636901078648\n",
      "\n",
      "\n",
      " training accuracy is 0.4959180522895712\n",
      " testing accuracy is 0.5111152874974318\n",
      "\n",
      "\n",
      " training accuracy is 0.5031748618093385\n",
      " testing accuracy is 0.4808577203761183\n",
      "\n",
      "\n",
      " training accuracy is 0.5013425284170128\n",
      " testing accuracy is 0.48820503261157566\n",
      "\n",
      "\n",
      " training accuracy is 0.4942475568740379\n",
      " testing accuracy is 0.5165880253850248\n",
      "\n",
      "\n",
      " training accuracy is 0.5040275311011662\n",
      " testing accuracy is 0.4780687895139093\n",
      "\n",
      "\n",
      " training accuracy is 0.49838958626547636\n",
      " testing accuracy is 0.5001285747967081\n",
      "\n",
      "\n",
      " training accuracy is 0.49928146098020154\n",
      " testing accuracy is 0.49707207131851794\n",
      "\n",
      "\n",
      " training accuracy is 0.49700106039882275\n",
      " testing accuracy is 0.5052177227793375\n",
      "\n",
      "\n",
      " training accuracy is 0.49616096051271397\n",
      " testing accuracy is 0.5089739687683259\n",
      "\n",
      "\n",
      " training accuracy is 0.5003612880748667\n",
      " testing accuracy is 0.49260579744127697\n",
      "\n",
      "\n",
      " training accuracy is 0.49615450095909763\n",
      " testing accuracy is 0.5085014609313474\n",
      "\n",
      "\n",
      " training accuracy is 0.49820396727110516\n",
      " testing accuracy is 0.5010102484928111\n",
      "\n",
      "\n",
      " training accuracy is 0.5022893843170206\n",
      " testing accuracy is 0.48405183080922276\n",
      "\n",
      "\n",
      " training accuracy is 0.5010582903386263\n",
      " testing accuracy is 0.4892835721356028\n",
      "\n",
      "\n",
      " training accuracy is 0.4996843977345995\n",
      " testing accuracy is 0.4948081523812985\n",
      "\n",
      "\n",
      " training accuracy is 0.5021803412610226\n",
      " testing accuracy is 0.4848056115206707\n",
      "\n",
      "\n",
      " training accuracy is 0.5039444170921086\n",
      " testing accuracy is 0.47709058919203007\n",
      "\n",
      "\n",
      " training accuracy is 0.4996881911119704\n",
      " testing accuracy is 0.494633510568424\n",
      "\n",
      "\n",
      " training accuracy is 0.5006430711586994\n",
      " testing accuracy is 0.49013076615043427\n",
      "\n",
      "\n",
      " training accuracy is 0.5026229558106121\n",
      " testing accuracy is 0.4838974950602086\n",
      "\n",
      "\n",
      " training accuracy is 0.5009387916430224\n",
      " testing accuracy is 0.48964073504805605\n",
      "\n",
      "\n",
      " training accuracy is 0.49386471516897157\n",
      " testing accuracy is 0.5177226335351957\n",
      "\n",
      "\n",
      " training accuracy is 0.49594380021537\n",
      " testing accuracy is 0.5097853619544328\n",
      "\n",
      "\n",
      " training accuracy is 0.507116863414832\n",
      " testing accuracy is 0.4662993305842129\n",
      "\n",
      "\n",
      " training accuracy is 0.497863221511725\n",
      " testing accuracy is 0.5025908951422937\n",
      "\n",
      "\n",
      " training accuracy is 0.50452892131646\n",
      " testing accuracy is 0.468230381776944\n",
      "\n",
      "\n",
      " training accuracy is 0.49575540416519903\n",
      " testing accuracy is 0.5106001797091775\n",
      "\n",
      "\n",
      " training accuracy is 0.5006517116139853\n",
      " testing accuracy is 0.4917801333151324\n",
      "\n",
      "\n",
      " training accuracy is 0.5040864137162757\n",
      " testing accuracy is 0.4764588715490693\n",
      "\n",
      "\n",
      " training accuracy is 0.501156201780501\n",
      " testing accuracy is 0.4884997489360656\n",
      "\n",
      "\n",
      " training accuracy is 0.4961760326247816\n",
      " testing accuracy is 0.5082154335505431\n",
      "\n",
      "\n",
      " training accuracy is 0.49752272742595116\n",
      " testing accuracy is 0.5034216576233435\n",
      "\n",
      "\n",
      " training accuracy is 0.5021520718379904\n",
      " testing accuracy is 0.48507137760577035\n",
      "\n",
      "\n",
      " training accuracy is 0.5017250550847263\n",
      " testing accuracy is 0.4871062368170801\n",
      "\n",
      "\n",
      " training accuracy is 0.5049197620165249\n",
      " testing accuracy is 0.47471660849466135\n",
      "\n",
      "\n",
      " training accuracy is 0.5041750582440834\n",
      " testing accuracy is 0.4759643663109978\n",
      "\n",
      "\n",
      " training accuracy is 0.49783575910868694\n",
      " testing accuracy is 0.5017031536666066\n",
      "\n",
      "\n",
      " training accuracy is 0.49630818452580605\n",
      " testing accuracy is 0.5091056132549532\n",
      "\n",
      "\n",
      " training accuracy is 0.5044187147409913\n",
      " testing accuracy is 0.4760894204069823\n",
      "\n",
      "\n",
      " training accuracy is 0.49347190295241494\n",
      " testing accuracy is 0.5206351479592797\n",
      "\n",
      "\n",
      " training accuracy is 0.49876904563289404\n",
      " testing accuracy is 0.4987316232857725\n",
      "\n",
      "\n",
      " training accuracy is 0.5016186334009767\n",
      " testing accuracy is 0.48694855806388404\n",
      "\n",
      "\n",
      " training accuracy is 0.49979577768400885\n",
      " testing accuracy is 0.49519804217630625\n",
      "\n",
      "\n",
      " training accuracy is 0.49742400872277215\n",
      " testing accuracy is 0.5027600279921891\n",
      "\n",
      "\n",
      " training accuracy is 0.4923894109227257\n",
      " testing accuracy is 0.5226698645404397\n",
      "\n",
      "\n",
      " training accuracy is 0.5040527802961878\n",
      " testing accuracy is 0.47612557244985243\n",
      "\n",
      "\n",
      " training accuracy is 0.49701286824673097\n",
      " testing accuracy is 0.5048669765243647\n",
      "\n",
      "\n",
      " training accuracy is 0.49703881868472477\n",
      " testing accuracy is 0.504601496618516\n",
      "\n",
      "\n",
      " training accuracy is 0.4995735733114679\n",
      " testing accuracy is 0.49545766254976\n",
      "\n",
      "\n",
      " training accuracy is 0.5049613133501941\n",
      " testing accuracy is 0.47319887938538285\n",
      "\n",
      "\n",
      " training accuracy is 0.5013821352663153\n",
      " testing accuracy is 0.48604722837641345\n",
      "\n",
      "\n"
     ]
    }
   ],
   "source": [
    "rd=Ridge(alpha=0.001)\n",
    "model_selection(rd)\n"
   ]
  },
  {
   "cell_type": "markdown",
   "id": "f4dac66b",
   "metadata": {},
   "source": [
    "# prediction"
   ]
  },
  {
   "cell_type": "code",
   "execution_count": 182,
   "id": "518a2842",
   "metadata": {},
   "outputs": [],
   "source": [
    "pred=ls.predict(df_testset)"
   ]
  },
  {
   "cell_type": "code",
   "execution_count": 183,
   "id": "92c40891",
   "metadata": {},
   "outputs": [
    {
     "data": {
      "text/plain": [
       "array([110.48639478,  97.67919289, 189.26655251, ..., 118.86131042,\n",
       "       168.03643787,  93.12477388])"
      ]
     },
     "execution_count": 183,
     "metadata": {},
     "output_type": "execute_result"
    }
   ],
   "source": [
    "pred"
   ]
  },
  {
   "cell_type": "code",
   "execution_count": 187,
   "id": "3e252185",
   "metadata": {},
   "outputs": [],
   "source": [
    "predset=pd.DataFrame(data=df_testset,columns=dfxx.columns)"
   ]
  },
  {
   "cell_type": "code",
   "execution_count": 188,
   "id": "01694c3d",
   "metadata": {},
   "outputs": [],
   "source": [
    "predset[\"predicted value\"]=pd.DataFrame(data=pred)"
   ]
  },
  {
   "cell_type": "code",
   "execution_count": 189,
   "id": "9032b157",
   "metadata": {},
   "outputs": [
    {
     "data": {
      "text/html": [
       "<div>\n",
       "<style scoped>\n",
       "    .dataframe tbody tr th:only-of-type {\n",
       "        vertical-align: middle;\n",
       "    }\n",
       "\n",
       "    .dataframe tbody tr th {\n",
       "        vertical-align: top;\n",
       "    }\n",
       "\n",
       "    .dataframe thead th {\n",
       "        text-align: right;\n",
       "    }\n",
       "</style>\n",
       "<table border=\"1\" class=\"dataframe\">\n",
       "  <thead>\n",
       "    <tr style=\"text-align: right;\">\n",
       "      <th></th>\n",
       "      <th>Item_Identifier</th>\n",
       "      <th>Item_Weight</th>\n",
       "      <th>Item_Fat_Content</th>\n",
       "      <th>Item_Visibility</th>\n",
       "      <th>Item_Type</th>\n",
       "      <th>Item_MRP</th>\n",
       "      <th>Outlet_Identifier</th>\n",
       "      <th>Outlet_Establishment_Year</th>\n",
       "      <th>Outlet_Size</th>\n",
       "      <th>Outlet_Location_Type</th>\n",
       "      <th>Outlet_Type</th>\n",
       "      <th>Item_Outlet_Sales</th>\n",
       "      <th>predicted value</th>\n",
       "    </tr>\n",
       "  </thead>\n",
       "  <tbody>\n",
       "    <tr>\n",
       "      <th>0</th>\n",
       "      <td>1103</td>\n",
       "      <td>20.750000</td>\n",
       "      <td>1</td>\n",
       "      <td>0.007565</td>\n",
       "      <td>13</td>\n",
       "      <td>107.8622</td>\n",
       "      <td>9</td>\n",
       "      <td>1999</td>\n",
       "      <td>1</td>\n",
       "      <td>0</td>\n",
       "      <td>1</td>\n",
       "      <td>NaN</td>\n",
       "      <td>110.486395</td>\n",
       "    </tr>\n",
       "    <tr>\n",
       "      <th>1</th>\n",
       "      <td>1067</td>\n",
       "      <td>8.300000</td>\n",
       "      <td>4</td>\n",
       "      <td>0.038428</td>\n",
       "      <td>4</td>\n",
       "      <td>87.3198</td>\n",
       "      <td>2</td>\n",
       "      <td>2007</td>\n",
       "      <td>1</td>\n",
       "      <td>1</td>\n",
       "      <td>1</td>\n",
       "      <td>NaN</td>\n",
       "      <td>97.679193</td>\n",
       "    </tr>\n",
       "    <tr>\n",
       "      <th>2</th>\n",
       "      <td>1406</td>\n",
       "      <td>14.600000</td>\n",
       "      <td>1</td>\n",
       "      <td>0.099575</td>\n",
       "      <td>11</td>\n",
       "      <td>241.7538</td>\n",
       "      <td>0</td>\n",
       "      <td>1998</td>\n",
       "      <td>1</td>\n",
       "      <td>2</td>\n",
       "      <td>0</td>\n",
       "      <td>NaN</td>\n",
       "      <td>189.266553</td>\n",
       "    </tr>\n",
       "    <tr>\n",
       "      <th>3</th>\n",
       "      <td>809</td>\n",
       "      <td>7.315000</td>\n",
       "      <td>1</td>\n",
       "      <td>0.015388</td>\n",
       "      <td>13</td>\n",
       "      <td>155.0340</td>\n",
       "      <td>2</td>\n",
       "      <td>2007</td>\n",
       "      <td>1</td>\n",
       "      <td>1</td>\n",
       "      <td>1</td>\n",
       "      <td>NaN</td>\n",
       "      <td>135.266555</td>\n",
       "    </tr>\n",
       "    <tr>\n",
       "      <th>4</th>\n",
       "      <td>1184</td>\n",
       "      <td>12.695633</td>\n",
       "      <td>2</td>\n",
       "      <td>0.118599</td>\n",
       "      <td>4</td>\n",
       "      <td>234.2300</td>\n",
       "      <td>5</td>\n",
       "      <td>1985</td>\n",
       "      <td>1</td>\n",
       "      <td>2</td>\n",
       "      <td>3</td>\n",
       "      <td>NaN</td>\n",
       "      <td>184.843629</td>\n",
       "    </tr>\n",
       "    <tr>\n",
       "      <th>...</th>\n",
       "      <td>...</td>\n",
       "      <td>...</td>\n",
       "      <td>...</td>\n",
       "      <td>...</td>\n",
       "      <td>...</td>\n",
       "      <td>...</td>\n",
       "      <td>...</td>\n",
       "      <td>...</td>\n",
       "      <td>...</td>\n",
       "      <td>...</td>\n",
       "      <td>...</td>\n",
       "      <td>...</td>\n",
       "      <td>...</td>\n",
       "    </tr>\n",
       "    <tr>\n",
       "      <th>5676</th>\n",
       "      <td>231</td>\n",
       "      <td>10.500000</td>\n",
       "      <td>2</td>\n",
       "      <td>0.013496</td>\n",
       "      <td>13</td>\n",
       "      <td>141.3154</td>\n",
       "      <td>8</td>\n",
       "      <td>1997</td>\n",
       "      <td>2</td>\n",
       "      <td>0</td>\n",
       "      <td>1</td>\n",
       "      <td>NaN</td>\n",
       "      <td>123.561033</td>\n",
       "    </tr>\n",
       "    <tr>\n",
       "      <th>5677</th>\n",
       "      <td>306</td>\n",
       "      <td>7.600000</td>\n",
       "      <td>2</td>\n",
       "      <td>0.142991</td>\n",
       "      <td>15</td>\n",
       "      <td>169.1448</td>\n",
       "      <td>3</td>\n",
       "      <td>2009</td>\n",
       "      <td>1</td>\n",
       "      <td>2</td>\n",
       "      <td>2</td>\n",
       "      <td>NaN</td>\n",
       "      <td>140.322701</td>\n",
       "    </tr>\n",
       "    <tr>\n",
       "      <th>5678</th>\n",
       "      <td>1412</td>\n",
       "      <td>10.000000</td>\n",
       "      <td>1</td>\n",
       "      <td>0.073529</td>\n",
       "      <td>8</td>\n",
       "      <td>118.7440</td>\n",
       "      <td>7</td>\n",
       "      <td>2002</td>\n",
       "      <td>1</td>\n",
       "      <td>1</td>\n",
       "      <td>1</td>\n",
       "      <td>NaN</td>\n",
       "      <td>118.861310</td>\n",
       "    </tr>\n",
       "    <tr>\n",
       "      <th>5679</th>\n",
       "      <td>517</td>\n",
       "      <td>15.300000</td>\n",
       "      <td>2</td>\n",
       "      <td>0.000000</td>\n",
       "      <td>3</td>\n",
       "      <td>214.6218</td>\n",
       "      <td>2</td>\n",
       "      <td>2007</td>\n",
       "      <td>1</td>\n",
       "      <td>1</td>\n",
       "      <td>1</td>\n",
       "      <td>NaN</td>\n",
       "      <td>168.036438</td>\n",
       "    </tr>\n",
       "    <tr>\n",
       "      <th>5680</th>\n",
       "      <td>987</td>\n",
       "      <td>9.500000</td>\n",
       "      <td>2</td>\n",
       "      <td>0.104720</td>\n",
       "      <td>3</td>\n",
       "      <td>79.7960</td>\n",
       "      <td>7</td>\n",
       "      <td>2002</td>\n",
       "      <td>1</td>\n",
       "      <td>1</td>\n",
       "      <td>1</td>\n",
       "      <td>NaN</td>\n",
       "      <td>93.124774</td>\n",
       "    </tr>\n",
       "  </tbody>\n",
       "</table>\n",
       "<p>5681 rows × 13 columns</p>\n",
       "</div>"
      ],
      "text/plain": [
       "      Item_Identifier  Item_Weight  Item_Fat_Content  Item_Visibility  \\\n",
       "0                1103    20.750000                 1         0.007565   \n",
       "1                1067     8.300000                 4         0.038428   \n",
       "2                1406    14.600000                 1         0.099575   \n",
       "3                 809     7.315000                 1         0.015388   \n",
       "4                1184    12.695633                 2         0.118599   \n",
       "...               ...          ...               ...              ...   \n",
       "5676              231    10.500000                 2         0.013496   \n",
       "5677              306     7.600000                 2         0.142991   \n",
       "5678             1412    10.000000                 1         0.073529   \n",
       "5679              517    15.300000                 2         0.000000   \n",
       "5680              987     9.500000                 2         0.104720   \n",
       "\n",
       "      Item_Type  Item_MRP  Outlet_Identifier  Outlet_Establishment_Year  \\\n",
       "0            13  107.8622                  9                       1999   \n",
       "1             4   87.3198                  2                       2007   \n",
       "2            11  241.7538                  0                       1998   \n",
       "3            13  155.0340                  2                       2007   \n",
       "4             4  234.2300                  5                       1985   \n",
       "...         ...       ...                ...                        ...   \n",
       "5676         13  141.3154                  8                       1997   \n",
       "5677         15  169.1448                  3                       2009   \n",
       "5678          8  118.7440                  7                       2002   \n",
       "5679          3  214.6218                  2                       2007   \n",
       "5680          3   79.7960                  7                       2002   \n",
       "\n",
       "      Outlet_Size  Outlet_Location_Type  Outlet_Type  Item_Outlet_Sales  \\\n",
       "0               1                     0            1                NaN   \n",
       "1               1                     1            1                NaN   \n",
       "2               1                     2            0                NaN   \n",
       "3               1                     1            1                NaN   \n",
       "4               1                     2            3                NaN   \n",
       "...           ...                   ...          ...                ...   \n",
       "5676            2                     0            1                NaN   \n",
       "5677            1                     2            2                NaN   \n",
       "5678            1                     1            1                NaN   \n",
       "5679            1                     1            1                NaN   \n",
       "5680            1                     1            1                NaN   \n",
       "\n",
       "      predicted value  \n",
       "0          110.486395  \n",
       "1           97.679193  \n",
       "2          189.266553  \n",
       "3          135.266555  \n",
       "4          184.843629  \n",
       "...               ...  \n",
       "5676       123.561033  \n",
       "5677       140.322701  \n",
       "5678       118.861310  \n",
       "5679       168.036438  \n",
       "5680        93.124774  \n",
       "\n",
       "[5681 rows x 13 columns]"
      ]
     },
     "execution_count": 189,
     "metadata": {},
     "output_type": "execute_result"
    }
   ],
   "source": [
    "predset"
   ]
  },
  {
   "cell_type": "markdown",
   "id": "391b6079",
   "metadata": {},
   "source": [
    "# saving model"
   ]
  },
  {
   "cell_type": "code",
   "execution_count": 211,
   "id": "eb587191",
   "metadata": {},
   "outputs": [],
   "source": [
    "import pickle\n",
    "filename = 'bigmartdata.pkl'\n",
    "pickle.dump(ls,open(filename, 'wb'))"
   ]
  },
  {
   "cell_type": "code",
   "execution_count": null,
   "id": "9ba5c5a6",
   "metadata": {},
   "outputs": [],
   "source": []
  },
  {
   "cell_type": "code",
   "execution_count": null,
   "id": "c36bc14e",
   "metadata": {},
   "outputs": [],
   "source": []
  },
  {
   "cell_type": "code",
   "execution_count": null,
   "id": "1efcfd02",
   "metadata": {},
   "outputs": [],
   "source": []
  },
  {
   "cell_type": "code",
   "execution_count": null,
   "id": "93bc5ba1",
   "metadata": {},
   "outputs": [],
   "source": []
  }
 ],
 "metadata": {
  "kernelspec": {
   "display_name": "Python 3 (ipykernel)",
   "language": "python",
   "name": "python3"
  },
  "language_info": {
   "codemirror_mode": {
    "name": "ipython",
    "version": 3
   },
   "file_extension": ".py",
   "mimetype": "text/x-python",
   "name": "python",
   "nbconvert_exporter": "python",
   "pygments_lexer": "ipython3",
   "version": "3.9.7"
  }
 },
 "nbformat": 4,
 "nbformat_minor": 5
}
