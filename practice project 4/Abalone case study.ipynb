{
 "cells": [
  {
   "cell_type": "code",
   "execution_count": 18,
   "id": "eff3286b",
   "metadata": {},
   "outputs": [],
   "source": [
    "import numpy as np\n",
    "import pandas as pd\n",
    "import seaborn as sns\n",
    "import warnings\n",
    "warnings.filterwarnings(\"ignore\")\n",
    "import sklearn\n",
    "import matplotlib.pyplot as plt"
   ]
  },
  {
   "cell_type": "code",
   "execution_count": 4,
   "id": "60c1595c",
   "metadata": {},
   "outputs": [],
   "source": [
    "df=pd.read_csv(\"abalone.csv\")"
   ]
  },
  {
   "cell_type": "code",
   "execution_count": 5,
   "id": "ae394893",
   "metadata": {},
   "outputs": [
    {
     "data": {
      "text/html": [
       "<div>\n",
       "<style scoped>\n",
       "    .dataframe tbody tr th:only-of-type {\n",
       "        vertical-align: middle;\n",
       "    }\n",
       "\n",
       "    .dataframe tbody tr th {\n",
       "        vertical-align: top;\n",
       "    }\n",
       "\n",
       "    .dataframe thead th {\n",
       "        text-align: right;\n",
       "    }\n",
       "</style>\n",
       "<table border=\"1\" class=\"dataframe\">\n",
       "  <thead>\n",
       "    <tr style=\"text-align: right;\">\n",
       "      <th></th>\n",
       "      <th>Sex</th>\n",
       "      <th>Length</th>\n",
       "      <th>Diameter</th>\n",
       "      <th>Height</th>\n",
       "      <th>Whole weight</th>\n",
       "      <th>Shucked weight</th>\n",
       "      <th>Viscera weight</th>\n",
       "      <th>Shell weight</th>\n",
       "      <th>Rings</th>\n",
       "    </tr>\n",
       "  </thead>\n",
       "  <tbody>\n",
       "    <tr>\n",
       "      <th>0</th>\n",
       "      <td>M</td>\n",
       "      <td>0.455</td>\n",
       "      <td>0.365</td>\n",
       "      <td>0.095</td>\n",
       "      <td>0.5140</td>\n",
       "      <td>0.2245</td>\n",
       "      <td>0.1010</td>\n",
       "      <td>0.1500</td>\n",
       "      <td>15</td>\n",
       "    </tr>\n",
       "    <tr>\n",
       "      <th>1</th>\n",
       "      <td>M</td>\n",
       "      <td>0.350</td>\n",
       "      <td>0.265</td>\n",
       "      <td>0.090</td>\n",
       "      <td>0.2255</td>\n",
       "      <td>0.0995</td>\n",
       "      <td>0.0485</td>\n",
       "      <td>0.0700</td>\n",
       "      <td>7</td>\n",
       "    </tr>\n",
       "    <tr>\n",
       "      <th>2</th>\n",
       "      <td>F</td>\n",
       "      <td>0.530</td>\n",
       "      <td>0.420</td>\n",
       "      <td>0.135</td>\n",
       "      <td>0.6770</td>\n",
       "      <td>0.2565</td>\n",
       "      <td>0.1415</td>\n",
       "      <td>0.2100</td>\n",
       "      <td>9</td>\n",
       "    </tr>\n",
       "    <tr>\n",
       "      <th>3</th>\n",
       "      <td>M</td>\n",
       "      <td>0.440</td>\n",
       "      <td>0.365</td>\n",
       "      <td>0.125</td>\n",
       "      <td>0.5160</td>\n",
       "      <td>0.2155</td>\n",
       "      <td>0.1140</td>\n",
       "      <td>0.1550</td>\n",
       "      <td>10</td>\n",
       "    </tr>\n",
       "    <tr>\n",
       "      <th>4</th>\n",
       "      <td>I</td>\n",
       "      <td>0.330</td>\n",
       "      <td>0.255</td>\n",
       "      <td>0.080</td>\n",
       "      <td>0.2050</td>\n",
       "      <td>0.0895</td>\n",
       "      <td>0.0395</td>\n",
       "      <td>0.0550</td>\n",
       "      <td>7</td>\n",
       "    </tr>\n",
       "    <tr>\n",
       "      <th>...</th>\n",
       "      <td>...</td>\n",
       "      <td>...</td>\n",
       "      <td>...</td>\n",
       "      <td>...</td>\n",
       "      <td>...</td>\n",
       "      <td>...</td>\n",
       "      <td>...</td>\n",
       "      <td>...</td>\n",
       "      <td>...</td>\n",
       "    </tr>\n",
       "    <tr>\n",
       "      <th>4172</th>\n",
       "      <td>F</td>\n",
       "      <td>0.565</td>\n",
       "      <td>0.450</td>\n",
       "      <td>0.165</td>\n",
       "      <td>0.8870</td>\n",
       "      <td>0.3700</td>\n",
       "      <td>0.2390</td>\n",
       "      <td>0.2490</td>\n",
       "      <td>11</td>\n",
       "    </tr>\n",
       "    <tr>\n",
       "      <th>4173</th>\n",
       "      <td>M</td>\n",
       "      <td>0.590</td>\n",
       "      <td>0.440</td>\n",
       "      <td>0.135</td>\n",
       "      <td>0.9660</td>\n",
       "      <td>0.4390</td>\n",
       "      <td>0.2145</td>\n",
       "      <td>0.2605</td>\n",
       "      <td>10</td>\n",
       "    </tr>\n",
       "    <tr>\n",
       "      <th>4174</th>\n",
       "      <td>M</td>\n",
       "      <td>0.600</td>\n",
       "      <td>0.475</td>\n",
       "      <td>0.205</td>\n",
       "      <td>1.1760</td>\n",
       "      <td>0.5255</td>\n",
       "      <td>0.2875</td>\n",
       "      <td>0.3080</td>\n",
       "      <td>9</td>\n",
       "    </tr>\n",
       "    <tr>\n",
       "      <th>4175</th>\n",
       "      <td>F</td>\n",
       "      <td>0.625</td>\n",
       "      <td>0.485</td>\n",
       "      <td>0.150</td>\n",
       "      <td>1.0945</td>\n",
       "      <td>0.5310</td>\n",
       "      <td>0.2610</td>\n",
       "      <td>0.2960</td>\n",
       "      <td>10</td>\n",
       "    </tr>\n",
       "    <tr>\n",
       "      <th>4176</th>\n",
       "      <td>M</td>\n",
       "      <td>0.710</td>\n",
       "      <td>0.555</td>\n",
       "      <td>0.195</td>\n",
       "      <td>1.9485</td>\n",
       "      <td>0.9455</td>\n",
       "      <td>0.3765</td>\n",
       "      <td>0.4950</td>\n",
       "      <td>12</td>\n",
       "    </tr>\n",
       "  </tbody>\n",
       "</table>\n",
       "<p>4177 rows × 9 columns</p>\n",
       "</div>"
      ],
      "text/plain": [
       "     Sex  Length  Diameter  Height  Whole weight  Shucked weight  \\\n",
       "0      M   0.455     0.365   0.095        0.5140          0.2245   \n",
       "1      M   0.350     0.265   0.090        0.2255          0.0995   \n",
       "2      F   0.530     0.420   0.135        0.6770          0.2565   \n",
       "3      M   0.440     0.365   0.125        0.5160          0.2155   \n",
       "4      I   0.330     0.255   0.080        0.2050          0.0895   \n",
       "...   ..     ...       ...     ...           ...             ...   \n",
       "4172   F   0.565     0.450   0.165        0.8870          0.3700   \n",
       "4173   M   0.590     0.440   0.135        0.9660          0.4390   \n",
       "4174   M   0.600     0.475   0.205        1.1760          0.5255   \n",
       "4175   F   0.625     0.485   0.150        1.0945          0.5310   \n",
       "4176   M   0.710     0.555   0.195        1.9485          0.9455   \n",
       "\n",
       "      Viscera weight  Shell weight  Rings  \n",
       "0             0.1010        0.1500     15  \n",
       "1             0.0485        0.0700      7  \n",
       "2             0.1415        0.2100      9  \n",
       "3             0.1140        0.1550     10  \n",
       "4             0.0395        0.0550      7  \n",
       "...              ...           ...    ...  \n",
       "4172          0.2390        0.2490     11  \n",
       "4173          0.2145        0.2605     10  \n",
       "4174          0.2875        0.3080      9  \n",
       "4175          0.2610        0.2960     10  \n",
       "4176          0.3765        0.4950     12  \n",
       "\n",
       "[4177 rows x 9 columns]"
      ]
     },
     "execution_count": 5,
     "metadata": {},
     "output_type": "execute_result"
    }
   ],
   "source": [
    "df"
   ]
  },
  {
   "cell_type": "code",
   "execution_count": 6,
   "id": "a0684643",
   "metadata": {},
   "outputs": [
    {
     "data": {
      "text/plain": [
       "(4177, 9)"
      ]
     },
     "execution_count": 6,
     "metadata": {},
     "output_type": "execute_result"
    }
   ],
   "source": [
    "df.shape"
   ]
  },
  {
   "cell_type": "markdown",
   "id": "4c23ac7e",
   "metadata": {},
   "source": [
    "observation: in the dataframe there are 4177rows and 9 columns"
   ]
  },
  {
   "cell_type": "code",
   "execution_count": 7,
   "id": "ce6a706a",
   "metadata": {},
   "outputs": [
    {
     "name": "stdout",
     "output_type": "stream",
     "text": [
      "<class 'pandas.core.frame.DataFrame'>\n",
      "RangeIndex: 4177 entries, 0 to 4176\n",
      "Data columns (total 9 columns):\n",
      " #   Column          Non-Null Count  Dtype  \n",
      "---  ------          --------------  -----  \n",
      " 0   Sex             4177 non-null   object \n",
      " 1   Length          4177 non-null   float64\n",
      " 2   Diameter        4177 non-null   float64\n",
      " 3   Height          4177 non-null   float64\n",
      " 4   Whole weight    4177 non-null   float64\n",
      " 5   Shucked weight  4177 non-null   float64\n",
      " 6   Viscera weight  4177 non-null   float64\n",
      " 7   Shell weight    4177 non-null   float64\n",
      " 8   Rings           4177 non-null   int64  \n",
      "dtypes: float64(7), int64(1), object(1)\n",
      "memory usage: 293.8+ KB\n"
     ]
    }
   ],
   "source": [
    "df.info()"
   ]
  },
  {
   "cell_type": "markdown",
   "id": "00884621",
   "metadata": {},
   "source": [
    "observation: there are no null values in the dataframe"
   ]
  },
  {
   "cell_type": "code",
   "execution_count": 8,
   "id": "8159c9b3",
   "metadata": {},
   "outputs": [
    {
     "data": {
      "text/plain": [
       "Sex                object\n",
       "Length            float64\n",
       "Diameter          float64\n",
       "Height            float64\n",
       "Whole weight      float64\n",
       "Shucked weight    float64\n",
       "Viscera weight    float64\n",
       "Shell weight      float64\n",
       "Rings               int64\n",
       "dtype: object"
      ]
     },
     "execution_count": 8,
     "metadata": {},
     "output_type": "execute_result"
    }
   ],
   "source": [
    "df.dtypes\n"
   ]
  },
  {
   "cell_type": "markdown",
   "id": "1f60b52b",
   "metadata": {},
   "source": [
    "observation: in the dataframe, the sex column is of object type while the rest are of numeric type"
   ]
  },
  {
   "cell_type": "code",
   "execution_count": 9,
   "id": "e77e0e01",
   "metadata": {},
   "outputs": [
    {
     "data": {
      "text/plain": [
       "array(['M', 'F', 'I'], dtype=object)"
      ]
     },
     "execution_count": 9,
     "metadata": {},
     "output_type": "execute_result"
    }
   ],
   "source": [
    "df[\"Sex\"].unique()"
   ]
  },
  {
   "cell_type": "markdown",
   "id": "3b03e2c5",
   "metadata": {},
   "source": [
    "there are 3 unique values in the column sex"
   ]
  },
  {
   "cell_type": "code",
   "execution_count": 10,
   "id": "52c2fa43",
   "metadata": {},
   "outputs": [
    {
     "data": {
      "text/plain": [
       "<AxesSubplot:xlabel='Sex', ylabel='count'>"
      ]
     },
     "execution_count": 10,
     "metadata": {},
     "output_type": "execute_result"
    },
    {
     "data": {
      "image/png": "[encoded data removed]",
      "text/plain": [
       "<Figure size 432x288 with 1 Axes>"
      ]
     },
     "metadata": {
      "needs_background": "light"
     },
     "output_type": "display_data"
    }
   ],
   "source": [
    "sns.countplot(df[\"Sex\"])"
   ]
  },
  {
   "cell_type": "code",
   "execution_count": 17,
   "id": "17eb54ba",
   "metadata": {},
   "outputs": [
    {
     "data": {
      "text/plain": [
       "M    1528\n",
       "I    1342\n",
       "F    1307\n",
       "Name: Sex, dtype: int64"
      ]
     },
     "execution_count": 17,
     "metadata": {},
     "output_type": "execute_result"
    }
   ],
   "source": [
    "df[\"Sex\"].value_counts()"
   ]
  },
  {
   "cell_type": "markdown",
   "id": "52f7505a",
   "metadata": {},
   "source": [
    "observation: in this column M has 1528 data, I has 1342 data and F has 1307 data values."
   ]
  },
  {
   "cell_type": "code",
   "execution_count": 20,
   "id": "a5fd4018",
   "metadata": {},
   "outputs": [
    {
     "data": {
      "text/plain": [
       "array([15,  7,  9, 10,  8, 20, 16, 19, 14, 11, 12, 18, 13,  5,  4,  6, 21,\n",
       "       17, 22,  1,  3, 26, 23, 29,  2, 27, 25, 24], dtype=int64)"
      ]
     },
     "execution_count": 20,
     "metadata": {},
     "output_type": "execute_result"
    }
   ],
   "source": [
    "df[\"Rings\"].unique()"
   ]
  },
  {
   "cell_type": "code",
   "execution_count": 21,
   "id": "b90cb569",
   "metadata": {},
   "outputs": [
    {
     "data": {
      "text/plain": [
       "9     689\n",
       "10    634\n",
       "8     568\n",
       "11    487\n",
       "7     391\n",
       "12    267\n",
       "6     259\n",
       "13    203\n",
       "14    126\n",
       "5     115\n",
       "15    103\n",
       "16     67\n",
       "17     58\n",
       "4      57\n",
       "18     42\n",
       "19     32\n",
       "20     26\n",
       "3      15\n",
       "21     14\n",
       "23      9\n",
       "22      6\n",
       "27      2\n",
       "24      2\n",
       "1       1\n",
       "26      1\n",
       "29      1\n",
       "2       1\n",
       "25      1\n",
       "Name: Rings, dtype: int64"
      ]
     },
     "execution_count": 21,
     "metadata": {},
     "output_type": "execute_result"
    }
   ],
   "source": [
    "df[\"Rings\"].value_counts()"
   ]
  },
  {
   "cell_type": "markdown",
   "id": "4f1c2bdf",
   "metadata": {},
   "source": [
    "# Bivariate analysis"
   ]
  },
  {
   "cell_type": "code",
   "execution_count": 41,
   "id": "a2d6f6a6",
   "metadata": {},
   "outputs": [
    {
     "data": {
      "text/plain": [
       "<AxesSubplot:xlabel='Sex', ylabel='Rings'>"
      ]
     },
     "execution_count": 41,
     "metadata": {},
     "output_type": "execute_result"
    },
    {
     "data": {
      "image/png": "[encoded data removed]",
      "text/plain": [
       "<Figure size 432x288 with 1 Axes>"
      ]
     },
     "metadata": {
      "needs_background": "light"
     },
     "output_type": "display_data"
    }
   ],
   "source": [
    "sns.lineplot(df[\"Sex\"],df[\"Rings\"])"
   ]
  },
  {
   "cell_type": "markdown",
   "id": "61c5faba",
   "metadata": {},
   "source": [
    "observation: from the above graph it can be abbreviated that the female have the higher number of rings, then the male and the infants have the lesser number of rings"
   ]
  },
  {
   "cell_type": "code",
   "execution_count": 37,
   "id": "87281ecc",
   "metadata": {},
   "outputs": [
    {
     "data": {
      "text/plain": [
       "<AxesSubplot:xlabel='Length', ylabel='Rings'>"
      ]
     },
     "execution_count": 37,
     "metadata": {},
     "output_type": "execute_result"
    },
    {
     "data": {
      "image/png": "[encoded data removed]",
      "text/plain": [
       "<Figure size 432x288 with 1 Axes>"
      ]
     },
     "metadata": {
      "needs_background": "light"
     },
     "output_type": "display_data"
    }
   ],
   "source": [
    "sns.scatterplot(df[\"Length\"],df[\"Rings\"])"
   ]
  },
  {
   "cell_type": "markdown",
   "id": "5fa94ee4",
   "metadata": {},
   "source": [
    "observation: from the above graph it can be observed that as the length incraeses, the number of rings also increases"
   ]
  },
  {
   "cell_type": "code",
   "execution_count": 39,
   "id": "abdab6fb",
   "metadata": {},
   "outputs": [
    {
     "data": {
      "text/plain": [
       "<AxesSubplot:xlabel='Diameter', ylabel='Rings'>"
      ]
     },
     "execution_count": 39,
     "metadata": {},
     "output_type": "execute_result"
    },
    {
     "data": {
      "image/png": "[encoded data removed]",
      "text/plain": [
       "<Figure size 432x288 with 1 Axes>"
      ]
     },
     "metadata": {
      "needs_background": "light"
     },
     "output_type": "display_data"
    }
   ],
   "source": [
    "sns.lineplot(df[\"Diameter\"],df[\"Rings\"])"
   ]
  },
  {
   "cell_type": "markdown",
   "id": "9c46b634",
   "metadata": {},
   "source": [
    "observation: from the above graph it can be observed that as the diameter incraeses, the number of rings also increases"
   ]
  },
  {
   "cell_type": "code",
   "execution_count": 44,
   "id": "62892f59",
   "metadata": {},
   "outputs": [
    {
     "data": {
      "text/plain": [
       "<AxesSubplot:xlabel='Whole weight', ylabel='Rings'>"
      ]
     },
     "execution_count": 44,
     "metadata": {},
     "output_type": "execute_result"
    },
    {
     "data": {
      "image/png": "[encoded data removed]",
      "text/plain": [
       "<Figure size 432x288 with 1 Axes>"
      ]
     },
     "metadata": {
      "needs_background": "light"
     },
     "output_type": "display_data"
    }
   ],
   "source": [
    "sns.scatterplot(df[\"Whole weight\"],df[\"Rings\"])"
   ]
  },
  {
   "cell_type": "markdown",
   "id": "7b7f433e",
   "metadata": {},
   "source": [
    "observation: it can be observed that the abalones with whole weight between 0 to 0.5 have number of rings between 1to 18, while the ones between 1.0 to 2.0 have ring numbers between 7 to 29 and the abalones with weight more than 2.0 have ring numbers between 10to 25."
   ]
  },
  {
   "cell_type": "code",
   "execution_count": 50,
   "id": "15deb213",
   "metadata": {},
   "outputs": [
    {
     "data": {
      "text/plain": [
       "<AxesSubplot:xlabel='Shucked weight', ylabel='Rings'>"
      ]
     },
     "execution_count": 50,
     "metadata": {},
     "output_type": "execute_result"
    },
    {
     "data": {
      "image/png": "[encoded data removed]",
      "text/plain": [
       "<Figure size 432x288 with 1 Axes>"
      ]
     },
     "metadata": {
      "needs_background": "light"
     },
     "output_type": "display_data"
    }
   ],
   "source": [
    "sns.scatterplot(df[\"Shucked weight\"],df[\"Rings\"])"
   ]
  },
  {
   "cell_type": "markdown",
   "id": "25430f7b",
   "metadata": {},
   "source": [
    "observation: it can be observed that the abalones with shucked weight more than 0.2 generally have more than 7 number of rings "
   ]
  },
  {
   "cell_type": "code",
   "execution_count": 51,
   "id": "e7515386",
   "metadata": {},
   "outputs": [
    {
     "data": {
      "text/plain": [
       "<AxesSubplot:xlabel='Viscera weight', ylabel='Rings'>"
      ]
     },
     "execution_count": 51,
     "metadata": {},
     "output_type": "execute_result"
    },
    {
     "data": {
      "image/png": "[encoded data removed]",
      "text/plain": [
       "<Figure size 432x288 with 1 Axes>"
      ]
     },
     "metadata": {
      "needs_background": "light"
     },
     "output_type": "display_data"
    }
   ],
   "source": [
    "sns.scatterplot(df[\"Viscera weight\"],df[\"Rings\"])"
   ]
  },
  {
   "cell_type": "code",
   "execution_count": null,
   "id": "19694d83",
   "metadata": {},
   "outputs": [],
   "source": [
    "observation: it can be observed that the abalones with viscera weight more than 0.1 generally have more than 5 number of rings "
   ]
  },
  {
   "cell_type": "code",
   "execution_count": 53,
   "id": "ab94fcb7",
   "metadata": {},
   "outputs": [
    {
     "data": {
      "text/plain": [
       "<AxesSubplot:xlabel='Shell weight', ylabel='Rings'>"
      ]
     },
     "execution_count": 53,
     "metadata": {},
     "output_type": "execute_result"
    },
    {
     "data": {
      "image/png": "[encoded data removed]",
      "text/plain": [
       "<Figure size 432x288 with 1 Axes>"
      ]
     },
     "metadata": {
      "needs_background": "light"
     },
     "output_type": "display_data"
    }
   ],
   "source": [
    "sns.scatterplot(df[\"Shell weight\"],df[\"Rings\"])"
   ]
  },
  {
   "cell_type": "code",
   "execution_count": null,
   "id": "6e4a3e57",
   "metadata": {},
   "outputs": [],
   "source": [
    "observation: it can be observed that there are very less abalones with more than 0.7 having rings more than 20 "
   ]
  },
  {
   "cell_type": "markdown",
   "id": "3c46a6cd",
   "metadata": {},
   "source": [
    "# label encoding "
   ]
  },
  {
   "cell_type": "markdown",
   "id": "8b4f6c84",
   "metadata": {},
   "source": [
    "in this dataframe, there is one column which is of object and therefore we need to convert it into numeric type"
   ]
  },
  {
   "cell_type": "code",
   "execution_count": 54,
   "id": "ccc6c4f2",
   "metadata": {},
   "outputs": [],
   "source": [
    "from sklearn.preprocessing import LabelEncoder\n",
    "le=LabelEncoder()\n",
    "df[\"Sex\"]=le.fit_transform(df[\"Sex\"])"
   ]
  },
  {
   "cell_type": "code",
   "execution_count": 55,
   "id": "2582144e",
   "metadata": {},
   "outputs": [
    {
     "data": {
      "text/plain": [
       "Sex                 int32\n",
       "Length            float64\n",
       "Diameter          float64\n",
       "Height            float64\n",
       "Whole weight      float64\n",
       "Shucked weight    float64\n",
       "Viscera weight    float64\n",
       "Shell weight      float64\n",
       "Rings               int64\n",
       "dtype: object"
      ]
     },
     "execution_count": 55,
     "metadata": {},
     "output_type": "execute_result"
    }
   ],
   "source": [
    "df.dtypes"
   ]
  },
  {
   "cell_type": "code",
   "execution_count": 56,
   "id": "ee90ca87",
   "metadata": {},
   "outputs": [
    {
     "data": {
      "text/plain": [
       "Sex               0\n",
       "Length            0\n",
       "Diameter          0\n",
       "Height            0\n",
       "Whole weight      0\n",
       "Shucked weight    0\n",
       "Viscera weight    0\n",
       "Shell weight      0\n",
       "Rings             0\n",
       "dtype: int64"
      ]
     },
     "execution_count": 56,
     "metadata": {},
     "output_type": "execute_result"
    }
   ],
   "source": [
    "df.isnull().sum()"
   ]
  },
  {
   "cell_type": "markdown",
   "id": "2df1a820",
   "metadata": {},
   "source": [
    "analysis: in the dataframe every column is in numeric type and there are no null values"
   ]
  },
  {
   "cell_type": "markdown",
   "id": "228abcae",
   "metadata": {},
   "source": [
    "checking and removal of outliers"
   ]
  },
  {
   "cell_type": "code",
   "execution_count": 99,
   "id": "a4b04ed2",
   "metadata": {},
   "outputs": [
    {
     "data": {
      "text/plain": [
       "<AxesSubplot:>"
      ]
     },
     "execution_count": 99,
     "metadata": {},
     "output_type": "execute_result"
    },
    {
     "data": {
      "image/png": "[encoded data removed]",
      "text/plain": [
       "<Figure size 432x288 with 1 Axes>"
      ]
     },
     "metadata": {
      "needs_background": "light"
     },
     "output_type": "display_data"
    }
   ],
   "source": [
    "df[\"Sex\"].plot.box()"
   ]
  },
  {
   "cell_type": "code",
   "execution_count": 100,
   "id": "a76fe577",
   "metadata": {},
   "outputs": [
    {
     "data": {
      "text/plain": [
       "<AxesSubplot:>"
      ]
     },
     "execution_count": 100,
     "metadata": {},
     "output_type": "execute_result"
    },
    {
     "data": {
      "image/png": "[encoded data removed]",
      "text/plain": [
       "<Figure size 432x288 with 1 Axes>"
      ]
     },
     "metadata": {
      "needs_background": "light"
     },
     "output_type": "display_data"
    }
   ],
   "source": [
    "df[\"Length\"].plot.box()"
   ]
  },
  {
   "cell_type": "code",
   "execution_count": 101,
   "id": "ea5618ed",
   "metadata": {},
   "outputs": [
    {
     "data": {
      "text/plain": [
       "<AxesSubplot:>"
      ]
     },
     "execution_count": 101,
     "metadata": {},
     "output_type": "execute_result"
    },
    {
     "data": {
      "image/png": "[encoded data removed]",
      "text/plain": [
       "<Figure size 432x288 with 1 Axes>"
      ]
     },
     "metadata": {
      "needs_background": "light"
     },
     "output_type": "display_data"
    }
   ],
   "source": [
    "df[\"Diameter\"].plot.box()"
   ]
  },
  {
   "cell_type": "code",
   "execution_count": 102,
   "id": "1d8a7d9e",
   "metadata": {},
   "outputs": [
    {
     "data": {
      "text/plain": [
       "<AxesSubplot:>"
      ]
     },
     "execution_count": 102,
     "metadata": {},
     "output_type": "execute_result"
    },
    {
     "data": {
      "image/png": "[encoded data removed]",
      "text/plain": [
       "<Figure size 432x288 with 1 Axes>"
      ]
     },
     "metadata": {
      "needs_background": "light"
     },
     "output_type": "display_data"
    }
   ],
   "source": [
    "df[\"Height\"].plot.box()"
   ]
  },
  {
   "cell_type": "code",
   "execution_count": 103,
   "id": "6abc7881",
   "metadata": {},
   "outputs": [
    {
     "data": {
      "text/plain": [
       "<AxesSubplot:>"
      ]
     },
     "execution_count": 103,
     "metadata": {},
     "output_type": "execute_result"
    },
    {
     "data": {
      "image/png": "[encoded data removed]",
      "text/plain": [
       "<Figure size 432x288 with 1 Axes>"
      ]
     },
     "metadata": {
      "needs_background": "light"
     },
     "output_type": "display_data"
    }
   ],
   "source": [
    "df[\"Whole weight\"].plot.box()"
   ]
  },
  {
   "cell_type": "code",
   "execution_count": 104,
   "id": "83495920",
   "metadata": {},
   "outputs": [
    {
     "data": {
      "text/plain": [
       "<AxesSubplot:>"
      ]
     },
     "execution_count": 104,
     "metadata": {},
     "output_type": "execute_result"
    },
    {
     "data": {
      "image/png": "[encoded data removed]",
      "text/plain": [
       "<Figure size 432x288 with 1 Axes>"
      ]
     },
     "metadata": {
      "needs_background": "light"
     },
     "output_type": "display_data"
    }
   ],
   "source": [
    "df[\"Shucked weight\"].plot.box()"
   ]
  },
  {
   "cell_type": "code",
   "execution_count": 105,
   "id": "2dd61b79",
   "metadata": {},
   "outputs": [
    {
     "data": {
      "text/plain": [
       "<AxesSubplot:>"
      ]
     },
     "execution_count": 105,
     "metadata": {},
     "output_type": "execute_result"
    },
    {
     "data": {
      "image/png": "[encoded data removed]",
      "text/plain": [
       "<Figure size 432x288 with 1 Axes>"
      ]
     },
     "metadata": {
      "needs_background": "light"
     },
     "output_type": "display_data"
    }
   ],
   "source": [
    "df[\"Viscera weight\"].plot.box()"
   ]
  },
  {
   "cell_type": "code",
   "execution_count": 106,
   "id": "520333fc",
   "metadata": {},
   "outputs": [
    {
     "data": {
      "text/plain": [
       "<AxesSubplot:>"
      ]
     },
     "execution_count": 106,
     "metadata": {},
     "output_type": "execute_result"
    },
    {
     "data": {
      "image/png": "[encoded data removed]",
      "text/plain": [
       "<Figure size 432x288 with 1 Axes>"
      ]
     },
     "metadata": {
      "needs_background": "light"
     },
     "output_type": "display_data"
    }
   ],
   "source": [
    "df[\"Shell weight\"].plot.box()"
   ]
  },
  {
   "cell_type": "code",
   "execution_count": 107,
   "id": "f6ee0180",
   "metadata": {},
   "outputs": [],
   "source": [
    "from scipy.stats import zscore\n",
    "z=np.abs(zscore(df))"
   ]
  },
  {
   "cell_type": "code",
   "execution_count": 108,
   "id": "fd444df8",
   "metadata": {},
   "outputs": [
    {
     "data": {
      "text/plain": [
       "(array([   6,   72,   81,   83,  129,  163,  164,  165,  165,  165,  166,\n",
       "         166,  167,  168,  170,  181,  232,  236,  236,  236,  237,  237,\n",
       "         238,  238,  239,  270,  275,  277,  278,  294,  310,  313,  314,\n",
       "         334,  351,  355,  358,  358,  362,  375,  416,  417,  428,  431,\n",
       "         433,  469,  478,  480,  501,  526,  526,  530,  572,  628,  673,\n",
       "         674,  675,  678,  694,  696,  696,  719,  719,  720,  720,  744,\n",
       "         754,  756,  811,  891,  891,  891, 1048, 1051, 1051, 1052, 1193,\n",
       "        1197, 1199, 1202, 1204, 1206, 1206, 1207, 1207, 1207, 1207, 1209,\n",
       "        1209, 1257, 1417, 1417, 1418, 1422, 1426, 1427, 1427, 1427, 1428,\n",
       "        1429, 1429, 1528, 1754, 1756, 1757, 1759, 1761, 1762, 1762, 1762,\n",
       "        1763, 1763, 1763, 1821, 1982, 1986, 1987, 1987, 2051, 2090, 2108,\n",
       "        2108, 2114, 2114, 2157, 2161, 2176, 2180, 2199, 2201, 2208, 2209,\n",
       "        2274, 2275, 2305, 2334, 2334, 2334, 2335, 2344, 2358, 2368, 2381,\n",
       "        2436, 2459, 2471, 2544, 2623, 2624, 2624, 2624, 2625, 2709, 2710,\n",
       "        2710, 2810, 2810, 2811, 2811, 2811, 2862, 2863, 2863, 2863, 3007,\n",
       "        3008, 3140, 3148, 3149, 3149, 3151, 3151, 3188, 3193, 3280, 3359,\n",
       "        3427, 3427, 3427, 3599, 3599, 3628, 3713, 3715, 3715, 3715, 3715,\n",
       "        3800, 3837, 3899, 3899, 3902, 3924, 3930, 3944, 3961, 3962, 3996,\n",
       "        4145, 4148], dtype=int64),\n",
       " array([8, 8, 7, 8, 7, 7, 7, 4, 5, 7, 7, 8, 8, 7, 6, 8, 8, 1, 2, 3, 1, 2,\n",
       "        1, 2, 1, 8, 8, 7, 8, 8, 8, 8, 8, 7, 8, 8, 4, 7, 8, 8, 8, 8, 8, 8,\n",
       "        8, 8, 8, 8, 8, 1, 2, 8, 8, 8, 8, 8, 8, 8, 2, 1, 2, 1, 2, 1, 2, 8,\n",
       "        8, 8, 8, 4, 5, 7, 6, 4, 5, 4, 5, 5, 5, 5, 6, 5, 6, 4, 5, 6, 7, 4,\n",
       "        5, 3, 3, 5, 5, 6, 5, 4, 5, 6, 7, 1, 2, 5, 5, 5, 6, 6, 5, 4, 5, 6,\n",
       "        4, 5, 6, 5, 5, 1, 1, 2, 3, 7, 7, 8, 1, 2, 7, 7, 8, 8, 8, 8, 7, 8,\n",
       "        7, 8, 8, 4, 6, 8, 8, 8, 8, 7, 1, 8, 8, 8, 5, 4, 4, 5, 6, 5, 6, 5,\n",
       "        6, 5, 6, 4, 5, 6, 5, 4, 5, 6, 5, 7, 8, 7, 7, 8, 7, 8, 7, 8, 8, 8,\n",
       "        4, 5, 6, 4, 5, 6, 5, 4, 5, 6, 7, 4, 2, 1, 2, 1, 8, 8, 8, 5, 5, 3,\n",
       "        7, 6], dtype=int64))"
      ]
     },
     "execution_count": 108,
     "metadata": {},
     "output_type": "execute_result"
    }
   ],
   "source": [
    "np.where(z>3)"
   ]
  },
  {
   "cell_type": "code",
   "execution_count": 109,
   "id": "20e85c87",
   "metadata": {},
   "outputs": [],
   "source": [
    "dfn=df[(z<3).all(axis=1)]"
   ]
  },
  {
   "cell_type": "code",
   "execution_count": 110,
   "id": "9b1f3459",
   "metadata": {},
   "outputs": [
    {
     "data": {
      "text/plain": [
       "(4027, 9)"
      ]
     },
     "execution_count": 110,
     "metadata": {},
     "output_type": "execute_result"
    }
   ],
   "source": [
    "dfn.shape"
   ]
  },
  {
   "cell_type": "code",
   "execution_count": null,
   "id": "aceac666",
   "metadata": {},
   "outputs": [],
   "source": [
    "percentage loss of data=(4177-4027)/4177*100=3.5% it is acceptable"
   ]
  },
  {
   "cell_type": "markdown",
   "id": "29326de6",
   "metadata": {},
   "source": [
    "# descriptive staistics"
   ]
  },
  {
   "cell_type": "code",
   "execution_count": 261,
   "id": "27b070a1",
   "metadata": {},
   "outputs": [
    {
     "data": {
      "text/html": [
       "<div>\n",
       "<style scoped>\n",
       "    .dataframe tbody tr th:only-of-type {\n",
       "        vertical-align: middle;\n",
       "    }\n",
       "\n",
       "    .dataframe tbody tr th {\n",
       "        vertical-align: top;\n",
       "    }\n",
       "\n",
       "    .dataframe thead th {\n",
       "        text-align: right;\n",
       "    }\n",
       "</style>\n",
       "<table border=\"1\" class=\"dataframe\">\n",
       "  <thead>\n",
       "    <tr style=\"text-align: right;\">\n",
       "      <th></th>\n",
       "      <th>Sex</th>\n",
       "      <th>Length</th>\n",
       "      <th>Diameter</th>\n",
       "      <th>Height</th>\n",
       "      <th>Whole weight</th>\n",
       "      <th>Shucked weight</th>\n",
       "      <th>Viscera weight</th>\n",
       "      <th>Shell weight</th>\n",
       "      <th>Rings</th>\n",
       "    </tr>\n",
       "  </thead>\n",
       "  <tbody>\n",
       "    <tr>\n",
       "      <th>count</th>\n",
       "      <td>4177.000000</td>\n",
       "      <td>4177.000000</td>\n",
       "      <td>4177.000000</td>\n",
       "      <td>4177.000000</td>\n",
       "      <td>4177.000000</td>\n",
       "      <td>4177.000000</td>\n",
       "      <td>4177.000000</td>\n",
       "      <td>4177.000000</td>\n",
       "      <td>4177.000000</td>\n",
       "    </tr>\n",
       "    <tr>\n",
       "      <th>mean</th>\n",
       "      <td>1.052909</td>\n",
       "      <td>0.523992</td>\n",
       "      <td>0.407881</td>\n",
       "      <td>0.139516</td>\n",
       "      <td>0.828742</td>\n",
       "      <td>0.359367</td>\n",
       "      <td>0.180594</td>\n",
       "      <td>0.238831</td>\n",
       "      <td>9.933684</td>\n",
       "    </tr>\n",
       "    <tr>\n",
       "      <th>std</th>\n",
       "      <td>0.822240</td>\n",
       "      <td>0.120093</td>\n",
       "      <td>0.099240</td>\n",
       "      <td>0.041827</td>\n",
       "      <td>0.490389</td>\n",
       "      <td>0.221963</td>\n",
       "      <td>0.109614</td>\n",
       "      <td>0.139203</td>\n",
       "      <td>3.224169</td>\n",
       "    </tr>\n",
       "    <tr>\n",
       "      <th>min</th>\n",
       "      <td>0.000000</td>\n",
       "      <td>0.075000</td>\n",
       "      <td>0.055000</td>\n",
       "      <td>0.000000</td>\n",
       "      <td>0.002000</td>\n",
       "      <td>0.001000</td>\n",
       "      <td>0.000500</td>\n",
       "      <td>0.001500</td>\n",
       "      <td>1.000000</td>\n",
       "    </tr>\n",
       "    <tr>\n",
       "      <th>25%</th>\n",
       "      <td>0.000000</td>\n",
       "      <td>0.450000</td>\n",
       "      <td>0.350000</td>\n",
       "      <td>0.115000</td>\n",
       "      <td>0.441500</td>\n",
       "      <td>0.186000</td>\n",
       "      <td>0.093500</td>\n",
       "      <td>0.130000</td>\n",
       "      <td>8.000000</td>\n",
       "    </tr>\n",
       "    <tr>\n",
       "      <th>50%</th>\n",
       "      <td>1.000000</td>\n",
       "      <td>0.545000</td>\n",
       "      <td>0.425000</td>\n",
       "      <td>0.140000</td>\n",
       "      <td>0.799500</td>\n",
       "      <td>0.336000</td>\n",
       "      <td>0.171000</td>\n",
       "      <td>0.234000</td>\n",
       "      <td>9.000000</td>\n",
       "    </tr>\n",
       "    <tr>\n",
       "      <th>75%</th>\n",
       "      <td>2.000000</td>\n",
       "      <td>0.615000</td>\n",
       "      <td>0.480000</td>\n",
       "      <td>0.165000</td>\n",
       "      <td>1.153000</td>\n",
       "      <td>0.502000</td>\n",
       "      <td>0.253000</td>\n",
       "      <td>0.329000</td>\n",
       "      <td>11.000000</td>\n",
       "    </tr>\n",
       "    <tr>\n",
       "      <th>max</th>\n",
       "      <td>2.000000</td>\n",
       "      <td>0.815000</td>\n",
       "      <td>0.650000</td>\n",
       "      <td>1.130000</td>\n",
       "      <td>2.825500</td>\n",
       "      <td>1.488000</td>\n",
       "      <td>0.760000</td>\n",
       "      <td>1.005000</td>\n",
       "      <td>29.000000</td>\n",
       "    </tr>\n",
       "  </tbody>\n",
       "</table>\n",
       "</div>"
      ],
      "text/plain": [
       "               Sex       Length     Diameter       Height  Whole weight  \\\n",
       "count  4177.000000  4177.000000  4177.000000  4177.000000   4177.000000   \n",
       "mean      1.052909     0.523992     0.407881     0.139516      0.828742   \n",
       "std       0.822240     0.120093     0.099240     0.041827      0.490389   \n",
       "min       0.000000     0.075000     0.055000     0.000000      0.002000   \n",
       "25%       0.000000     0.450000     0.350000     0.115000      0.441500   \n",
       "50%       1.000000     0.545000     0.425000     0.140000      0.799500   \n",
       "75%       2.000000     0.615000     0.480000     0.165000      1.153000   \n",
       "max       2.000000     0.815000     0.650000     1.130000      2.825500   \n",
       "\n",
       "       Shucked weight  Viscera weight  Shell weight        Rings  \n",
       "count     4177.000000     4177.000000   4177.000000  4177.000000  \n",
       "mean         0.359367        0.180594      0.238831     9.933684  \n",
       "std          0.221963        0.109614      0.139203     3.224169  \n",
       "min          0.001000        0.000500      0.001500     1.000000  \n",
       "25%          0.186000        0.093500      0.130000     8.000000  \n",
       "50%          0.336000        0.171000      0.234000     9.000000  \n",
       "75%          0.502000        0.253000      0.329000    11.000000  \n",
       "max          1.488000        0.760000      1.005000    29.000000  "
      ]
     },
     "execution_count": 261,
     "metadata": {},
     "output_type": "execute_result"
    }
   ],
   "source": [
    "df.describe()"
   ]
  },
  {
   "cell_type": "markdown",
   "id": "24abff5c",
   "metadata": {},
   "source": [
    "checking correlation between of the dependent or the target variable with the independent features"
   ]
  },
  {
   "cell_type": "code",
   "execution_count": 112,
   "id": "f061260f",
   "metadata": {},
   "outputs": [
    {
     "data": {
      "text/plain": [
       "Sex              -0.034627\n",
       "Shucked weight    0.420884\n",
       "Viscera weight    0.503819\n",
       "Whole weight      0.540390\n",
       "Length            0.556720\n",
       "Height            0.557467\n",
       "Diameter          0.574660\n",
       "Shell weight      0.627574\n",
       "Rings             1.000000\n",
       "Name: Rings, dtype: float64"
      ]
     },
     "execution_count": 112,
     "metadata": {},
     "output_type": "execute_result"
    }
   ],
   "source": [
    "df.corr()['Rings'].sort_values()"
   ]
  },
  {
   "cell_type": "code",
   "execution_count": 113,
   "id": "fe070f24",
   "metadata": {},
   "outputs": [
    {
     "data": {
      "image/png": "[encoded data removed]",
      "text/plain": [
       "<Figure size 1008x576 with 2 Axes>"
      ]
     },
     "metadata": {
      "needs_background": "light"
     },
     "output_type": "display_data"
    }
   ],
   "source": [
    "plt.figure(figsize=(14,8))\n",
    "sns.heatmap(df.corr(),annot=True,linewidth=0.2,fmt=\"0.2f\")\n",
    "plt.show()"
   ]
  },
  {
   "cell_type": "markdown",
   "id": "9f18ddc5",
   "metadata": {},
   "source": [
    "observation from the heatmap:\n",
    "    sex is 3% negatively correlated with rings\n",
    "    length is 56% positively correlated with rings\n",
    "    diameter is 57% positively correlated with rings\n",
    "    height is 56% positively correlated with rings\n",
    "    whole weight is 54% positively correlated with rings\n",
    "    shucked weight is 42% positively correlated with rings\n",
    "    viscera weight is 50% positively correlated with rings\n",
    "    shell weight is 63% positively correlated with rings"
   ]
  },
  {
   "cell_type": "markdown",
   "id": "bc8266c3",
   "metadata": {},
   "source": [
    "we will be checking for multicollinearity using variance inflation factor"
   ]
  },
  {
   "cell_type": "code",
   "execution_count": 70,
   "id": "fd71ee2d",
   "metadata": {},
   "outputs": [],
   "source": [
    "from scipy import stats\n",
    "import statsmodels.api as sm\n",
    "from statsmodels.stats.outliers_influence import variance_inflation_factor\n"
   ]
  },
  {
   "cell_type": "code",
   "execution_count": 114,
   "id": "7403d9b2",
   "metadata": {},
   "outputs": [],
   "source": [
    "def calc_vif(x1):\n",
    "    vif=pd.DataFrame()\n",
    "    vif[\"Variables\"]=x1.columns\n",
    "    vif[\"VIF factor\"]=[variance_inflation_factor(x1.values,i) for i in range(x1.shape[1])]\n",
    "    return (vif)"
   ]
  },
  {
   "cell_type": "code",
   "execution_count": 262,
   "id": "f965fde0",
   "metadata": {},
   "outputs": [],
   "source": [
    "x=dfn.iloc[:,0:-1]\n",
    "y=dfn.iloc[:,-1]"
   ]
  },
  {
   "cell_type": "code",
   "execution_count": 263,
   "id": "198b77ab",
   "metadata": {},
   "outputs": [
    {
     "data": {
      "text/html": [
       "<div>\n",
       "<style scoped>\n",
       "    .dataframe tbody tr th:only-of-type {\n",
       "        vertical-align: middle;\n",
       "    }\n",
       "\n",
       "    .dataframe tbody tr th {\n",
       "        vertical-align: top;\n",
       "    }\n",
       "\n",
       "    .dataframe thead th {\n",
       "        text-align: right;\n",
       "    }\n",
       "</style>\n",
       "<table border=\"1\" class=\"dataframe\">\n",
       "  <thead>\n",
       "    <tr style=\"text-align: right;\">\n",
       "      <th></th>\n",
       "      <th>Variables</th>\n",
       "      <th>VIF factor</th>\n",
       "    </tr>\n",
       "  </thead>\n",
       "  <tbody>\n",
       "    <tr>\n",
       "      <th>0</th>\n",
       "      <td>Sex</td>\n",
       "      <td>2.586539</td>\n",
       "    </tr>\n",
       "    <tr>\n",
       "      <th>1</th>\n",
       "      <td>Length</td>\n",
       "      <td>711.017756</td>\n",
       "    </tr>\n",
       "    <tr>\n",
       "      <th>2</th>\n",
       "      <td>Diameter</td>\n",
       "      <td>762.862946</td>\n",
       "    </tr>\n",
       "    <tr>\n",
       "      <th>3</th>\n",
       "      <td>Height</td>\n",
       "      <td>92.050181</td>\n",
       "    </tr>\n",
       "    <tr>\n",
       "      <th>4</th>\n",
       "      <td>Whole weight</td>\n",
       "      <td>441.600560</td>\n",
       "    </tr>\n",
       "    <tr>\n",
       "      <th>5</th>\n",
       "      <td>Shucked weight</td>\n",
       "      <td>108.511496</td>\n",
       "    </tr>\n",
       "    <tr>\n",
       "      <th>6</th>\n",
       "      <td>Viscera weight</td>\n",
       "      <td>65.669278</td>\n",
       "    </tr>\n",
       "    <tr>\n",
       "      <th>7</th>\n",
       "      <td>Shell weight</td>\n",
       "      <td>94.849108</td>\n",
       "    </tr>\n",
       "  </tbody>\n",
       "</table>\n",
       "</div>"
      ],
      "text/plain": [
       "        Variables  VIF factor\n",
       "0             Sex    2.586539\n",
       "1          Length  711.017756\n",
       "2        Diameter  762.862946\n",
       "3          Height   92.050181\n",
       "4    Whole weight  441.600560\n",
       "5  Shucked weight  108.511496\n",
       "6  Viscera weight   65.669278\n",
       "7    Shell weight   94.849108"
      ]
     },
     "execution_count": 263,
     "metadata": {},
     "output_type": "execute_result"
    }
   ],
   "source": [
    "calc_vif(x)"
   ]
  },
  {
   "cell_type": "code",
   "execution_count": 264,
   "id": "1388e048",
   "metadata": {},
   "outputs": [
    {
     "data": {
      "image/png": "[encoded data removed]",
      "text/plain": [
       "<Figure size 1008x576 with 2 Axes>"
      ]
     },
     "metadata": {
      "needs_background": "light"
     },
     "output_type": "display_data"
    }
   ],
   "source": [
    "plt.figure(figsize=(14,8))\n",
    "sns.heatmap(dfn.corr(),annot=True,linewidth=0.2,fmt=\"0.2f\")\n",
    "plt.show()"
   ]
  },
  {
   "cell_type": "markdown",
   "id": "1d5319cd",
   "metadata": {},
   "source": [
    "since length and diameter are highly correlated we will drop length because diameter has high correlation with the output. moreover, we can see that collinearity is also present between whole weight and shucked weight, we will drop shucked weight because whole weight has high correlation with the output."
   ]
  },
  {
   "cell_type": "code",
   "execution_count": 265,
   "id": "7ccda149",
   "metadata": {},
   "outputs": [],
   "source": [
    "x=dfn.drop([\"Length\",\"Shucked weight\",\"Rings\"],axis=1)"
   ]
  },
  {
   "cell_type": "code",
   "execution_count": 266,
   "id": "923d7c27",
   "metadata": {},
   "outputs": [
    {
     "data": {
      "text/html": [
       "<div>\n",
       "<style scoped>\n",
       "    .dataframe tbody tr th:only-of-type {\n",
       "        vertical-align: middle;\n",
       "    }\n",
       "\n",
       "    .dataframe tbody tr th {\n",
       "        vertical-align: top;\n",
       "    }\n",
       "\n",
       "    .dataframe thead th {\n",
       "        text-align: right;\n",
       "    }\n",
       "</style>\n",
       "<table border=\"1\" class=\"dataframe\">\n",
       "  <thead>\n",
       "    <tr style=\"text-align: right;\">\n",
       "      <th></th>\n",
       "      <th>Variables</th>\n",
       "      <th>VIF factor</th>\n",
       "    </tr>\n",
       "  </thead>\n",
       "  <tbody>\n",
       "    <tr>\n",
       "      <th>0</th>\n",
       "      <td>Sex</td>\n",
       "      <td>2.566983</td>\n",
       "    </tr>\n",
       "    <tr>\n",
       "      <th>1</th>\n",
       "      <td>Diameter</td>\n",
       "      <td>85.744656</td>\n",
       "    </tr>\n",
       "    <tr>\n",
       "      <th>2</th>\n",
       "      <td>Height</td>\n",
       "      <td>89.121231</td>\n",
       "    </tr>\n",
       "    <tr>\n",
       "      <th>3</th>\n",
       "      <td>Whole weight</td>\n",
       "      <td>132.613319</td>\n",
       "    </tr>\n",
       "    <tr>\n",
       "      <th>4</th>\n",
       "      <td>Viscera weight</td>\n",
       "      <td>61.181551</td>\n",
       "    </tr>\n",
       "    <tr>\n",
       "      <th>5</th>\n",
       "      <td>Shell weight</td>\n",
       "      <td>62.092580</td>\n",
       "    </tr>\n",
       "  </tbody>\n",
       "</table>\n",
       "</div>"
      ],
      "text/plain": [
       "        Variables  VIF factor\n",
       "0             Sex    2.566983\n",
       "1        Diameter   85.744656\n",
       "2          Height   89.121231\n",
       "3    Whole weight  132.613319\n",
       "4  Viscera weight   61.181551\n",
       "5    Shell weight   62.092580"
      ]
     },
     "execution_count": 266,
     "metadata": {},
     "output_type": "execute_result"
    }
   ],
   "source": [
    "calc_vif(x)"
   ]
  },
  {
   "cell_type": "markdown",
   "id": "b8d1b461",
   "metadata": {},
   "source": [
    "we will consider these columns, because dropping more columns will affect the model"
   ]
  },
  {
   "cell_type": "code",
   "execution_count": null,
   "id": "960649d8",
   "metadata": {},
   "outputs": [],
   "source": [
    "skewness removal \n",
    "scaling\n",
    "smote"
   ]
  },
  {
   "cell_type": "markdown",
   "id": "4f738f23",
   "metadata": {},
   "source": [
    "# skewness of data"
   ]
  },
  {
   "cell_type": "code",
   "execution_count": 267,
   "id": "7d9c8b4f",
   "metadata": {},
   "outputs": [
    {
     "data": {
      "text/plain": [
       "<AxesSubplot:xlabel='Sex', ylabel='Density'>"
      ]
     },
     "execution_count": 267,
     "metadata": {},
     "output_type": "execute_result"
    },
    {
     "data": {
      "image/png": "[encoded data removed]",
      "text/plain": [
       "<Figure size 432x288 with 1 Axes>"
      ]
     },
     "metadata": {
      "needs_background": "light"
     },
     "output_type": "display_data"
    }
   ],
   "source": [
    "sns.distplot(dfn[\"Sex\"])"
   ]
  },
  {
   "cell_type": "code",
   "execution_count": 268,
   "id": "fe8c1577",
   "metadata": {},
   "outputs": [
    {
     "data": {
      "text/plain": [
       "<AxesSubplot:xlabel='Diameter', ylabel='Density'>"
      ]
     },
     "execution_count": 268,
     "metadata": {},
     "output_type": "execute_result"
    },
    {
     "data": {
      "image/png": "[encoded data removed]",
      "text/plain": [
       "<Figure size 432x288 with 1 Axes>"
      ]
     },
     "metadata": {
      "needs_background": "light"
     },
     "output_type": "display_data"
    }
   ],
   "source": [
    "sns.distplot(dfn[\"Diameter\"])"
   ]
  },
  {
   "cell_type": "markdown",
   "id": "465fbc5e",
   "metadata": {},
   "source": [
    "observtaion: it can be observed the graph or the distribution is left skewed"
   ]
  },
  {
   "cell_type": "code",
   "execution_count": 269,
   "id": "bcd3ebe2",
   "metadata": {},
   "outputs": [
    {
     "data": {
      "text/plain": [
       "<AxesSubplot:xlabel='Height', ylabel='Density'>"
      ]
     },
     "execution_count": 269,
     "metadata": {},
     "output_type": "execute_result"
    },
    {
     "data": {
      "image/png": "[encoded data removed]",
      "text/plain": [
       "<Figure size 432x288 with 1 Axes>"
      ]
     },
     "metadata": {
      "needs_background": "light"
     },
     "output_type": "display_data"
    }
   ],
   "source": [
    "sns.distplot(dfn[\"Height\"])"
   ]
  },
  {
   "cell_type": "markdown",
   "id": "3bf3d378",
   "metadata": {},
   "source": [
    "observtaion: it can be observed the graph or the distribution is right skewed"
   ]
  },
  {
   "cell_type": "code",
   "execution_count": 270,
   "id": "e6397388",
   "metadata": {},
   "outputs": [
    {
     "data": {
      "text/plain": [
       "<AxesSubplot:xlabel='Whole weight', ylabel='Density'>"
      ]
     },
     "execution_count": 270,
     "metadata": {},
     "output_type": "execute_result"
    },
    {
     "data": {
      "image/png": "[encoded data removed]",
      "text/plain": [
       "<Figure size 432x288 with 1 Axes>"
      ]
     },
     "metadata": {
      "needs_background": "light"
     },
     "output_type": "display_data"
    }
   ],
   "source": [
    "sns.distplot(dfn[\"Whole weight\"])"
   ]
  },
  {
   "cell_type": "markdown",
   "id": "f0ae614c",
   "metadata": {},
   "source": [
    "observtaion: it can be observed the data points are normally distributed"
   ]
  },
  {
   "cell_type": "code",
   "execution_count": 271,
   "id": "253d2be6",
   "metadata": {},
   "outputs": [
    {
     "data": {
      "text/plain": [
       "<AxesSubplot:xlabel='Viscera weight', ylabel='Density'>"
      ]
     },
     "execution_count": 271,
     "metadata": {},
     "output_type": "execute_result"
    },
    {
     "data": {
      "image/png": "[encoded data removed]",
      "text/plain": [
       "<Figure size 432x288 with 1 Axes>"
      ]
     },
     "metadata": {
      "needs_background": "light"
     },
     "output_type": "display_data"
    }
   ],
   "source": [
    "sns.distplot(dfn[\"Viscera weight\"])"
   ]
  },
  {
   "cell_type": "markdown",
   "id": "7e206b11",
   "metadata": {},
   "source": [
    "observtaion: it can be observed the graph or the distribution is right skewed"
   ]
  },
  {
   "cell_type": "code",
   "execution_count": 272,
   "id": "4b521645",
   "metadata": {},
   "outputs": [
    {
     "data": {
      "text/plain": [
       "<AxesSubplot:xlabel='Shell weight', ylabel='Density'>"
      ]
     },
     "execution_count": 272,
     "metadata": {},
     "output_type": "execute_result"
    },
    {
     "data": {
      "image/png": "[encoded data removed]",
      "text/plain": [
       "<Figure size 432x288 with 1 Axes>"
      ]
     },
     "metadata": {
      "needs_background": "light"
     },
     "output_type": "display_data"
    }
   ],
   "source": [
    "sns.distplot(dfn[\"Shell weight\"])"
   ]
  },
  {
   "cell_type": "markdown",
   "id": "248ef6df",
   "metadata": {},
   "source": [
    "observtaion: it can be observed the graph or the distribution is right skewed"
   ]
  },
  {
   "cell_type": "code",
   "execution_count": 275,
   "id": "c20f0fd5",
   "metadata": {},
   "outputs": [
    {
     "data": {
      "text/plain": [
       "Diameter         -0.598650\n",
       "Height           -0.244251\n",
       "Sex              -0.094886\n",
       "Whole weight      0.334204\n",
       "Shell weight      0.349471\n",
       "Viscera weight    0.437116\n",
       "dtype: float64"
      ]
     },
     "execution_count": 275,
     "metadata": {},
     "output_type": "execute_result"
    }
   ],
   "source": [
    "x.skew().sort_values()"
   ]
  },
  {
   "cell_type": "markdown",
   "id": "d946fed9",
   "metadata": {},
   "source": [
    "analysis: the skewness of the entire dataset need not be removed since it is in the range between+/-0.5"
   ]
  },
  {
   "cell_type": "markdown",
   "id": "8d3abbe0",
   "metadata": {},
   "source": [
    "# Scaling of data"
   ]
  },
  {
   "cell_type": "code",
   "execution_count": 332,
   "id": "50c026e6",
   "metadata": {},
   "outputs": [],
   "source": [
    "from sklearn.preprocessing import StandardScaler\n",
    "sc=StandardScaler()"
   ]
  },
  {
   "cell_type": "code",
   "execution_count": 333,
   "id": "9c668edd",
   "metadata": {},
   "outputs": [],
   "source": [
    "dfx=sc.fit_transform(x)"
   ]
  },
  {
   "cell_type": "code",
   "execution_count": 334,
   "id": "bb37a267",
   "metadata": {},
   "outputs": [
    {
     "data": {
      "text/plain": [
       "1.5880021410084185e-17"
      ]
     },
     "execution_count": 334,
     "metadata": {},
     "output_type": "execute_result"
    }
   ],
   "source": [
    "dfx.mean()"
   ]
  },
  {
   "cell_type": "code",
   "execution_count": 335,
   "id": "412f9464",
   "metadata": {},
   "outputs": [
    {
     "data": {
      "text/plain": [
       "(4027, 6)"
      ]
     },
     "execution_count": 335,
     "metadata": {},
     "output_type": "execute_result"
    }
   ],
   "source": [
    "x.shape"
   ]
  },
  {
   "cell_type": "markdown",
   "id": "804b90bb",
   "metadata": {},
   "source": [
    "# splitting of data"
   ]
  },
  {
   "cell_type": "code",
   "execution_count": 323,
   "id": "6c329ef2",
   "metadata": {},
   "outputs": [],
   "source": [
    "from sklearn.model_selection import train_test_split\n",
    "from sklearn.metrics import mean_squared_error,mean_absolute_error,r2_score\n"
   ]
  },
  {
   "cell_type": "code",
   "execution_count": 352,
   "id": "795204ab",
   "metadata": {},
   "outputs": [],
   "source": [
    "def model_selection(instance):\n",
    "    for i in range(0,100):\n",
    "        x_train,x_test,y_train,y_test=train_test_split(dfx,y,random_state=i,test_size=0.20)\n",
    "        instance.fit(x_train,y_train)\n",
    "        pred_train=instance.predict(x_train)\n",
    "        pred_test=instance.predict(x_test)\n",
    "        print(f\"at random state {i}, training accuracy is {r2_score(y_train,pred_train)}\")\n",
    "        print(f\"at random state {i}, testing accuracy is {r2_score(y_test,pred_test)}\")\n",
    "        print(\"\\n\")"
   ]
  },
  {
   "cell_type": "code",
   "execution_count": 325,
   "id": "0f86cc8b",
   "metadata": {},
   "outputs": [
    {
     "name": "stdout",
     "output_type": "stream",
     "text": [
      "(3221, 6)\n",
      "(806, 6)\n",
      "(3221,)\n",
      "(806,)\n"
     ]
    }
   ],
   "source": [
    "print(x_train.shape)\n",
    "print(x_test.shape)\n",
    "print(y_train.shape)\n",
    "print(y_test.shape)"
   ]
  },
  {
   "cell_type": "markdown",
   "id": "81e17b27",
   "metadata": {},
   "source": [
    "## Decision tree regressor"
   ]
  },
  {
   "cell_type": "code",
   "execution_count": 326,
   "id": "024d4f7a",
   "metadata": {},
   "outputs": [
    {
     "name": "stdout",
     "output_type": "stream",
     "text": [
      "at random state 0, training accuracy is 1.0\n",
      "at random state 0, testing accuracy is 0.013295106596149076\n",
      "\n",
      "\n",
      "at random state 1, training accuracy is 1.0\n",
      "at random state 1, testing accuracy is -0.07938934215545479\n",
      "\n",
      "\n",
      "at random state 2, training accuracy is 1.0\n",
      "at random state 2, testing accuracy is 0.07990867579908667\n",
      "\n",
      "\n",
      "at random state 3, training accuracy is 1.0\n",
      "at random state 3, testing accuracy is -0.03557077395639263\n",
      "\n",
      "\n",
      "at random state 4, training accuracy is 1.0\n",
      "at random state 4, testing accuracy is 0.10948112890367023\n",
      "\n",
      "\n",
      "at random state 5, training accuracy is 1.0\n",
      "at random state 5, testing accuracy is 0.028037012025299513\n",
      "\n",
      "\n",
      "at random state 6, training accuracy is 1.0\n",
      "at random state 6, testing accuracy is 0.07588616647145241\n",
      "\n",
      "\n",
      "at random state 7, training accuracy is 1.0\n",
      "at random state 7, testing accuracy is -0.05615216830537939\n",
      "\n",
      "\n",
      "at random state 8, training accuracy is 1.0\n",
      "at random state 8, testing accuracy is 0.0727353493783196\n",
      "\n",
      "\n",
      "at random state 9, training accuracy is 1.0\n",
      "at random state 9, testing accuracy is 0.06485096411771718\n",
      "\n",
      "\n",
      "at random state 10, training accuracy is 1.0\n",
      "at random state 10, testing accuracy is 0.15381705506700316\n",
      "\n",
      "\n",
      "at random state 11, training accuracy is 1.0\n",
      "at random state 11, testing accuracy is -0.03251358531613113\n",
      "\n",
      "\n",
      "at random state 12, training accuracy is 1.0\n",
      "at random state 12, testing accuracy is 0.0025618498448048976\n",
      "\n",
      "\n",
      "at random state 13, training accuracy is 1.0\n",
      "at random state 13, testing accuracy is 0.050988675999050326\n",
      "\n",
      "\n",
      "at random state 14, training accuracy is 1.0\n",
      "at random state 14, testing accuracy is 0.0459912282616719\n",
      "\n",
      "\n",
      "at random state 15, training accuracy is 1.0\n",
      "at random state 15, testing accuracy is 0.019514995110561872\n",
      "\n",
      "\n",
      "at random state 16, training accuracy is 1.0\n",
      "at random state 16, testing accuracy is 0.011847691653518289\n",
      "\n",
      "\n",
      "at random state 17, training accuracy is 1.0\n",
      "at random state 17, testing accuracy is 0.027506844132816455\n",
      "\n",
      "\n",
      "at random state 18, training accuracy is 1.0\n",
      "at random state 18, testing accuracy is 0.09445413053635565\n",
      "\n",
      "\n",
      "at random state 19, training accuracy is 1.0\n",
      "at random state 19, testing accuracy is 0.004600366678044754\n",
      "\n",
      "\n",
      "at random state 20, training accuracy is 1.0\n",
      "at random state 20, testing accuracy is 0.08864846493712475\n",
      "\n",
      "\n",
      "at random state 21, training accuracy is 1.0\n",
      "at random state 21, testing accuracy is -0.058716176978760526\n",
      "\n",
      "\n",
      "at random state 22, training accuracy is 1.0\n",
      "at random state 22, testing accuracy is 0.08205997405435628\n",
      "\n",
      "\n",
      "at random state 23, training accuracy is 1.0\n",
      "at random state 23, testing accuracy is 0.13830599976406832\n",
      "\n",
      "\n",
      "at random state 24, training accuracy is 1.0\n",
      "at random state 24, testing accuracy is 0.044341472409137994\n",
      "\n",
      "\n",
      "at random state 25, training accuracy is 1.0\n",
      "at random state 25, testing accuracy is 0.11193716982056645\n",
      "\n",
      "\n",
      "at random state 26, training accuracy is 1.0\n",
      "at random state 26, testing accuracy is 0.09717785496912412\n",
      "\n",
      "\n",
      "at random state 27, training accuracy is 1.0\n",
      "at random state 27, testing accuracy is 0.04327297613230929\n",
      "\n",
      "\n",
      "at random state 28, training accuracy is 1.0\n",
      "at random state 28, testing accuracy is 0.08900811197962843\n",
      "\n",
      "\n",
      "at random state 29, training accuracy is 1.0\n",
      "at random state 29, testing accuracy is 0.0553043913049287\n",
      "\n",
      "\n",
      "at random state 30, training accuracy is 1.0\n",
      "at random state 30, testing accuracy is -0.13295480934293202\n",
      "\n",
      "\n",
      "at random state 31, training accuracy is 1.0\n",
      "at random state 31, testing accuracy is -0.1168735666566958\n",
      "\n",
      "\n",
      "at random state 32, training accuracy is 1.0\n",
      "at random state 32, testing accuracy is -0.08126290819838977\n",
      "\n",
      "\n",
      "at random state 33, training accuracy is 1.0\n",
      "at random state 33, testing accuracy is 0.16835272363318954\n",
      "\n",
      "\n",
      "at random state 34, training accuracy is 1.0\n",
      "at random state 34, testing accuracy is 0.0018406305408037449\n",
      "\n",
      "\n",
      "at random state 35, training accuracy is 1.0\n",
      "at random state 35, testing accuracy is 0.09077007433935269\n",
      "\n",
      "\n",
      "at random state 36, training accuracy is 1.0\n",
      "at random state 36, testing accuracy is 0.0426626702050622\n",
      "\n",
      "\n",
      "at random state 37, training accuracy is 1.0\n",
      "at random state 37, testing accuracy is 0.04462909666682713\n",
      "\n",
      "\n",
      "at random state 38, training accuracy is 1.0\n",
      "at random state 38, testing accuracy is 0.001174970754263649\n",
      "\n",
      "\n",
      "at random state 39, training accuracy is 1.0\n",
      "at random state 39, testing accuracy is 0.06473892927957714\n",
      "\n",
      "\n",
      "at random state 40, training accuracy is 1.0\n",
      "at random state 40, testing accuracy is -0.009400224064931129\n",
      "\n",
      "\n",
      "at random state 41, training accuracy is 1.0\n",
      "at random state 41, testing accuracy is 0.1389568990092963\n",
      "\n",
      "\n",
      "at random state 42, training accuracy is 1.0\n",
      "at random state 42, testing accuracy is 0.048487994877571494\n",
      "\n",
      "\n",
      "at random state 43, training accuracy is 1.0\n",
      "at random state 43, testing accuracy is 0.026804592175512232\n",
      "\n",
      "\n",
      "at random state 44, training accuracy is 1.0\n",
      "at random state 44, testing accuracy is -0.026462241307211753\n",
      "\n",
      "\n",
      "at random state 45, training accuracy is 1.0\n",
      "at random state 45, testing accuracy is 0.15072916433895844\n",
      "\n",
      "\n",
      "at random state 46, training accuracy is 1.0\n",
      "at random state 46, testing accuracy is -0.010362454083998163\n",
      "\n",
      "\n",
      "at random state 47, training accuracy is 1.0\n",
      "at random state 47, testing accuracy is 0.01745116877747188\n",
      "\n",
      "\n",
      "at random state 48, training accuracy is 1.0\n",
      "at random state 48, testing accuracy is -0.0007251907893035536\n",
      "\n",
      "\n",
      "at random state 49, training accuracy is 1.0\n",
      "at random state 49, testing accuracy is 0.0018974884977432938\n",
      "\n",
      "\n",
      "at random state 50, training accuracy is 1.0\n",
      "at random state 50, testing accuracy is -0.024335482536798736\n",
      "\n",
      "\n",
      "at random state 51, training accuracy is 1.0\n",
      "at random state 51, testing accuracy is 0.07206206248689573\n",
      "\n",
      "\n",
      "at random state 52, training accuracy is 1.0\n",
      "at random state 52, testing accuracy is -0.05298777732326143\n",
      "\n",
      "\n",
      "at random state 53, training accuracy is 1.0\n",
      "at random state 53, testing accuracy is -0.038472750323806926\n",
      "\n",
      "\n",
      "at random state 54, training accuracy is 1.0\n",
      "at random state 54, testing accuracy is 0.01692480622255199\n",
      "\n",
      "\n",
      "at random state 55, training accuracy is 1.0\n",
      "at random state 55, testing accuracy is 0.03102890294780858\n",
      "\n",
      "\n",
      "at random state 56, training accuracy is 1.0\n",
      "at random state 56, testing accuracy is -0.03197431289417296\n",
      "\n",
      "\n",
      "at random state 57, training accuracy is 1.0\n",
      "at random state 57, testing accuracy is -0.0452296645891519\n",
      "\n",
      "\n",
      "at random state 58, training accuracy is 1.0\n",
      "at random state 58, testing accuracy is 0.13680424155259663\n",
      "\n",
      "\n",
      "at random state 59, training accuracy is 1.0\n",
      "at random state 59, testing accuracy is 0.026306429531491315\n",
      "\n",
      "\n",
      "at random state 60, training accuracy is 1.0\n",
      "at random state 60, testing accuracy is 0.0154489826743196\n",
      "\n",
      "\n",
      "at random state 61, training accuracy is 1.0\n",
      "at random state 61, testing accuracy is 0.08858118253960023\n",
      "\n",
      "\n",
      "at random state 62, training accuracy is 1.0\n",
      "at random state 62, testing accuracy is 0.0685188346652682\n",
      "\n",
      "\n",
      "at random state 63, training accuracy is 1.0\n",
      "at random state 63, testing accuracy is -0.04920654568573202\n",
      "\n",
      "\n",
      "at random state 64, training accuracy is 1.0\n",
      "at random state 64, testing accuracy is 0.058193296276083495\n",
      "\n",
      "\n",
      "at random state 65, training accuracy is 1.0\n",
      "at random state 65, testing accuracy is 0.12319868464302397\n",
      "\n",
      "\n",
      "at random state 66, training accuracy is 1.0\n",
      "at random state 66, testing accuracy is 0.06718319389094884\n",
      "\n",
      "\n",
      "at random state 67, training accuracy is 1.0\n",
      "at random state 67, testing accuracy is -0.0762024189190218\n",
      "\n",
      "\n",
      "at random state 68, training accuracy is 1.0\n",
      "at random state 68, testing accuracy is 0.047883055537699115\n",
      "\n",
      "\n",
      "at random state 69, training accuracy is 1.0\n",
      "at random state 69, testing accuracy is 0.1479647907225019\n",
      "\n",
      "\n",
      "at random state 70, training accuracy is 1.0\n",
      "at random state 70, testing accuracy is 0.01567583420594354\n",
      "\n",
      "\n",
      "at random state 71, training accuracy is 1.0\n",
      "at random state 71, testing accuracy is 0.00829126010615544\n",
      "\n",
      "\n",
      "at random state 72, training accuracy is 1.0\n",
      "at random state 72, testing accuracy is 0.1056690419849543\n",
      "\n",
      "\n",
      "at random state 73, training accuracy is 1.0\n",
      "at random state 73, testing accuracy is 0.11643035428114978\n",
      "\n",
      "\n",
      "at random state 74, training accuracy is 1.0\n",
      "at random state 74, testing accuracy is 0.07596749130721447\n",
      "\n",
      "\n",
      "at random state 75, training accuracy is 1.0\n",
      "at random state 75, testing accuracy is -0.009767162839431576\n",
      "\n",
      "\n",
      "at random state 76, training accuracy is 1.0\n",
      "at random state 76, testing accuracy is -0.01809042820745166\n",
      "\n",
      "\n",
      "at random state 77, training accuracy is 1.0\n",
      "at random state 77, testing accuracy is 0.03807328866582638\n",
      "\n",
      "\n",
      "at random state 78, training accuracy is 1.0\n",
      "at random state 78, testing accuracy is 0.050463573002107576\n",
      "\n",
      "\n",
      "at random state 79, training accuracy is 1.0\n",
      "at random state 79, testing accuracy is 0.05625376430435647\n",
      "\n",
      "\n",
      "at random state 80, training accuracy is 1.0\n",
      "at random state 80, testing accuracy is 0.13815482585509742\n",
      "\n",
      "\n",
      "at random state 81, training accuracy is 1.0\n",
      "at random state 81, testing accuracy is 0.02897633111882092\n",
      "\n",
      "\n",
      "at random state 82, training accuracy is 1.0\n",
      "at random state 82, testing accuracy is 0.1437983847717218\n",
      "\n",
      "\n",
      "at random state 83, training accuracy is 1.0\n",
      "at random state 83, testing accuracy is 0.08803082655635242\n",
      "\n",
      "\n",
      "at random state 84, training accuracy is 1.0\n",
      "at random state 84, testing accuracy is 0.014754073394647405\n",
      "\n",
      "\n",
      "at random state 85, training accuracy is 1.0\n",
      "at random state 85, testing accuracy is -0.10216194920225852\n",
      "\n",
      "\n",
      "at random state 86, training accuracy is 1.0\n",
      "at random state 86, testing accuracy is -0.08467570835895932\n",
      "\n",
      "\n"
     ]
    },
    {
     "name": "stdout",
     "output_type": "stream",
     "text": [
      "at random state 87, training accuracy is 1.0\n",
      "at random state 87, testing accuracy is 0.0004938640107676751\n",
      "\n",
      "\n",
      "at random state 88, training accuracy is 1.0\n",
      "at random state 88, testing accuracy is 0.040425849002517555\n",
      "\n",
      "\n",
      "at random state 89, training accuracy is 1.0\n",
      "at random state 89, testing accuracy is -0.04351481878973007\n",
      "\n",
      "\n",
      "at random state 90, training accuracy is 1.0\n",
      "at random state 90, testing accuracy is -0.03894858582297922\n",
      "\n",
      "\n",
      "at random state 91, training accuracy is 1.0\n",
      "at random state 91, testing accuracy is -0.0283066682635833\n",
      "\n",
      "\n",
      "at random state 92, training accuracy is 1.0\n",
      "at random state 92, testing accuracy is 0.14063640842485092\n",
      "\n",
      "\n",
      "at random state 93, training accuracy is 1.0\n",
      "at random state 93, testing accuracy is 0.11896404217422729\n",
      "\n",
      "\n",
      "at random state 94, training accuracy is 1.0\n",
      "at random state 94, testing accuracy is 0.03869486873801353\n",
      "\n",
      "\n",
      "at random state 95, training accuracy is 1.0\n",
      "at random state 95, testing accuracy is 0.08373548556407873\n",
      "\n",
      "\n",
      "at random state 96, training accuracy is 1.0\n",
      "at random state 96, testing accuracy is 0.06597020970011602\n",
      "\n",
      "\n",
      "at random state 97, training accuracy is 1.0\n",
      "at random state 97, testing accuracy is 0.02562553384274424\n",
      "\n",
      "\n",
      "at random state 98, training accuracy is 1.0\n",
      "at random state 98, testing accuracy is 0.12614432457987712\n",
      "\n",
      "\n",
      "at random state 99, training accuracy is 1.0\n",
      "at random state 99, testing accuracy is -0.011822320578326773\n",
      "\n",
      "\n"
     ]
    }
   ],
   "source": [
    "from sklearn.tree import DecisionTreeRegressor\n",
    "dtc=DecisionTreeRegressor()\n",
    "model_selection(dtc)"
   ]
  },
  {
   "cell_type": "markdown",
   "id": "723b0db3",
   "metadata": {},
   "source": [
    "## KNeighbors Regressor"
   ]
  },
  {
   "cell_type": "code",
   "execution_count": 327,
   "id": "55ba4208",
   "metadata": {},
   "outputs": [
    {
     "name": "stdout",
     "output_type": "stream",
     "text": [
      "at random state 0, training accuracy is 0.6310474960196379\n",
      "at random state 0, testing accuracy is 0.4354878535383171\n",
      "\n",
      "\n",
      "at random state 1, training accuracy is 0.6337681017681367\n",
      "at random state 1, testing accuracy is 0.4146556634571805\n",
      "\n",
      "\n",
      "at random state 2, training accuracy is 0.6240666189658592\n",
      "at random state 2, testing accuracy is 0.4366315747599685\n",
      "\n",
      "\n",
      "at random state 3, training accuracy is 0.6353018923006397\n",
      "at random state 3, testing accuracy is 0.3930999546804975\n",
      "\n",
      "\n",
      "at random state 4, training accuracy is 0.6191229903630657\n",
      "at random state 4, testing accuracy is 0.47673791380813413\n",
      "\n",
      "\n",
      "at random state 5, training accuracy is 0.6294561660043709\n",
      "at random state 5, testing accuracy is 0.43611988908535504\n",
      "\n",
      "\n",
      "at random state 6, training accuracy is 0.6250625314770979\n",
      "at random state 6, testing accuracy is 0.46064020383652005\n",
      "\n",
      "\n",
      "at random state 7, training accuracy is 0.639002988567215\n",
      "at random state 7, testing accuracy is 0.39606550718666744\n",
      "\n",
      "\n",
      "at random state 8, training accuracy is 0.6314828151820522\n",
      "at random state 8, testing accuracy is 0.4609592844060295\n",
      "\n",
      "\n",
      "at random state 9, training accuracy is 0.6231843933336516\n",
      "at random state 9, testing accuracy is 0.47369885653536825\n",
      "\n",
      "\n",
      "at random state 10, training accuracy is 0.6150679353828816\n",
      "at random state 10, testing accuracy is 0.49895354513427115\n",
      "\n",
      "\n",
      "at random state 11, training accuracy is 0.6307250757461129\n",
      "at random state 11, testing accuracy is 0.4513414025309349\n",
      "\n",
      "\n",
      "at random state 12, training accuracy is 0.6283971024869611\n",
      "at random state 12, testing accuracy is 0.4856921224137559\n",
      "\n",
      "\n",
      "at random state 13, training accuracy is 0.6245112604342291\n",
      "at random state 13, testing accuracy is 0.4554367689755139\n",
      "\n",
      "\n",
      "at random state 14, training accuracy is 0.6290832327009863\n",
      "at random state 14, testing accuracy is 0.4449891002990791\n",
      "\n",
      "\n",
      "at random state 15, training accuracy is 0.6155218060596128\n",
      "at random state 15, testing accuracy is 0.4975775225401905\n",
      "\n",
      "\n",
      "at random state 16, training accuracy is 0.6266070317455774\n",
      "at random state 16, testing accuracy is 0.45452716795777515\n",
      "\n",
      "\n",
      "at random state 17, training accuracy is 0.6334702762353723\n",
      "at random state 17, testing accuracy is 0.4137808346954216\n",
      "\n",
      "\n",
      "at random state 18, training accuracy is 0.6143423839139192\n",
      "at random state 18, testing accuracy is 0.4822875453703397\n",
      "\n",
      "\n",
      "at random state 19, training accuracy is 0.6313897183251562\n",
      "at random state 19, testing accuracy is 0.4149960200300521\n",
      "\n",
      "\n",
      "at random state 20, training accuracy is 0.6185728332640974\n",
      "at random state 20, testing accuracy is 0.46429855367999695\n",
      "\n",
      "\n",
      "at random state 21, training accuracy is 0.6247147820005816\n",
      "at random state 21, testing accuracy is 0.4434687175797736\n",
      "\n",
      "\n",
      "at random state 22, training accuracy is 0.6169599423075761\n",
      "at random state 22, testing accuracy is 0.46396111735003653\n",
      "\n",
      "\n",
      "at random state 23, training accuracy is 0.6171778601371529\n",
      "at random state 23, testing accuracy is 0.4934264342107426\n",
      "\n",
      "\n",
      "at random state 24, training accuracy is 0.6341507440222522\n",
      "at random state 24, testing accuracy is 0.43102140347305296\n",
      "\n",
      "\n",
      "at random state 25, training accuracy is 0.6370243610264843\n",
      "at random state 25, testing accuracy is 0.4232352407864892\n",
      "\n",
      "\n",
      "at random state 26, training accuracy is 0.6371871665838338\n",
      "at random state 26, testing accuracy is 0.42041835997307175\n",
      "\n",
      "\n",
      "at random state 27, training accuracy is 0.6326571521904905\n",
      "at random state 27, testing accuracy is 0.40294284478740194\n",
      "\n",
      "\n",
      "at random state 28, training accuracy is 0.6180607230449905\n",
      "at random state 28, testing accuracy is 0.47332242277984593\n",
      "\n",
      "\n",
      "at random state 29, training accuracy is 0.6318494854678696\n",
      "at random state 29, testing accuracy is 0.4256141450685803\n",
      "\n",
      "\n",
      "at random state 30, training accuracy is 0.6309279567711346\n",
      "at random state 30, testing accuracy is 0.404255348381205\n",
      "\n",
      "\n",
      "at random state 31, training accuracy is 0.6266054905881756\n",
      "at random state 31, testing accuracy is 0.43971931398943054\n",
      "\n",
      "\n",
      "at random state 32, training accuracy is 0.6303076890064401\n",
      "at random state 32, testing accuracy is 0.3826533119818012\n",
      "\n",
      "\n",
      "at random state 33, training accuracy is 0.6324903421742087\n",
      "at random state 33, testing accuracy is 0.4270931008701193\n",
      "\n",
      "\n",
      "at random state 34, training accuracy is 0.6291829387693288\n",
      "at random state 34, testing accuracy is 0.4441848828447479\n",
      "\n",
      "\n",
      "at random state 35, training accuracy is 0.6298659146129941\n",
      "at random state 35, testing accuracy is 0.43577070305279886\n",
      "\n",
      "\n",
      "at random state 36, training accuracy is 0.6360919543756691\n",
      "at random state 36, testing accuracy is 0.4369590157994113\n",
      "\n",
      "\n",
      "at random state 37, training accuracy is 0.6395365554777078\n",
      "at random state 37, testing accuracy is 0.42567264685199346\n",
      "\n",
      "\n",
      "at random state 38, training accuracy is 0.6316170292935429\n",
      "at random state 38, testing accuracy is 0.459879704588225\n",
      "\n",
      "\n",
      "at random state 39, training accuracy is 0.6310597393641835\n",
      "at random state 39, testing accuracy is 0.4587772637144747\n",
      "\n",
      "\n",
      "at random state 40, training accuracy is 0.6193979863590424\n",
      "at random state 40, testing accuracy is 0.4684475905570934\n",
      "\n",
      "\n",
      "at random state 41, training accuracy is 0.6207651585247826\n",
      "at random state 41, testing accuracy is 0.48076721433304836\n",
      "\n",
      "\n",
      "at random state 42, training accuracy is 0.6315464068720422\n",
      "at random state 42, testing accuracy is 0.44152045895259096\n",
      "\n",
      "\n",
      "at random state 43, training accuracy is 0.6290308174399917\n",
      "at random state 43, testing accuracy is 0.4256228468492319\n",
      "\n",
      "\n",
      "at random state 44, training accuracy is 0.6299574525574336\n",
      "at random state 44, testing accuracy is 0.43429341187710013\n",
      "\n",
      "\n",
      "at random state 45, training accuracy is 0.6225459287355544\n",
      "at random state 45, testing accuracy is 0.46789485559078847\n",
      "\n",
      "\n",
      "at random state 46, training accuracy is 0.6250513408266842\n",
      "at random state 46, testing accuracy is 0.46078870515883863\n",
      "\n",
      "\n",
      "at random state 47, training accuracy is 0.6203082877786719\n",
      "at random state 47, testing accuracy is 0.455915439416111\n",
      "\n",
      "\n",
      "at random state 48, training accuracy is 0.6307210646543937\n",
      "at random state 48, testing accuracy is 0.4062292926909634\n",
      "\n",
      "\n",
      "at random state 49, training accuracy is 0.6277961881224188\n",
      "at random state 49, testing accuracy is 0.4522266472276292\n",
      "\n",
      "\n",
      "at random state 50, training accuracy is 0.6308754494216238\n",
      "at random state 50, testing accuracy is 0.43758166603889237\n",
      "\n",
      "\n",
      "at random state 51, training accuracy is 0.6260216671964729\n",
      "at random state 51, testing accuracy is 0.45194223987706084\n",
      "\n",
      "\n",
      "at random state 52, training accuracy is 0.6313374406767078\n",
      "at random state 52, testing accuracy is 0.4070250767653101\n",
      "\n",
      "\n",
      "at random state 53, training accuracy is 0.6410954281039465\n",
      "at random state 53, testing accuracy is 0.360736399838124\n",
      "\n",
      "\n",
      "at random state 54, training accuracy is 0.6413752111196827\n",
      "at random state 54, testing accuracy is 0.4105886370677455\n",
      "\n",
      "\n",
      "at random state 55, training accuracy is 0.6361277690279568\n",
      "at random state 55, testing accuracy is 0.4336953352991477\n",
      "\n",
      "\n",
      "at random state 56, training accuracy is 0.6419026319446666\n",
      "at random state 56, testing accuracy is 0.42724637386349495\n",
      "\n",
      "\n",
      "at random state 57, training accuracy is 0.6346724254252354\n",
      "at random state 57, testing accuracy is 0.4314701542818149\n",
      "\n",
      "\n",
      "at random state 58, training accuracy is 0.6199972874994095\n",
      "at random state 58, testing accuracy is 0.47156234662548024\n",
      "\n",
      "\n",
      "at random state 59, training accuracy is 0.626529046917013\n",
      "at random state 59, testing accuracy is 0.451156409269445\n",
      "\n",
      "\n",
      "at random state 60, training accuracy is 0.6279800310664627\n",
      "at random state 60, testing accuracy is 0.4392170094577288\n",
      "\n",
      "\n",
      "at random state 61, training accuracy is 0.6283765146478943\n",
      "at random state 61, testing accuracy is 0.46592591093700475\n",
      "\n",
      "\n",
      "at random state 62, training accuracy is 0.6186075575545842\n",
      "at random state 62, testing accuracy is 0.4801966669800164\n",
      "\n",
      "\n",
      "at random state 63, training accuracy is 0.6242207672234876\n",
      "at random state 63, testing accuracy is 0.4327602206845358\n",
      "\n",
      "\n",
      "at random state 64, training accuracy is 0.630093937042694\n",
      "at random state 64, testing accuracy is 0.42319878974134584\n",
      "\n",
      "\n",
      "at random state 65, training accuracy is 0.6282229706787215\n",
      "at random state 65, testing accuracy is 0.46428846720847794\n",
      "\n",
      "\n",
      "at random state 66, training accuracy is 0.6289465172831041\n",
      "at random state 66, testing accuracy is 0.4189998109568349\n",
      "\n",
      "\n",
      "at random state 67, training accuracy is 0.6408012119240434\n",
      "at random state 67, testing accuracy is 0.38805078359884615\n",
      "\n",
      "\n",
      "at random state 68, training accuracy is 0.6285217226467039\n",
      "at random state 68, testing accuracy is 0.4395853085982788\n",
      "\n",
      "\n",
      "at random state 69, training accuracy is 0.6220027336091858\n",
      "at random state 69, testing accuracy is 0.44752124872221577\n",
      "\n",
      "\n",
      "at random state 70, training accuracy is 0.6397585080192287\n",
      "at random state 70, testing accuracy is 0.4291737875385674\n",
      "\n",
      "\n",
      "at random state 71, training accuracy is 0.6290668483586541\n",
      "at random state 71, testing accuracy is 0.4492141771693714\n",
      "\n",
      "\n",
      "at random state 72, training accuracy is 0.622584048413205\n"
     ]
    },
    {
     "name": "stdout",
     "output_type": "stream",
     "text": [
      "at random state 72, testing accuracy is 0.46607245013248955\n",
      "\n",
      "\n",
      "at random state 73, training accuracy is 0.6183951307659001\n",
      "at random state 73, testing accuracy is 0.45650859743608296\n",
      "\n",
      "\n",
      "at random state 74, training accuracy is 0.63096749982736\n",
      "at random state 74, testing accuracy is 0.4519474301909814\n",
      "\n",
      "\n",
      "at random state 75, training accuracy is 0.6270062573907849\n",
      "at random state 75, testing accuracy is 0.4553470823647997\n",
      "\n",
      "\n",
      "at random state 76, training accuracy is 0.6371534325154904\n",
      "at random state 76, testing accuracy is 0.422714349490086\n",
      "\n",
      "\n",
      "at random state 77, training accuracy is 0.6319504485834706\n",
      "at random state 77, testing accuracy is 0.42430455757055174\n",
      "\n",
      "\n",
      "at random state 78, training accuracy is 0.6234728596495405\n",
      "at random state 78, testing accuracy is 0.4622838333384406\n",
      "\n",
      "\n",
      "at random state 79, training accuracy is 0.6247937509396407\n",
      "at random state 79, testing accuracy is 0.4459517595434077\n",
      "\n",
      "\n",
      "at random state 80, training accuracy is 0.6215335910366497\n",
      "at random state 80, testing accuracy is 0.4730936182681227\n",
      "\n",
      "\n",
      "at random state 81, training accuracy is 0.6323757516400468\n",
      "at random state 81, testing accuracy is 0.43498348614736215\n",
      "\n",
      "\n",
      "at random state 82, training accuracy is 0.6255960075209459\n",
      "at random state 82, testing accuracy is 0.456385846642297\n",
      "\n",
      "\n",
      "at random state 83, training accuracy is 0.636645763373305\n",
      "at random state 83, testing accuracy is 0.4166098985789245\n",
      "\n",
      "\n",
      "at random state 84, training accuracy is 0.6278619142205237\n",
      "at random state 84, testing accuracy is 0.45611814516805294\n",
      "\n",
      "\n",
      "at random state 85, training accuracy is 0.6402585563648514\n",
      "at random state 85, testing accuracy is 0.4265089907044093\n",
      "\n",
      "\n",
      "at random state 86, training accuracy is 0.6288210818570605\n",
      "at random state 86, testing accuracy is 0.4585070100631007\n",
      "\n",
      "\n",
      "at random state 87, training accuracy is 0.6276399991409556\n",
      "at random state 87, testing accuracy is 0.42798087549756303\n",
      "\n",
      "\n",
      "at random state 88, training accuracy is 0.6270853053624132\n",
      "at random state 88, testing accuracy is 0.4170544899065589\n",
      "\n",
      "\n",
      "at random state 89, training accuracy is 0.6263773710903984\n",
      "at random state 89, testing accuracy is 0.45156999917444074\n",
      "\n",
      "\n",
      "at random state 90, training accuracy is 0.6276221029409439\n",
      "at random state 90, testing accuracy is 0.4403436642255397\n",
      "\n",
      "\n",
      "at random state 91, training accuracy is 0.6315298676093845\n",
      "at random state 91, testing accuracy is 0.4319093120594434\n",
      "\n",
      "\n",
      "at random state 92, training accuracy is 0.627155159450931\n",
      "at random state 92, testing accuracy is 0.43069155781678836\n",
      "\n",
      "\n",
      "at random state 93, training accuracy is 0.6292976110148434\n",
      "at random state 93, testing accuracy is 0.42103266658417104\n",
      "\n",
      "\n",
      "at random state 94, training accuracy is 0.6264026119988455\n",
      "at random state 94, testing accuracy is 0.4266636021137231\n",
      "\n",
      "\n",
      "at random state 95, training accuracy is 0.620067704359937\n",
      "at random state 95, testing accuracy is 0.47063601343996964\n",
      "\n",
      "\n",
      "at random state 96, training accuracy is 0.6291511984557003\n",
      "at random state 96, testing accuracy is 0.4165551425758294\n",
      "\n",
      "\n",
      "at random state 97, training accuracy is 0.6255382265981696\n",
      "at random state 97, testing accuracy is 0.47788762754513125\n",
      "\n",
      "\n",
      "at random state 98, training accuracy is 0.6321458065638704\n",
      "at random state 98, testing accuracy is 0.43628486697898317\n",
      "\n",
      "\n",
      "at random state 99, training accuracy is 0.6280429860646217\n",
      "at random state 99, testing accuracy is 0.45310196744547226\n",
      "\n",
      "\n"
     ]
    }
   ],
   "source": [
    "from sklearn.neighbors import KNeighborsRegressor\n",
    "knr=KNeighborsRegressor()\n",
    "model_selection(knr)"
   ]
  },
  {
   "cell_type": "markdown",
   "id": "f34d3672",
   "metadata": {},
   "source": [
    "## Linear regression"
   ]
  },
  {
   "cell_type": "code",
   "execution_count": 351,
   "id": "d6a67fd6",
   "metadata": {},
   "outputs": [
    {
     "name": "stdout",
     "output_type": "stream",
     "text": [
      "at random state 0, training accuracy is 0.45969151813873377\n",
      "at random state 0, testing accuracy is 0.42362625987185065\n",
      "\n",
      "\n",
      "at random state 1, training accuracy is 0.4546181421372798\n",
      "at random state 1, testing accuracy is 0.4423115741574585\n",
      "\n",
      "\n",
      "at random state 2, training accuracy is 0.4536810319641934\n",
      "at random state 2, testing accuracy is 0.4489345062725847\n",
      "\n",
      "\n",
      "at random state 3, training accuracy is 0.4569204101653481\n",
      "at random state 3, testing accuracy is 0.43489453591657534\n",
      "\n",
      "\n",
      "at random state 4, training accuracy is 0.4516233832872759\n",
      "at random state 4, testing accuracy is 0.4561474634781414\n",
      "\n",
      "\n",
      "at random state 5, training accuracy is 0.4642623563601007\n",
      "at random state 5, testing accuracy is 0.40549536394135033\n",
      "\n",
      "\n",
      "at random state 6, training accuracy is 0.4469119535679451\n",
      "at random state 6, testing accuracy is 0.474225742218247\n",
      "\n",
      "\n",
      "at random state 7, training accuracy is 0.4660729408641935\n",
      "at random state 7, testing accuracy is 0.39881670186442586\n",
      "\n",
      "\n",
      "at random state 8, training accuracy is 0.45009261949783297\n",
      "at random state 8, testing accuracy is 0.4629407290818781\n",
      "\n",
      "\n",
      "at random state 9, training accuracy is 0.45010001428553525\n",
      "at random state 9, testing accuracy is 0.46253805190558184\n",
      "\n",
      "\n",
      "at random state 10, training accuracy is 0.44027502948011965\n",
      "at random state 10, testing accuracy is 0.49828454225508245\n",
      "\n",
      "\n",
      "at random state 11, training accuracy is 0.44421003437939377\n",
      "at random state 11, testing accuracy is 0.48736390856085066\n",
      "\n",
      "\n",
      "at random state 12, training accuracy is 0.4476746608709462\n",
      "at random state 12, testing accuracy is 0.47126273910127725\n",
      "\n",
      "\n",
      "at random state 13, training accuracy is 0.45422613449390503\n",
      "at random state 13, testing accuracy is 0.4464902896899192\n",
      "\n",
      "\n",
      "at random state 14, training accuracy is 0.45122539579663745\n",
      "at random state 14, testing accuracy is 0.456859808961389\n",
      "\n",
      "\n",
      "at random state 15, training accuracy is 0.44992044993239977\n",
      "at random state 15, testing accuracy is 0.46363930650154417\n",
      "\n",
      "\n",
      "at random state 16, training accuracy is 0.4493871638374063\n",
      "at random state 16, testing accuracy is 0.46446394466794294\n",
      "\n",
      "\n",
      "at random state 17, training accuracy is 0.46110098310372116\n",
      "at random state 17, testing accuracy is 0.4201952479188352\n",
      "\n",
      "\n",
      "at random state 18, training accuracy is 0.4434886468577257\n",
      "at random state 18, testing accuracy is 0.48947640763505296\n",
      "\n",
      "\n",
      "at random state 19, training accuracy is 0.4662253437990561\n",
      "at random state 19, testing accuracy is 0.40311490862726174\n",
      "\n",
      "\n",
      "at random state 20, training accuracy is 0.44988368043748983\n",
      "at random state 20, testing accuracy is 0.4624205534775139\n",
      "\n",
      "\n",
      "at random state 21, training accuracy is 0.4547342592271132\n",
      "at random state 21, testing accuracy is 0.4439133563552542\n",
      "\n",
      "\n",
      "at random state 22, training accuracy is 0.43954177884734347\n",
      "at random state 22, testing accuracy is 0.5036622145811949\n",
      "\n",
      "\n",
      "at random state 23, training accuracy is 0.44772540021938656\n",
      "at random state 23, testing accuracy is 0.47131084185383576\n",
      "\n",
      "\n",
      "at random state 24, training accuracy is 0.4503117561932545\n",
      "at random state 24, testing accuracy is 0.4615842728347539\n",
      "\n",
      "\n",
      "at random state 25, training accuracy is 0.45876336515840843\n",
      "at random state 25, testing accuracy is 0.4319721014661445\n",
      "\n",
      "\n",
      "at random state 26, training accuracy is 0.46001769274596305\n",
      "at random state 26, testing accuracy is 0.4240205463372546\n",
      "\n",
      "\n",
      "at random state 27, training accuracy is 0.4604624035961501\n",
      "at random state 27, testing accuracy is 0.41676422920962497\n",
      "\n",
      "\n",
      "at random state 28, training accuracy is 0.44727274097721725\n",
      "at random state 28, testing accuracy is 0.47316010288764754\n",
      "\n",
      "\n",
      "at random state 29, training accuracy is 0.4515751924666441\n",
      "at random state 29, testing accuracy is 0.4577208038156283\n",
      "\n",
      "\n",
      "at random state 30, training accuracy is 0.45576708140972455\n",
      "at random state 30, testing accuracy is 0.4385378215396277\n",
      "\n",
      "\n",
      "at random state 31, training accuracy is 0.45230074770066375\n",
      "at random state 31, testing accuracy is 0.45257506358902533\n",
      "\n",
      "\n",
      "at random state 32, training accuracy is 0.4625388134620171\n",
      "at random state 32, testing accuracy is 0.4121695308382788\n",
      "\n",
      "\n",
      "at random state 33, training accuracy is 0.45686582709141843\n",
      "at random state 33, testing accuracy is 0.43624713961731865\n",
      "\n",
      "\n",
      "at random state 34, training accuracy is 0.4552573827698223\n",
      "at random state 34, testing accuracy is 0.44178631653456946\n",
      "\n",
      "\n",
      "at random state 35, training accuracy is 0.4452882382395179\n",
      "at random state 35, testing accuracy is 0.47476283959926446\n",
      "\n",
      "\n",
      "at random state 36, training accuracy is 0.4563802495427922\n",
      "at random state 36, testing accuracy is 0.4378202678883858\n",
      "\n",
      "\n",
      "at random state 37, training accuracy is 0.4579756182763569\n",
      "at random state 37, testing accuracy is 0.4328741205080139\n",
      "\n",
      "\n",
      "at random state 38, training accuracy is 0.4516402357681728\n",
      "at random state 38, testing accuracy is 0.4564676602511768\n",
      "\n",
      "\n",
      "at random state 39, training accuracy is 0.4472107402422191\n",
      "at random state 39, testing accuracy is 0.4733993266349499\n",
      "\n",
      "\n",
      "at random state 40, training accuracy is 0.4417261520791991\n",
      "at random state 40, testing accuracy is 0.4964164432762628\n",
      "\n",
      "\n",
      "at random state 41, training accuracy is 0.4488740375303957\n",
      "at random state 41, testing accuracy is 0.4678614506560421\n",
      "\n",
      "\n",
      "at random state 42, training accuracy is 0.4534152808550861\n",
      "at random state 42, testing accuracy is 0.44566860828406174\n",
      "\n",
      "\n",
      "at random state 43, training accuracy is 0.4507460794702419\n",
      "at random state 43, testing accuracy is 0.4608017860006203\n",
      "\n",
      "\n",
      "at random state 44, training accuracy is 0.45184712354763623\n",
      "at random state 44, testing accuracy is 0.45499004283504374\n",
      "\n",
      "\n",
      "at random state 45, training accuracy is 0.44312077626521407\n",
      "at random state 45, testing accuracy is 0.48758677858830657\n",
      "\n",
      "\n",
      "at random state 46, training accuracy is 0.45132923896115607\n",
      "at random state 46, testing accuracy is 0.456500354715096\n",
      "\n",
      "\n",
      "at random state 47, training accuracy is 0.4513941660483284\n",
      "at random state 47, testing accuracy is 0.4560987065351424\n",
      "\n",
      "\n",
      "at random state 48, training accuracy is 0.4564892778834373\n",
      "at random state 48, testing accuracy is 0.43631367177394287\n",
      "\n",
      "\n",
      "at random state 49, training accuracy is 0.44163421006120074\n",
      "at random state 49, testing accuracy is 0.4982966460526661\n",
      "\n",
      "\n",
      "at random state 50, training accuracy is 0.45498907232984565\n",
      "at random state 50, testing accuracy is 0.44281170706459394\n",
      "\n",
      "\n",
      "at random state 51, training accuracy is 0.4446327151412166\n",
      "at random state 51, testing accuracy is 0.4780357162017982\n",
      "\n",
      "\n",
      "at random state 52, training accuracy is 0.4610876730519168\n",
      "at random state 52, testing accuracy is 0.41451726353050766\n",
      "\n",
      "\n",
      "at random state 53, training accuracy is 0.4691834240417283\n",
      "at random state 53, testing accuracy is 0.36449080029594916\n",
      "\n",
      "\n",
      "at random state 54, training accuracy is 0.45884852415925614\n",
      "at random state 54, testing accuracy is 0.42833224283747506\n",
      "\n",
      "\n",
      "at random state 55, training accuracy is 0.4528553799252292\n",
      "at random state 55, testing accuracy is 0.45174233126789753\n",
      "\n",
      "\n",
      "at random state 56, training accuracy is 0.45890764249832783\n",
      "at random state 56, testing accuracy is 0.42540682855639445\n",
      "\n",
      "\n",
      "at random state 57, training accuracy is 0.4532999684446599\n",
      "at random state 57, testing accuracy is 0.4502050860463821\n",
      "\n",
      "\n",
      "at random state 58, training accuracy is 0.44330922345042967\n",
      "at random state 58, testing accuracy is 0.4860648766369212\n",
      "\n",
      "\n",
      "at random state 59, training accuracy is 0.45019211332483466\n",
      "at random state 59, testing accuracy is 0.4599282376569841\n",
      "\n",
      "\n",
      "at random state 60, training accuracy is 0.44434419901803246\n",
      "at random state 60, testing accuracy is 0.4857384478572708\n",
      "\n",
      "\n",
      "at random state 61, training accuracy is 0.45861775530989235\n",
      "at random state 61, testing accuracy is 0.43022792132527865\n",
      "\n",
      "\n",
      "at random state 62, training accuracy is 0.43728869002702975\n",
      "at random state 62, testing accuracy is 0.5164049068713239\n",
      "\n",
      "\n",
      "at random state 63, training accuracy is 0.4640126674952967\n",
      "at random state 63, testing accuracy is 0.4044848808238062\n",
      "\n",
      "\n",
      "at random state 64, training accuracy is 0.45389442586270823\n",
      "at random state 64, testing accuracy is 0.44724890669901596\n",
      "\n",
      "\n",
      "at random state 65, training accuracy is 0.4519231447606381\n",
      "at random state 65, testing accuracy is 0.4545669341286154\n",
      "\n",
      "\n",
      "at random state 66, training accuracy is 0.45075993927020663\n",
      "at random state 66, testing accuracy is 0.4599385216133167\n",
      "\n",
      "\n",
      "at random state 67, training accuracy is 0.4557749750544713\n",
      "at random state 67, testing accuracy is 0.44046223866040646\n",
      "\n",
      "\n",
      "at random state 68, training accuracy is 0.4538237065457408\n",
      "at random state 68, testing accuracy is 0.44666846261440885\n",
      "\n",
      "\n",
      "at random state 69, training accuracy is 0.44948961049859915\n",
      "at random state 69, testing accuracy is 0.46269024932297853\n",
      "\n",
      "\n",
      "at random state 70, training accuracy is 0.4552811587807225\n",
      "at random state 70, testing accuracy is 0.4420577613902529\n",
      "\n",
      "\n",
      "at random state 71, training accuracy is 0.4441200252719548\n",
      "at random state 71, testing accuracy is 0.48877270844433496\n",
      "\n",
      "\n",
      "at random state 72, training accuracy is 0.44772503242657335\n",
      "at random state 72, testing accuracy is 0.46947510072105125\n",
      "\n",
      "\n",
      "at random state 73, training accuracy is 0.4481071371351212\n",
      "at random state 73, testing accuracy is 0.46682110554358147\n",
      "\n",
      "\n",
      "at random state 74, training accuracy is 0.44752241832970197\n",
      "at random state 74, testing accuracy is 0.4688324435323691\n",
      "\n",
      "\n",
      "at random state 75, training accuracy is 0.45467914033867174\n",
      "at random state 75, testing accuracy is 0.4450743922840824\n",
      "\n",
      "\n"
     ]
    },
    {
     "name": "stdout",
     "output_type": "stream",
     "text": [
      "at random state 76, training accuracy is 0.45136700396255147\n",
      "at random state 76, testing accuracy is 0.45802436032851535\n",
      "\n",
      "\n",
      "at random state 77, training accuracy is 0.4543597180817165\n",
      "at random state 77, testing accuracy is 0.44525869825291764\n",
      "\n",
      "\n",
      "at random state 78, training accuracy is 0.45262960749356695\n",
      "at random state 78, testing accuracy is 0.45204422015948553\n",
      "\n",
      "\n",
      "at random state 79, training accuracy is 0.447592612712715\n",
      "at random state 79, testing accuracy is 0.47222797256183524\n",
      "\n",
      "\n",
      "at random state 80, training accuracy is 0.44807113996467585\n",
      "at random state 80, testing accuracy is 0.47152054941469446\n",
      "\n",
      "\n",
      "at random state 81, training accuracy is 0.4462403929926839\n",
      "at random state 81, testing accuracy is 0.4770983946630396\n",
      "\n",
      "\n",
      "at random state 82, training accuracy is 0.44706066269198075\n",
      "at random state 82, testing accuracy is 0.47365684001760877\n",
      "\n",
      "\n",
      "at random state 83, training accuracy is 0.4606648897140142\n",
      "at random state 83, testing accuracy is 0.42241883707658334\n",
      "\n",
      "\n",
      "at random state 84, training accuracy is 0.4588229469120382\n",
      "at random state 84, testing accuracy is 0.4271814007734267\n",
      "\n",
      "\n",
      "at random state 85, training accuracy is 0.4586235142281069\n",
      "at random state 85, testing accuracy is 0.42683387345882595\n",
      "\n",
      "\n",
      "at random state 86, training accuracy is 0.4468276433862851\n",
      "at random state 86, testing accuracy is 0.4778326532666698\n",
      "\n",
      "\n",
      "at random state 87, training accuracy is 0.4563018692893773\n",
      "at random state 87, testing accuracy is 0.4377034943833561\n",
      "\n",
      "\n",
      "at random state 88, training accuracy is 0.45369563180629047\n",
      "at random state 88, testing accuracy is 0.44838164226046184\n",
      "\n",
      "\n",
      "at random state 89, training accuracy is 0.44994920466784905\n",
      "at random state 89, testing accuracy is 0.46358145745608215\n",
      "\n",
      "\n",
      "at random state 90, training accuracy is 0.4471963523571303\n",
      "at random state 90, testing accuracy is 0.4732757556128451\n",
      "\n",
      "\n",
      "at random state 91, training accuracy is 0.451111915718835\n",
      "at random state 91, testing accuracy is 0.45693397536868074\n",
      "\n",
      "\n",
      "at random state 92, training accuracy is 0.4473654446067612\n",
      "at random state 92, testing accuracy is 0.46697011584136117\n",
      "\n",
      "\n",
      "at random state 93, training accuracy is 0.4667554082359733\n",
      "at random state 93, testing accuracy is 0.39735841842945674\n",
      "\n",
      "\n",
      "at random state 94, training accuracy is 0.45341203515260964\n",
      "at random state 94, testing accuracy is 0.4470387233883676\n",
      "\n",
      "\n",
      "at random state 95, training accuracy is 0.4456708936180327\n",
      "at random state 95, testing accuracy is 0.4765959529960445\n",
      "\n",
      "\n",
      "at random state 96, training accuracy is 0.45469225528826607\n",
      "at random state 96, testing accuracy is 0.44460272423414193\n",
      "\n",
      "\n",
      "at random state 97, training accuracy is 0.44895051750275106\n",
      "at random state 97, testing accuracy is 0.4668059960533639\n",
      "\n",
      "\n",
      "at random state 98, training accuracy is 0.4555965265059395\n",
      "at random state 98, testing accuracy is 0.4412485680259042\n",
      "\n",
      "\n",
      "at random state 99, training accuracy is 0.44730385560432606\n",
      "at random state 99, testing accuracy is 0.4730710291515542\n",
      "\n",
      "\n",
      "at random state 100, training accuracy is 0.45515621624098457\n",
      "at random state 100, testing accuracy is 0.44030899624004893\n",
      "\n",
      "\n",
      "at random state 101, training accuracy is 0.4467902372280992\n",
      "at random state 101, testing accuracy is 0.47398196342189314\n",
      "\n",
      "\n",
      "at random state 102, training accuracy is 0.45808182405869435\n",
      "at random state 102, testing accuracy is 0.42775925806616444\n",
      "\n",
      "\n",
      "at random state 103, training accuracy is 0.45374358074525944\n",
      "at random state 103, testing accuracy is 0.44528488183155\n",
      "\n",
      "\n",
      "at random state 104, training accuracy is 0.4549029060415942\n",
      "at random state 104, testing accuracy is 0.44294115119507105\n",
      "\n",
      "\n",
      "at random state 105, training accuracy is 0.4578782266381526\n",
      "at random state 105, testing accuracy is 0.428390846257075\n",
      "\n",
      "\n",
      "at random state 106, training accuracy is 0.4617752616887848\n",
      "at random state 106, testing accuracy is 0.41599769210981397\n",
      "\n",
      "\n",
      "at random state 107, training accuracy is 0.44571198336157014\n",
      "at random state 107, testing accuracy is 0.4779414514730055\n",
      "\n",
      "\n",
      "at random state 108, training accuracy is 0.44126409734564276\n",
      "at random state 108, testing accuracy is 0.4983681396912669\n",
      "\n",
      "\n",
      "at random state 109, training accuracy is 0.4526750006280683\n",
      "at random state 109, testing accuracy is 0.44997460732054684\n",
      "\n",
      "\n",
      "at random state 110, training accuracy is 0.45148416498547683\n",
      "at random state 110, testing accuracy is 0.45572276813232315\n",
      "\n",
      "\n",
      "at random state 111, training accuracy is 0.4478868021221517\n",
      "at random state 111, testing accuracy is 0.4708833227504381\n",
      "\n",
      "\n",
      "at random state 112, training accuracy is 0.45134037115659664\n",
      "at random state 112, testing accuracy is 0.4567556974629027\n",
      "\n",
      "\n",
      "at random state 113, training accuracy is 0.4573644422107188\n",
      "at random state 113, testing accuracy is 0.43293691693819636\n",
      "\n",
      "\n",
      "at random state 114, training accuracy is 0.45566138023781233\n",
      "at random state 114, testing accuracy is 0.43748664074769783\n",
      "\n",
      "\n",
      "at random state 115, training accuracy is 0.4450120388771558\n",
      "at random state 115, testing accuracy is 0.4826409009524447\n",
      "\n",
      "\n",
      "at random state 116, training accuracy is 0.45340747052817143\n",
      "at random state 116, testing accuracy is 0.44894140068888766\n",
      "\n",
      "\n",
      "at random state 117, training accuracy is 0.44293014134456177\n",
      "at random state 117, testing accuracy is 0.4891260876718754\n",
      "\n",
      "\n",
      "at random state 118, training accuracy is 0.45190471237722407\n",
      "at random state 118, testing accuracy is 0.45618642989130986\n",
      "\n",
      "\n",
      "at random state 119, training accuracy is 0.4535939517703049\n",
      "at random state 119, testing accuracy is 0.44873341221370244\n",
      "\n",
      "\n",
      "at random state 120, training accuracy is 0.447023377038996\n",
      "at random state 120, testing accuracy is 0.47352869514173124\n",
      "\n",
      "\n",
      "at random state 121, training accuracy is 0.4475291093132745\n",
      "at random state 121, testing accuracy is 0.4740480592916886\n",
      "\n",
      "\n",
      "at random state 122, training accuracy is 0.4518493923786785\n",
      "at random state 122, testing accuracy is 0.45441431957136236\n",
      "\n",
      "\n",
      "at random state 123, training accuracy is 0.4613761914604788\n",
      "at random state 123, testing accuracy is 0.4171479475546107\n",
      "\n",
      "\n",
      "at random state 124, training accuracy is 0.46603328224181406\n",
      "at random state 124, testing accuracy is 0.3996820313470726\n",
      "\n",
      "\n",
      "at random state 125, training accuracy is 0.4601120155470154\n",
      "at random state 125, testing accuracy is 0.42155205197962176\n",
      "\n",
      "\n",
      "at random state 126, training accuracy is 0.4545515735927048\n",
      "at random state 126, testing accuracy is 0.4455599868043034\n",
      "\n",
      "\n",
      "at random state 127, training accuracy is 0.4557645037422131\n",
      "at random state 127, testing accuracy is 0.4375540179588532\n",
      "\n",
      "\n",
      "at random state 128, training accuracy is 0.4504873682707665\n",
      "at random state 128, testing accuracy is 0.4607039630151958\n",
      "\n",
      "\n",
      "at random state 129, training accuracy is 0.45728101039579927\n",
      "at random state 129, testing accuracy is 0.43437917088555933\n",
      "\n",
      "\n",
      "at random state 130, training accuracy is 0.4564462391277212\n",
      "at random state 130, testing accuracy is 0.4356162893156551\n",
      "\n",
      "\n",
      "at random state 131, training accuracy is 0.45894122054135256\n",
      "at random state 131, testing accuracy is 0.4284945883127049\n",
      "\n",
      "\n",
      "at random state 132, training accuracy is 0.45010342624443367\n",
      "at random state 132, testing accuracy is 0.4632540524819989\n",
      "\n",
      "\n",
      "at random state 133, training accuracy is 0.45239433860887424\n",
      "at random state 133, testing accuracy is 0.45323551683597985\n",
      "\n",
      "\n",
      "at random state 134, training accuracy is 0.4604867925463222\n",
      "at random state 134, testing accuracy is 0.42316132123874006\n",
      "\n",
      "\n",
      "at random state 135, training accuracy is 0.4627155114417707\n",
      "at random state 135, testing accuracy is 0.40980092622970554\n",
      "\n",
      "\n",
      "at random state 136, training accuracy is 0.44672944091230415\n",
      "at random state 136, testing accuracy is 0.4766512326258048\n",
      "\n",
      "\n",
      "at random state 137, training accuracy is 0.45422917913392424\n",
      "at random state 137, testing accuracy is 0.4447534211143873\n",
      "\n",
      "\n",
      "at random state 138, training accuracy is 0.45245920365719194\n",
      "at random state 138, testing accuracy is 0.45328699561006247\n",
      "\n",
      "\n",
      "at random state 139, training accuracy is 0.4445384369016351\n",
      "at random state 139, testing accuracy is 0.48338055799257984\n",
      "\n",
      "\n",
      "at random state 140, training accuracy is 0.45437608449954014\n",
      "at random state 140, testing accuracy is 0.44610375276612513\n",
      "\n",
      "\n",
      "at random state 141, training accuracy is 0.44392898236075073\n",
      "at random state 141, testing accuracy is 0.488933986711514\n",
      "\n",
      "\n",
      "at random state 142, training accuracy is 0.44899285515458465\n",
      "at random state 142, testing accuracy is 0.463680352220715\n",
      "\n",
      "\n",
      "at random state 143, training accuracy is 0.4544536243084144\n",
      "at random state 143, testing accuracy is 0.4441517841769088\n",
      "\n",
      "\n",
      "at random state 144, training accuracy is 0.4484845914437178\n",
      "at random state 144, testing accuracy is 0.46824949170480745\n",
      "\n",
      "\n",
      "at random state 145, training accuracy is 0.44891758739089316\n",
      "at random state 145, testing accuracy is 0.46729370709966045\n",
      "\n",
      "\n",
      "at random state 146, training accuracy is 0.4485172161682378\n",
      "at random state 146, testing accuracy is 0.46922402033132826\n",
      "\n",
      "\n",
      "at random state 147, training accuracy is 0.4583533802902391\n",
      "at random state 147, testing accuracy is 0.42206395620298975\n",
      "\n",
      "\n",
      "at random state 148, training accuracy is 0.4504458153851719\n",
      "at random state 148, testing accuracy is 0.45903988781731253\n",
      "\n",
      "\n",
      "at random state 149, training accuracy is 0.4467969461658997\n",
      "at random state 149, testing accuracy is 0.4704841935261891\n",
      "\n",
      "\n",
      "at random state 150, training accuracy is 0.4578186938628537\n",
      "at random state 150, testing accuracy is 0.43049068742983143\n",
      "\n",
      "\n",
      "at random state 151, training accuracy is 0.44511275997119804\n",
      "at random state 151, testing accuracy is 0.48204956062971804\n",
      "\n",
      "\n",
      "at random state 152, training accuracy is 0.4520673109982907\n",
      "at random state 152, testing accuracy is 0.45499338976418\n",
      "\n",
      "\n",
      "at random state 153, training accuracy is 0.4626044442716031\n",
      "at random state 153, testing accuracy is 0.41327852844249513\n",
      "\n",
      "\n",
      "at random state 154, training accuracy is 0.4555347793046761\n",
      "at random state 154, testing accuracy is 0.44037811420435746\n",
      "\n",
      "\n"
     ]
    },
    {
     "name": "stdout",
     "output_type": "stream",
     "text": [
      "at random state 155, training accuracy is 0.4486004721432537\n",
      "at random state 155, testing accuracy is 0.4685926323981896\n",
      "\n",
      "\n",
      "at random state 156, training accuracy is 0.45912402277330244\n",
      "at random state 156, testing accuracy is 0.4276388005590306\n",
      "\n",
      "\n",
      "at random state 157, training accuracy is 0.45380242578296603\n",
      "at random state 157, testing accuracy is 0.4486956713190853\n",
      "\n",
      "\n",
      "at random state 158, training accuracy is 0.45920925306206006\n",
      "at random state 158, testing accuracy is 0.4263071990653514\n",
      "\n",
      "\n",
      "at random state 159, training accuracy is 0.44679960342862446\n",
      "at random state 159, testing accuracy is 0.47474551669867593\n",
      "\n",
      "\n",
      "at random state 160, training accuracy is 0.4554969847446244\n",
      "at random state 160, testing accuracy is 0.44114811870903525\n",
      "\n",
      "\n",
      "at random state 161, training accuracy is 0.4505284967666535\n",
      "at random state 161, testing accuracy is 0.4582101503001742\n",
      "\n",
      "\n",
      "at random state 162, training accuracy is 0.4612777209340423\n",
      "at random state 162, testing accuracy is 0.42013512213202886\n",
      "\n",
      "\n",
      "at random state 163, training accuracy is 0.4549412686631571\n",
      "at random state 163, testing accuracy is 0.44279025788024406\n",
      "\n",
      "\n",
      "at random state 164, training accuracy is 0.4590045304731256\n",
      "at random state 164, testing accuracy is 0.4265432356604374\n",
      "\n",
      "\n",
      "at random state 165, training accuracy is 0.4454282941515362\n",
      "at random state 165, testing accuracy is 0.47943996975564995\n",
      "\n",
      "\n",
      "at random state 166, training accuracy is 0.44635682889015915\n",
      "at random state 166, testing accuracy is 0.47721858425874775\n",
      "\n",
      "\n",
      "at random state 167, training accuracy is 0.45166074636983866\n",
      "at random state 167, testing accuracy is 0.4554158994988732\n",
      "\n",
      "\n",
      "at random state 168, training accuracy is 0.45583904661484786\n",
      "at random state 168, testing accuracy is 0.4359092353949432\n",
      "\n",
      "\n",
      "at random state 169, training accuracy is 0.4585098206715241\n",
      "at random state 169, testing accuracy is 0.4256170756517259\n",
      "\n",
      "\n",
      "at random state 170, training accuracy is 0.45602742250369466\n",
      "at random state 170, testing accuracy is 0.4383477383128144\n",
      "\n",
      "\n",
      "at random state 171, training accuracy is 0.44616042500788133\n",
      "at random state 171, testing accuracy is 0.4773967662836992\n",
      "\n",
      "\n",
      "at random state 172, training accuracy is 0.43015800711996344\n",
      "at random state 172, testing accuracy is 0.5302468821881012\n",
      "\n",
      "\n",
      "at random state 173, training accuracy is 0.46581268402055864\n",
      "at random state 173, testing accuracy is 0.39769156617507695\n",
      "\n",
      "\n",
      "at random state 174, training accuracy is 0.4533000863205563\n",
      "at random state 174, testing accuracy is 0.44801583808306067\n",
      "\n",
      "\n",
      "at random state 175, training accuracy is 0.44798912572520955\n",
      "at random state 175, testing accuracy is 0.4730411893602807\n",
      "\n",
      "\n",
      "at random state 176, training accuracy is 0.44576848884938847\n",
      "at random state 176, testing accuracy is 0.47888550520955997\n",
      "\n",
      "\n",
      "at random state 177, training accuracy is 0.4408254835316199\n",
      "at random state 177, testing accuracy is 0.5020368446954335\n",
      "\n",
      "\n",
      "at random state 178, training accuracy is 0.44494203946793975\n",
      "at random state 178, testing accuracy is 0.4831016330523237\n",
      "\n",
      "\n",
      "at random state 179, training accuracy is 0.4519867648441044\n",
      "at random state 179, testing accuracy is 0.45403755704103477\n",
      "\n",
      "\n",
      "at random state 180, training accuracy is 0.45556903820969463\n",
      "at random state 180, testing accuracy is 0.44091749889253684\n",
      "\n",
      "\n",
      "at random state 181, training accuracy is 0.4527305422041472\n",
      "at random state 181, testing accuracy is 0.44966644775120757\n",
      "\n",
      "\n",
      "at random state 182, training accuracy is 0.4444172969254293\n",
      "at random state 182, testing accuracy is 0.4839527043427012\n",
      "\n",
      "\n",
      "at random state 183, training accuracy is 0.45483717577551963\n",
      "at random state 183, testing accuracy is 0.44285594838762055\n",
      "\n",
      "\n",
      "at random state 184, training accuracy is 0.4513654956143027\n",
      "at random state 184, testing accuracy is 0.4573687845275246\n",
      "\n",
      "\n",
      "at random state 185, training accuracy is 0.4519790951542412\n",
      "at random state 185, testing accuracy is 0.45444623174519727\n",
      "\n",
      "\n",
      "at random state 186, training accuracy is 0.44622317866243566\n",
      "at random state 186, testing accuracy is 0.47601069214059144\n",
      "\n",
      "\n",
      "at random state 187, training accuracy is 0.4611101096830842\n",
      "at random state 187, testing accuracy is 0.4146280557998654\n",
      "\n",
      "\n",
      "at random state 188, training accuracy is 0.4545465937644829\n",
      "at random state 188, testing accuracy is 0.44518140128964534\n",
      "\n",
      "\n",
      "at random state 189, training accuracy is 0.45584785601611244\n",
      "at random state 189, testing accuracy is 0.43964245978119343\n",
      "\n",
      "\n",
      "at random state 190, training accuracy is 0.4456950317428512\n",
      "at random state 190, testing accuracy is 0.47937321112296716\n",
      "\n",
      "\n",
      "at random state 191, training accuracy is 0.4542022542295113\n",
      "at random state 191, testing accuracy is 0.44581442492890033\n",
      "\n",
      "\n",
      "at random state 192, training accuracy is 0.4584757932430352\n",
      "at random state 192, testing accuracy is 0.4281830343730407\n",
      "\n",
      "\n",
      "at random state 193, training accuracy is 0.4444062149003536\n",
      "at random state 193, testing accuracy is 0.4870805738658788\n",
      "\n",
      "\n",
      "at random state 194, training accuracy is 0.45427986853311275\n",
      "at random state 194, testing accuracy is 0.4453118580302957\n",
      "\n",
      "\n",
      "at random state 195, training accuracy is 0.45273539595260825\n",
      "at random state 195, testing accuracy is 0.4493950471045134\n",
      "\n",
      "\n",
      "at random state 196, training accuracy is 0.4606914518524732\n",
      "at random state 196, testing accuracy is 0.4229125979930738\n",
      "\n",
      "\n",
      "at random state 197, training accuracy is 0.4501477914313925\n",
      "at random state 197, testing accuracy is 0.4616881914309552\n",
      "\n",
      "\n",
      "at random state 198, training accuracy is 0.44954613993603376\n",
      "at random state 198, testing accuracy is 0.4630945476132454\n",
      "\n",
      "\n",
      "at random state 199, training accuracy is 0.45945066486366104\n",
      "at random state 199, testing accuracy is 0.42277772941131\n",
      "\n",
      "\n"
     ]
    }
   ],
   "source": [
    "from sklearn.linear_model import LinearRegression\n",
    "lm=LinearRegression()\n",
    "model_selection(lm)"
   ]
  },
  {
   "cell_type": "markdown",
   "id": "080e6120",
   "metadata": {},
   "source": [
    "# cross validation"
   ]
  },
  {
   "cell_type": "code",
   "execution_count": 331,
   "id": "9e626162",
   "metadata": {},
   "outputs": [
    {
     "name": "stdout",
     "output_type": "stream",
     "text": [
      "at 3, cross val score is 0.41999282752532574 and training accuracy is 0.9115238516075412 and testing accuracy is 0.502699447700186\n",
      "\n",
      "\n",
      "at 4, cross val score is 0.3368081695171815 and training accuracy is 0.9115238516075412 and testing accuracy is 0.502699447700186\n",
      "\n",
      "\n",
      "at 5, cross val score is 0.34962243026694717 and training accuracy is 0.9115238516075412 and testing accuracy is 0.502699447700186\n",
      "\n",
      "\n",
      "at 6, cross val score is 0.35608629714472756 and training accuracy is 0.9115238516075412 and testing accuracy is 0.502699447700186\n",
      "\n",
      "\n",
      "at 7, cross val score is 0.3613500071317988 and training accuracy is 0.9115238516075412 and testing accuracy is 0.502699447700186\n",
      "\n",
      "\n",
      "at 8, cross val score is 0.3195709326550324 and training accuracy is 0.9115238516075412 and testing accuracy is 0.502699447700186\n",
      "\n",
      "\n",
      "at 9, cross val score is 0.35916638671331885 and training accuracy is 0.9115238516075412 and testing accuracy is 0.502699447700186\n",
      "\n",
      "\n"
     ]
    }
   ],
   "source": [
    "train_accuracy=r2_score(y_train,pred_train)\n",
    "test_accuracy=r2_score(y_test,pred_test)\n",
    "from sklearn.model_selection import cross_val_score\n",
    "for j in range(3,10):\n",
    "    cv_score=cross_val_score(knr,dfx,y,cv=j)\n",
    "    cvmean=cv_score.mean()\n",
    "    print(f\"at {j}, cross val score is {cvmean} and training accuracy is {train_accuracy} and testing accuracy is {test_accuracy}\")\n",
    "    print(\"\\n\")"
   ]
  },
  {
   "cell_type": "markdown",
   "id": "56f15ca6",
   "metadata": {},
   "source": [
    "# ensembling technique"
   ]
  },
  {
   "cell_type": "code",
   "execution_count": 313,
   "id": "fcef2ab5",
   "metadata": {},
   "outputs": [
    {
     "name": "stdout",
     "output_type": "stream",
     "text": [
      "(3221, 6)\n",
      "(806, 6)\n",
      "(3221,)\n",
      "(806,)\n"
     ]
    }
   ],
   "source": [
    "x_train,x_test,y_train,y_test=train_test_split(dfx,y,random_state=22,test_size=0.20)\n",
    "print(x_train.shape)\n",
    "print(x_test.shape)\n",
    "print(y_train.shape)\n",
    "print(y_test.shape)"
   ]
  },
  {
   "cell_type": "markdown",
   "id": "9ccd6d03",
   "metadata": {},
   "source": [
    "hyper parameter tuning"
   ]
  },
  {
   "cell_type": "code",
   "execution_count": 340,
   "id": "f779f9d3",
   "metadata": {},
   "outputs": [
    {
     "name": "stdout",
     "output_type": "stream",
     "text": [
      "{'criterion': 'mae', 'max_features': 'sqrt'}\n"
     ]
    }
   ],
   "source": [
    "from sklearn.model_selection import GridSearchCV\n",
    "from sklearn.ensemble import RandomForestRegressor\n",
    "\n",
    "parameters = {'criterion': ['mse','mae'],'max_features': [\"auto\", \"sqrt\",\"log2\"]}\n",
    "rf = RandomForestRegressor()\n",
    "\n",
    "gd = GridSearchCV(rf,parameters)\n",
    "gd.fit(x_train,y_train)\n",
    "\n",
    "print(gd.best_params_)"
   ]
  },
  {
   "cell_type": "code",
   "execution_count": 341,
   "id": "c1811f10",
   "metadata": {},
   "outputs": [
    {
     "data": {
      "text/plain": [
       "0.4904250168339076"
      ]
     },
     "execution_count": 341,
     "metadata": {},
     "output_type": "execute_result"
    }
   ],
   "source": [
    "gd.best_score_"
   ]
  },
  {
   "cell_type": "code",
   "execution_count": 349,
   "id": "762d7e75",
   "metadata": {},
   "outputs": [
    {
     "name": "stdout",
     "output_type": "stream",
     "text": [
      "at random state 42, mean squared error is 0.7341531434337162\n",
      "at random state 42, mean absolute error is 0.6234787333126358\n",
      "at random state 42, training accuracy is 0.9101478845799628\n",
      "at random state 42, testing accuracy is 0.5460088072757829\n",
      "\n",
      "\n"
     ]
    }
   ],
   "source": [
    "from sklearn.model_selection import GridSearchCV\n",
    "from sklearn.ensemble import RandomForestRegressor\n",
    "x_train,x_test,y_train,y_test=train_test_split(dfx,y,random_state=22,test_size=0.20)\n",
    "rf = RandomForestRegressor(criterion= 'mae', max_features= 'sqrt')\n",
    "rf.fit(x_train,y_train)\n",
    "pred_train=rf.predict(x_train)\n",
    "pred_test=rf.predict(x_test)\n",
    "print(f\"at random state {42}, mean squared error is {mean_squared_error(y_train,pred_train)}\")\n",
    "print(f\"at random state {42}, mean absolute error is {mean_absolute_error(y_train,pred_train)}\")\n",
    "print(f\"at random state {42}, training accuracy is {r2_score(y_train,pred_train)}\")\n",
    "print(f\"at random state {42}, testing accuracy is {r2_score(y_test,pred_test)}\")\n",
    "print(\"\\n\")"
   ]
  },
  {
   "cell_type": "code",
   "execution_count": 348,
   "id": "e1a7f357",
   "metadata": {},
   "outputs": [
    {
     "name": "stdout",
     "output_type": "stream",
     "text": [
      "at random state 0, training accuracy is 0.9161840295966038\n",
      "at random state 0, testing accuracy is 0.48395733150282094\n",
      "\n",
      "\n",
      "at random state 1, training accuracy is 0.914936826870583\n",
      "at random state 1, testing accuracy is 0.48075620457529233\n",
      "\n",
      "\n",
      "at random state 2, training accuracy is 0.9134278984032146\n",
      "at random state 2, testing accuracy is 0.49398473315588476\n",
      "\n",
      "\n",
      "at random state 3, training accuracy is 0.9154782729780779\n",
      "at random state 3, testing accuracy is 0.4609623014754015\n",
      "\n",
      "\n",
      "at random state 4, training accuracy is 0.9106516989067628\n",
      "at random state 4, testing accuracy is 0.5182160672548091\n",
      "\n",
      "\n",
      "at random state 5, training accuracy is 0.9169260699566266\n",
      "at random state 5, testing accuracy is 0.4681059468269556\n",
      "\n",
      "\n",
      "at random state 6, training accuracy is 0.9110079242637994\n",
      "at random state 6, testing accuracy is 0.5138913450776963\n",
      "\n",
      "\n",
      "at random state 7, training accuracy is 0.9140567175853721\n",
      "at random state 7, testing accuracy is 0.4605714334596359\n",
      "\n",
      "\n",
      "at random state 8, training accuracy is 0.9106280431795133\n",
      "at random state 8, testing accuracy is 0.5326017678828274\n",
      "\n",
      "\n",
      "at random state 9, training accuracy is 0.9133208045717176\n",
      "at random state 9, testing accuracy is 0.5192206493955626\n",
      "\n",
      "\n",
      "at random state 10, training accuracy is 0.9112127519189608\n",
      "at random state 10, testing accuracy is 0.5350443654990559\n",
      "\n",
      "\n",
      "at random state 11, training accuracy is 0.9079525563366826\n",
      "at random state 11, testing accuracy is 0.5176042923475959\n",
      "\n",
      "\n",
      "at random state 12, training accuracy is 0.9116767161430916\n",
      "at random state 12, testing accuracy is 0.5245089508733293\n",
      "\n",
      "\n",
      "at random state 13, training accuracy is 0.9109052916397753\n",
      "at random state 13, testing accuracy is 0.509924593698873\n",
      "\n",
      "\n",
      "at random state 14, training accuracy is 0.9106972758732041\n",
      "at random state 14, testing accuracy is 0.4896994386108261\n",
      "\n",
      "\n",
      "at random state 15, training accuracy is 0.912147085238902\n",
      "at random state 15, testing accuracy is 0.5308048755650434\n",
      "\n",
      "\n",
      "at random state 16, training accuracy is 0.9134900039422018\n",
      "at random state 16, testing accuracy is 0.49539086854652636\n",
      "\n",
      "\n",
      "at random state 17, training accuracy is 0.9155753931642182\n",
      "at random state 17, testing accuracy is 0.47406528173749996\n",
      "\n",
      "\n",
      "at random state 18, training accuracy is 0.91184135060278\n",
      "at random state 18, testing accuracy is 0.5283602040660456\n",
      "\n",
      "\n",
      "at random state 19, training accuracy is 0.9153421082707358\n",
      "at random state 19, testing accuracy is 0.457326850131786\n",
      "\n",
      "\n",
      "at random state 20, training accuracy is 0.9099396671956583\n",
      "at random state 20, testing accuracy is 0.5406607105094219\n",
      "\n",
      "\n",
      "at random state 21, training accuracy is 0.9124254985147368\n",
      "at random state 21, testing accuracy is 0.5090216591802439\n",
      "\n",
      "\n",
      "at random state 22, training accuracy is 0.9109945539713111\n",
      "at random state 22, testing accuracy is 0.55063036523653\n",
      "\n",
      "\n",
      "at random state 23, training accuracy is 0.9117887940741136\n",
      "at random state 23, testing accuracy is 0.5214413831196129\n",
      "\n",
      "\n",
      "at random state 24, training accuracy is 0.9133312304792618\n",
      "at random state 24, testing accuracy is 0.5054533758232123\n",
      "\n",
      "\n",
      "at random state 25, training accuracy is 0.9164890158244892\n",
      "at random state 25, testing accuracy is 0.4604449703089091\n",
      "\n",
      "\n",
      "at random state 26, training accuracy is 0.9142512298445519\n",
      "at random state 26, testing accuracy is 0.4711584843647538\n",
      "\n",
      "\n",
      "at random state 27, training accuracy is 0.9148898632656062\n",
      "at random state 27, testing accuracy is 0.46754083761762755\n",
      "\n",
      "\n",
      "at random state 28, training accuracy is 0.9139376351901259\n",
      "at random state 28, testing accuracy is 0.507118336687689\n",
      "\n",
      "\n",
      "at random state 29, training accuracy is 0.9130597028944103\n",
      "at random state 29, testing accuracy is 0.49189333120792833\n",
      "\n",
      "\n",
      "at random state 30, training accuracy is 0.9133569273696087\n",
      "at random state 30, testing accuracy is 0.48321020546587345\n",
      "\n",
      "\n",
      "at random state 31, training accuracy is 0.9140517082504316\n",
      "at random state 31, testing accuracy is 0.4805875211885531\n",
      "\n",
      "\n",
      "at random state 32, training accuracy is 0.9141383190553379\n",
      "at random state 32, testing accuracy is 0.4521175404456882\n",
      "\n",
      "\n",
      "at random state 33, training accuracy is 0.9151423952654292\n",
      "at random state 33, testing accuracy is 0.4874240724166332\n",
      "\n",
      "\n",
      "at random state 34, training accuracy is 0.9116396004221058\n",
      "at random state 34, testing accuracy is 0.5000667775376615\n",
      "\n",
      "\n",
      "at random state 35, training accuracy is 0.9126757554125601\n",
      "at random state 35, testing accuracy is 0.5160492500530799\n",
      "\n",
      "\n",
      "at random state 36, training accuracy is 0.9139243014831132\n",
      "at random state 36, testing accuracy is 0.4925074256329346\n",
      "\n",
      "\n",
      "at random state 37, training accuracy is 0.9169491700849159\n",
      "at random state 37, testing accuracy is 0.47807506798206567\n",
      "\n",
      "\n",
      "at random state 38, training accuracy is 0.911189570847184\n",
      "at random state 38, testing accuracy is 0.5045362333511381\n",
      "\n",
      "\n",
      "at random state 39, training accuracy is 0.9134835990741447\n",
      "at random state 39, testing accuracy is 0.5066132003194537\n",
      "\n",
      "\n",
      "at random state 40, training accuracy is 0.9136622785888553\n",
      "at random state 40, testing accuracy is 0.5324975132647483\n",
      "\n",
      "\n",
      "at random state 41, training accuracy is 0.9122396752615258\n",
      "at random state 41, testing accuracy is 0.5087365610466363\n",
      "\n",
      "\n",
      "at random state 42, training accuracy is 0.9124550587927014\n",
      "at random state 42, testing accuracy is 0.49633687884666366\n",
      "\n",
      "\n",
      "at random state 43, training accuracy is 0.9137430799619416\n",
      "at random state 43, testing accuracy is 0.5023586847126369\n",
      "\n",
      "\n",
      "at random state 44, training accuracy is 0.9124187512474607\n",
      "at random state 44, testing accuracy is 0.4950919702448542\n",
      "\n",
      "\n",
      "at random state 45, training accuracy is 0.9105129029924203\n",
      "at random state 45, testing accuracy is 0.5375946779310921\n",
      "\n",
      "\n",
      "at random state 46, training accuracy is 0.9144409010565451\n",
      "at random state 46, testing accuracy is 0.49503816788713084\n",
      "\n",
      "\n",
      "at random state 47, training accuracy is 0.910914570600346\n",
      "at random state 47, testing accuracy is 0.5233880818091765\n",
      "\n",
      "\n",
      "at random state 48, training accuracy is 0.9146490701038459\n",
      "at random state 48, testing accuracy is 0.4579070273345063\n",
      "\n",
      "\n",
      "at random state 49, training accuracy is 0.9140227184644144\n",
      "at random state 49, testing accuracy is 0.5053549224231382\n",
      "\n",
      "\n",
      "at random state 50, training accuracy is 0.9136815434275678\n",
      "at random state 50, testing accuracy is 0.48104943229516706\n",
      "\n",
      "\n",
      "at random state 51, training accuracy is 0.9144003316221878\n",
      "at random state 51, testing accuracy is 0.5000469031388508\n",
      "\n",
      "\n",
      "at random state 52, training accuracy is 0.9158468361035128\n",
      "at random state 52, testing accuracy is 0.46920231411560775\n",
      "\n",
      "\n",
      "at random state 53, training accuracy is 0.9165021851272351\n",
      "at random state 53, testing accuracy is 0.40723962594139773\n",
      "\n",
      "\n",
      "at random state 54, training accuracy is 0.9132202204894833\n",
      "at random state 54, testing accuracy is 0.4622813540729618\n",
      "\n",
      "\n",
      "at random state 55, training accuracy is 0.9123946914374781\n",
      "at random state 55, testing accuracy is 0.49197970559192006\n",
      "\n",
      "\n",
      "at random state 56, training accuracy is 0.9136313157499178\n",
      "at random state 56, testing accuracy is 0.4629054887392021\n",
      "\n",
      "\n",
      "at random state 57, training accuracy is 0.915651488023898\n",
      "at random state 57, testing accuracy is 0.5052164135061437\n",
      "\n",
      "\n",
      "at random state 58, training accuracy is 0.9134524231624302\n",
      "at random state 58, testing accuracy is 0.5388525775553252\n",
      "\n",
      "\n",
      "at random state 59, training accuracy is 0.9145525423831046\n",
      "at random state 59, testing accuracy is 0.511167036512154\n",
      "\n",
      "\n",
      "at random state 60, training accuracy is 0.9085679770751557\n",
      "at random state 60, testing accuracy is 0.5114217795977172\n",
      "\n",
      "\n",
      "at random state 61, training accuracy is 0.9129314385760801\n",
      "at random state 61, testing accuracy is 0.49518941220479407\n",
      "\n",
      "\n",
      "at random state 62, training accuracy is 0.9118757061037124\n",
      "at random state 62, testing accuracy is 0.5493440740150405\n",
      "\n",
      "\n",
      "at random state 63, training accuracy is 0.9132504138883557\n",
      "at random state 63, testing accuracy is 0.47114026248178864\n",
      "\n",
      "\n",
      "at random state 64, training accuracy is 0.9138769641265005\n",
      "at random state 64, testing accuracy is 0.4986917709937624\n",
      "\n",
      "\n",
      "at random state 65, training accuracy is 0.9122426491444752\n",
      "at random state 65, testing accuracy is 0.5047237112174953\n",
      "\n",
      "\n",
      "at random state 66, training accuracy is 0.9134743103282023\n",
      "at random state 66, testing accuracy is 0.4841220015913199\n",
      "\n",
      "\n",
      "at random state 67, training accuracy is 0.9128401905668395\n",
      "at random state 67, testing accuracy is 0.4689676091862598\n",
      "\n",
      "\n"
     ]
    },
    {
     "name": "stdout",
     "output_type": "stream",
     "text": [
      "at random state 68, training accuracy is 0.9160792183907532\n",
      "at random state 68, testing accuracy is 0.4876755868676408\n",
      "\n",
      "\n",
      "at random state 69, training accuracy is 0.9105217013812272\n",
      "at random state 69, testing accuracy is 0.5171160399854865\n",
      "\n",
      "\n",
      "at random state 70, training accuracy is 0.9151039722604347\n",
      "at random state 70, testing accuracy is 0.4795786176805743\n",
      "\n",
      "\n",
      "at random state 71, training accuracy is 0.9112921746180419\n",
      "at random state 71, testing accuracy is 0.5241992217850644\n",
      "\n",
      "\n",
      "at random state 72, training accuracy is 0.9092300419072243\n",
      "at random state 72, testing accuracy is 0.5099795271968094\n",
      "\n",
      "\n",
      "at random state 73, training accuracy is 0.9140164206580009\n",
      "at random state 73, testing accuracy is 0.5096307127185462\n",
      "\n",
      "\n",
      "at random state 74, training accuracy is 0.9142615278082439\n",
      "at random state 74, testing accuracy is 0.506681861906107\n",
      "\n",
      "\n",
      "at random state 75, training accuracy is 0.9125214385495365\n",
      "at random state 75, testing accuracy is 0.5093753759841042\n",
      "\n",
      "\n",
      "at random state 76, training accuracy is 0.9140975457356431\n",
      "at random state 76, testing accuracy is 0.4797123677001822\n",
      "\n",
      "\n",
      "at random state 77, training accuracy is 0.9118161576184991\n",
      "at random state 77, testing accuracy is 0.4977579045701038\n",
      "\n",
      "\n",
      "at random state 78, training accuracy is 0.9110215161552045\n",
      "at random state 78, testing accuracy is 0.514374752519178\n",
      "\n",
      "\n",
      "at random state 79, training accuracy is 0.9104028611194799\n",
      "at random state 79, testing accuracy is 0.5195685071844436\n",
      "\n",
      "\n",
      "at random state 80, training accuracy is 0.9132415039625713\n",
      "at random state 80, testing accuracy is 0.5291930910573711\n",
      "\n",
      "\n",
      "at random state 81, training accuracy is 0.9122621462102702\n",
      "at random state 81, testing accuracy is 0.4983972763925708\n",
      "\n",
      "\n",
      "at random state 82, training accuracy is 0.913401317475666\n",
      "at random state 82, testing accuracy is 0.5124903795946625\n",
      "\n",
      "\n",
      "at random state 83, training accuracy is 0.9136260429008957\n",
      "at random state 83, testing accuracy is 0.47929497189346604\n",
      "\n",
      "\n",
      "at random state 84, training accuracy is 0.9158472320887765\n",
      "at random state 84, testing accuracy is 0.48976565699531227\n",
      "\n",
      "\n",
      "at random state 85, training accuracy is 0.9148824415955699\n",
      "at random state 85, testing accuracy is 0.4724915658529576\n",
      "\n",
      "\n",
      "at random state 86, training accuracy is 0.9109364082334619\n",
      "at random state 86, testing accuracy is 0.5164826870258952\n",
      "\n",
      "\n",
      "at random state 87, training accuracy is 0.9097555395620087\n",
      "at random state 87, testing accuracy is 0.4829614422244356\n",
      "\n",
      "\n",
      "at random state 88, training accuracy is 0.9138116548262365\n",
      "at random state 88, testing accuracy is 0.48105764145986685\n",
      "\n",
      "\n",
      "at random state 89, training accuracy is 0.9137048586975817\n",
      "at random state 89, testing accuracy is 0.5136835261495913\n",
      "\n",
      "\n",
      "at random state 90, training accuracy is 0.9153105631059617\n",
      "at random state 90, testing accuracy is 0.49272492518189637\n",
      "\n",
      "\n",
      "at random state 91, training accuracy is 0.9154680472495001\n",
      "at random state 91, testing accuracy is 0.4956893339291365\n",
      "\n",
      "\n",
      "at random state 92, training accuracy is 0.9154038033382517\n",
      "at random state 92, testing accuracy is 0.4965148696087409\n",
      "\n",
      "\n",
      "at random state 93, training accuracy is 0.9136804283478042\n",
      "at random state 93, testing accuracy is 0.4641183333373171\n",
      "\n",
      "\n",
      "at random state 94, training accuracy is 0.9151159572118996\n",
      "at random state 94, testing accuracy is 0.4806273142717231\n",
      "\n",
      "\n",
      "at random state 95, training accuracy is 0.9130680403238729\n",
      "at random state 95, testing accuracy is 0.5222535550182628\n",
      "\n",
      "\n",
      "at random state 96, training accuracy is 0.912992486773686\n",
      "at random state 96, testing accuracy is 0.4991377900783128\n",
      "\n",
      "\n",
      "at random state 97, training accuracy is 0.9138691456918819\n",
      "at random state 97, testing accuracy is 0.5079712247759303\n",
      "\n",
      "\n",
      "at random state 98, training accuracy is 0.9133171896758124\n",
      "at random state 98, testing accuracy is 0.5019275999806594\n",
      "\n",
      "\n",
      "at random state 99, training accuracy is 0.9116771034912508\n",
      "at random state 99, testing accuracy is 0.5099817975099254\n",
      "\n",
      "\n"
     ]
    }
   ],
   "source": [
    "model_selection(rf)"
   ]
  },
  {
   "cell_type": "markdown",
   "id": "6372ddeb",
   "metadata": {},
   "source": [
    "# model saving"
   ]
  },
  {
   "cell_type": "code",
   "execution_count": 343,
   "id": "8f7d82a3",
   "metadata": {},
   "outputs": [],
   "source": [
    "import pickle\n",
    "filename = 'abalone.pkl'\n",
    "pickle.dump(rf,open(filename, 'wb'))"
   ]
  },
  {
   "cell_type": "code",
   "execution_count": null,
   "id": "9d253dce",
   "metadata": {},
   "outputs": [],
   "source": []
  }
 ],
 "metadata": {
  "kernelspec": {
   "display_name": "Python 3 (ipykernel)",
   "language": "python",
   "name": "python3"
  },
  "language_info": {
   "codemirror_mode": {
    "name": "ipython",
    "version": 3
   },
   "file_extension": ".py",
   "mimetype": "text/x-python",
   "name": "python",
   "nbconvert_exporter": "python",
   "pygments_lexer": "ipython3",
   "version": "3.9.7"
  }
 },
 "nbformat": 4,
 "nbformat_minor": 5
}
